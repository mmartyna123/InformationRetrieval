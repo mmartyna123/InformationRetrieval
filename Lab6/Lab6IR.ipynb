{
  "cells": [
    {
      "cell_type": "markdown",
      "metadata": {},
      "source": [
        "## Information Retrieval lab6"
      ]
    },
    {
      "cell_type": "markdown",
      "metadata": {},
      "source": [
        "- Martyna Stasiak id.156071\n",
        "- Maria Musiał id.156062\n",
        "----"
      ]
    },
    {
      "cell_type": "code",
      "execution_count": 102,
      "metadata": {
        "id": "m7j-DVyzTi88"
      },
      "outputs": [],
      "source": [
        "import pandas as pd\n",
        "from mlxtend.frequent_patterns import apriori, fpgrowth, association_rules\n",
        "import ast\n",
        "import matplotlib.pyplot as plt\n",
        "import networkx as nx"
      ]
    },
    {
      "cell_type": "markdown",
      "metadata": {
        "id": "wlkZNZYmTomr"
      },
      "source": [
        "You shall already be familiar with the concept of association rules and the apriori algorithm. Association rule mining is a method for discovering patterns within large data sets. It focuses on identifying relationships between variables and leveraging those connections to make predictions or informed decisions. The primary objective is to uncover rules that reveal the associations between various items in the data.\n",
        "\n"
      ]
    },
    {
      "cell_type": "markdown",
      "metadata": {
        "id": "DYf82VJMT9Ce"
      },
      "source": [
        "### Task 1\n",
        "Load data from data.txt file - it contains lists of grocery shopping done by nearly 2000 customers.\n",
        "Store it in a boolean one hot encoded dataframe - True for items bought in a given transaction, False otherwise."
      ]
    },
    {
      "cell_type": "code",
      "execution_count": 103,
      "metadata": {
        "id": "lzKKrAaHT8pm"
      },
      "outputs": [
        {
          "name": "stdout",
          "output_type": "stream",
          "text": [
            "There are 1916 transactoins.\n",
            "There are 18 unique items.\n",
            "And those are:\n",
            "['apple', 'banana', 'beef', 'bread', 'butter', 'cheese', 'chicken', 'chocolate', 'eggs', 'grill', 'ketchup', 'milk', 'mustard', 'orange', 'pork', 'sausage', 'wagyu', 'yogurt']\n"
          ]
        }
      ],
      "source": [
        "with open('data.txt', 'r') as file:\n",
        "    lines = file.readlines()\n",
        "    \n",
        "transactions = [ast.literal_eval(line.strip()) for line in lines]\n",
        "\n",
        "unique_items = sorted(set(item for transaction in transactions for item in transaction))\n",
        "print(f\"There are {len(transactions)} transactoins.\")\n",
        "print(f\"There are {len(unique_items)} unique items.\")\n",
        "print(f\"And those are:\")\n",
        "print(unique_items)"
      ]
    },
    {
      "cell_type": "code",
      "execution_count": 104,
      "metadata": {
        "id": "Fy_GMHBlUZRT"
      },
      "outputs": [
        {
          "name": "stdout",
          "output_type": "stream",
          "text": [
            "The number of rows in the basket dataframe is 1916\n",
            "The number of columns in the basket dataframe is 18\n",
            "Here is the basket dataframe:\n"
          ]
        },
        {
          "data": {
            "text/html": [
              "<div>\n",
              "<style scoped>\n",
              "    .dataframe tbody tr th:only-of-type {\n",
              "        vertical-align: middle;\n",
              "    }\n",
              "\n",
              "    .dataframe tbody tr th {\n",
              "        vertical-align: top;\n",
              "    }\n",
              "\n",
              "    .dataframe thead th {\n",
              "        text-align: right;\n",
              "    }\n",
              "</style>\n",
              "<table border=\"1\" class=\"dataframe\">\n",
              "  <thead>\n",
              "    <tr style=\"text-align: right;\">\n",
              "      <th></th>\n",
              "      <th>apple</th>\n",
              "      <th>banana</th>\n",
              "      <th>beef</th>\n",
              "      <th>bread</th>\n",
              "      <th>butter</th>\n",
              "      <th>cheese</th>\n",
              "      <th>chicken</th>\n",
              "      <th>chocolate</th>\n",
              "      <th>eggs</th>\n",
              "      <th>grill</th>\n",
              "      <th>ketchup</th>\n",
              "      <th>milk</th>\n",
              "      <th>mustard</th>\n",
              "      <th>orange</th>\n",
              "      <th>pork</th>\n",
              "      <th>sausage</th>\n",
              "      <th>wagyu</th>\n",
              "      <th>yogurt</th>\n",
              "    </tr>\n",
              "  </thead>\n",
              "  <tbody>\n",
              "    <tr>\n",
              "      <th>0</th>\n",
              "      <td>True</td>\n",
              "      <td>True</td>\n",
              "      <td>False</td>\n",
              "      <td>False</td>\n",
              "      <td>False</td>\n",
              "      <td>False</td>\n",
              "      <td>True</td>\n",
              "      <td>True</td>\n",
              "      <td>False</td>\n",
              "      <td>False</td>\n",
              "      <td>False</td>\n",
              "      <td>True</td>\n",
              "      <td>False</td>\n",
              "      <td>True</td>\n",
              "      <td>False</td>\n",
              "      <td>False</td>\n",
              "      <td>False</td>\n",
              "      <td>False</td>\n",
              "    </tr>\n",
              "    <tr>\n",
              "      <th>1</th>\n",
              "      <td>False</td>\n",
              "      <td>False</td>\n",
              "      <td>False</td>\n",
              "      <td>False</td>\n",
              "      <td>False</td>\n",
              "      <td>True</td>\n",
              "      <td>False</td>\n",
              "      <td>False</td>\n",
              "      <td>False</td>\n",
              "      <td>False</td>\n",
              "      <td>False</td>\n",
              "      <td>True</td>\n",
              "      <td>False</td>\n",
              "      <td>False</td>\n",
              "      <td>False</td>\n",
              "      <td>False</td>\n",
              "      <td>False</td>\n",
              "      <td>True</td>\n",
              "    </tr>\n",
              "    <tr>\n",
              "      <th>2</th>\n",
              "      <td>False</td>\n",
              "      <td>False</td>\n",
              "      <td>False</td>\n",
              "      <td>False</td>\n",
              "      <td>False</td>\n",
              "      <td>False</td>\n",
              "      <td>True</td>\n",
              "      <td>False</td>\n",
              "      <td>False</td>\n",
              "      <td>False</td>\n",
              "      <td>False</td>\n",
              "      <td>False</td>\n",
              "      <td>False</td>\n",
              "      <td>False</td>\n",
              "      <td>False</td>\n",
              "      <td>False</td>\n",
              "      <td>False</td>\n",
              "      <td>False</td>\n",
              "    </tr>\n",
              "    <tr>\n",
              "      <th>3</th>\n",
              "      <td>False</td>\n",
              "      <td>False</td>\n",
              "      <td>False</td>\n",
              "      <td>False</td>\n",
              "      <td>False</td>\n",
              "      <td>False</td>\n",
              "      <td>False</td>\n",
              "      <td>False</td>\n",
              "      <td>False</td>\n",
              "      <td>False</td>\n",
              "      <td>False</td>\n",
              "      <td>True</td>\n",
              "      <td>False</td>\n",
              "      <td>False</td>\n",
              "      <td>True</td>\n",
              "      <td>False</td>\n",
              "      <td>False</td>\n",
              "      <td>False</td>\n",
              "    </tr>\n",
              "    <tr>\n",
              "      <th>4</th>\n",
              "      <td>False</td>\n",
              "      <td>False</td>\n",
              "      <td>False</td>\n",
              "      <td>False</td>\n",
              "      <td>False</td>\n",
              "      <td>False</td>\n",
              "      <td>True</td>\n",
              "      <td>False</td>\n",
              "      <td>False</td>\n",
              "      <td>False</td>\n",
              "      <td>False</td>\n",
              "      <td>False</td>\n",
              "      <td>False</td>\n",
              "      <td>False</td>\n",
              "      <td>False</td>\n",
              "      <td>False</td>\n",
              "      <td>False</td>\n",
              "      <td>False</td>\n",
              "    </tr>\n",
              "  </tbody>\n",
              "</table>\n",
              "</div>"
            ],
            "text/plain": [
              "   apple  banana   beef  bread  butter  cheese  chicken  chocolate   eggs  \\\n",
              "0   True    True  False  False   False   False     True       True  False   \n",
              "1  False   False  False  False   False    True    False      False  False   \n",
              "2  False   False  False  False   False   False     True      False  False   \n",
              "3  False   False  False  False   False   False    False      False  False   \n",
              "4  False   False  False  False   False   False     True      False  False   \n",
              "\n",
              "   grill  ketchup   milk  mustard  orange   pork  sausage  wagyu  yogurt  \n",
              "0  False    False   True    False    True  False    False  False   False  \n",
              "1  False    False   True    False   False  False    False  False    True  \n",
              "2  False    False  False    False   False  False    False  False   False  \n",
              "3  False    False   True    False   False   True    False  False   False  \n",
              "4  False    False  False    False   False  False    False  False   False  "
            ]
          },
          "execution_count": 104,
          "metadata": {},
          "output_type": "execute_result"
        }
      ],
      "source": [
        "#create a dataframe where each row is a transaction and each column is an item\n",
        "basketdf = pd.DataFrame([{item: item in transaction for item in unique_items} for transaction in transactions]) \n",
        "basketdf = basketdf.astype(bool) #converting to T/F\n",
        "\n",
        "print(f\"The number of rows in the basket dataframe is {basketdf.shape[0]}\")\n",
        "print(f\"The number of columns in the basket dataframe is {basketdf.shape[1]}\")\n",
        "print(f\"Here is the basket dataframe:\")\n",
        "basketdf.head()"
      ]
    },
    {
      "cell_type": "markdown",
      "metadata": {
        "id": "bihU2pq9iGXc"
      },
      "source": [
        "To extract rules you can use e.g. apriori algorithm implemented in mlxtend. There are other algorithms performing the same task but using different approaches e.g. fpgrowth internally uses a tree-based structure which makes it faster in most real-life examples."
      ]
    },
    {
      "cell_type": "markdown",
      "metadata": {},
      "source": [
        "----"
      ]
    },
    {
      "cell_type": "markdown",
      "metadata": {
        "id": "Czrrnlaskgt1"
      },
      "source": [
        "### Task 2\n",
        "Find association rules using selected algorithm"
      ]
    },
    {
      "cell_type": "markdown",
      "metadata": {},
      "source": [
        "### `Apriori`"
      ]
    },
    {
      "cell_type": "markdown",
      "metadata": {},
      "source": [
        "First we have used the apriori algorithm using `apriori` function fom `mlxtend.frequent_patterns` library, with minimal supprt of 0.1 meaning that the itemset (containing at least 1 item or more)  has to appear in at least of 10% of the transaction. From this we got 19 frequent itemsets.<br>\n",
        "Then we chose the minimal confidence of 0.5 meaning that for a rule *X → Y* at least 50% of the transactions containing item *X* also contained *Y*. Next we have used the `association_rules` function from the same library to get the association rules. This allowed us to get the frequent but also reliable association rules.<br>\n",
        "After extracting the rules we have analized them and visualized them on the two types of plots.\n",
        "-  Heatmap of Lift - it represets the lift values of the association rules, where the antecedents (so the *X* part of the rule) are shown on the y-axis and the consequents (the *Y* part of the rule) on the x-axis. Each cell represents the lift of a particular rule. Lift values greater than 1 indicate a strong positive correlation, while values close to 1 suggest independence between the antecedent and consequent.\n",
        "- Network Graph - represents the association rules as a directed graph. Each node corresponds to an item or itemset, and the edges represent the rules *X → Y*, with the direction indicating the association. The edge labels display the lift values of the rules<br>\n",
        "\n",
        "\n",
        "The rule that had the highest lift and other metrics was `grill → sausage`, which makes a lot of sense since they are oftey bought by the people together since they are used together for barbecues and geilling."
      ]
    },
    {
      "cell_type": "code",
      "execution_count": 105,
      "metadata": {
        "id": "oDU9OEQkps1-"
      },
      "outputs": [
        {
          "name": "stdout",
          "output_type": "stream",
          "text": [
            "Number of frequent itemsets with min support of 0.1 is 19\n",
            "Here are the frequent itemsets:\n",
            "     support            itemsets\n",
            "0   0.151879             (apple)\n",
            "1   0.165449            (banana)\n",
            "2   0.127871              (beef)\n",
            "3   0.253653             (bread)\n",
            "4   0.212422            (cheese)\n",
            "5   0.420668           (chicken)\n",
            "6   0.179541         (chocolate)\n",
            "7   0.113257             (grill)\n",
            "8   0.400313              (milk)\n",
            "9   0.162317            (orange)\n",
            "10  0.205115              (pork)\n",
            "11  0.248434           (sausage)\n",
            "12  0.237474            (yogurt)\n",
            "13  0.104384    (bread, chicken)\n",
            "14  0.149791     (milk, chicken)\n",
            "15  0.102296  (sausage, chicken)\n",
            "16  0.122651   (milk, chocolate)\n",
            "17  0.105428    (sausage, grill)\n",
            "18  0.129436      (milk, yogurt)\n"
          ]
        }
      ],
      "source": [
        "minSup = 0.1 #iteset has to appear in at least 10% of the transactions\n",
        "frequent_itemsets = apriori(basketdf, min_support=minSup, use_colnames=True)\n",
        "print(f\"Number of frequent itemsets with min support of {minSup} is {frequent_itemsets.shape[0]}\")\n",
        "print(f\"Here are the frequent itemsets:\")\n",
        "print(frequent_itemsets)\n"
      ]
    },
    {
      "cell_type": "code",
      "execution_count": 106,
      "metadata": {
        "id": "mLqDfYIspstu"
      },
      "outputs": [
        {
          "name": "stdout",
          "output_type": "stream",
          "text": [
            "Number of rules with min confidence of 0.5 is 3\n",
            "The achieved rules:\n"
          ]
        },
        {
          "data": {
            "text/html": [
              "<div>\n",
              "<style scoped>\n",
              "    .dataframe tbody tr th:only-of-type {\n",
              "        vertical-align: middle;\n",
              "    }\n",
              "\n",
              "    .dataframe tbody tr th {\n",
              "        vertical-align: top;\n",
              "    }\n",
              "\n",
              "    .dataframe thead th {\n",
              "        text-align: right;\n",
              "    }\n",
              "</style>\n",
              "<table border=\"1\" class=\"dataframe\">\n",
              "  <thead>\n",
              "    <tr style=\"text-align: right;\">\n",
              "      <th></th>\n",
              "      <th>antecedents</th>\n",
              "      <th>consequents</th>\n",
              "      <th>antecedent support</th>\n",
              "      <th>consequent support</th>\n",
              "      <th>support</th>\n",
              "      <th>confidence</th>\n",
              "      <th>lift</th>\n",
              "      <th>leverage</th>\n",
              "      <th>conviction</th>\n",
              "      <th>zhangs_metric</th>\n",
              "    </tr>\n",
              "  </thead>\n",
              "  <tbody>\n",
              "    <tr>\n",
              "      <th>1</th>\n",
              "      <td>(grill)</td>\n",
              "      <td>(sausage)</td>\n",
              "      <td>0.113257</td>\n",
              "      <td>0.248434</td>\n",
              "      <td>0.105428</td>\n",
              "      <td>0.930876</td>\n",
              "      <td>3.746970</td>\n",
              "      <td>0.077291</td>\n",
              "      <td>10.872651</td>\n",
              "      <td>0.826753</td>\n",
              "    </tr>\n",
              "    <tr>\n",
              "      <th>0</th>\n",
              "      <td>(chocolate)</td>\n",
              "      <td>(milk)</td>\n",
              "      <td>0.179541</td>\n",
              "      <td>0.400313</td>\n",
              "      <td>0.122651</td>\n",
              "      <td>0.683140</td>\n",
              "      <td>1.706513</td>\n",
              "      <td>0.050779</td>\n",
              "      <td>1.892590</td>\n",
              "      <td>0.504607</td>\n",
              "    </tr>\n",
              "    <tr>\n",
              "      <th>2</th>\n",
              "      <td>(yogurt)</td>\n",
              "      <td>(milk)</td>\n",
              "      <td>0.237474</td>\n",
              "      <td>0.400313</td>\n",
              "      <td>0.129436</td>\n",
              "      <td>0.545055</td>\n",
              "      <td>1.361571</td>\n",
              "      <td>0.034372</td>\n",
              "      <td>1.318152</td>\n",
              "      <td>0.348256</td>\n",
              "    </tr>\n",
              "  </tbody>\n",
              "</table>\n",
              "</div>"
            ],
            "text/plain": [
              "   antecedents consequents  antecedent support  consequent support   support  \\\n",
              "1      (grill)   (sausage)            0.113257            0.248434  0.105428   \n",
              "0  (chocolate)      (milk)            0.179541            0.400313  0.122651   \n",
              "2     (yogurt)      (milk)            0.237474            0.400313  0.129436   \n",
              "\n",
              "   confidence      lift  leverage  conviction  zhangs_metric  \n",
              "1    0.930876  3.746970  0.077291   10.872651       0.826753  \n",
              "0    0.683140  1.706513  0.050779    1.892590       0.504607  \n",
              "2    0.545055  1.361571  0.034372    1.318152       0.348256  "
            ]
          },
          "execution_count": 106,
          "metadata": {},
          "output_type": "execute_result"
        }
      ],
      "source": [
        "minConf = 0.5 \n",
        "rules = association_rules(frequent_itemsets, metric=\"confidence\", min_threshold=minConf)\n",
        "print(f\"Number of rules with min confidence of {minConf} is {rules.shape[0]}\")\n",
        "print(f\"The achieved rules:\")\n",
        "rules.sort_values(by='confidence', ascending=False)"
      ]
    },
    {
      "cell_type": "code",
      "execution_count": 107,
      "metadata": {},
      "outputs": [
        {
          "data": {
            "image/png": "[encoded data removed]",
            "text/plain": [
              "<Figure size 800x600 with 2 Axes>"
            ]
          },
          "metadata": {},
          "output_type": "display_data"
        }
      ],
      "source": [
        "import seaborn as sns\n",
        "\n",
        "# preparing data for heatmap\n",
        "rules['antecedents'] = rules['antecedents'].apply(lambda x: ''.join(list(x)))\n",
        "rules['consequents'] = rules['consequents'].apply(lambda x: ''.join(list(x)))\n",
        "rules_heatmap = rules.pivot(index='antecedents', columns='consequents', values='lift')\n",
        "\n",
        "# Adjust figure size\n",
        "plt.figure(figsize=(8, 6))\n",
        "\n",
        "# heatmap\n",
        "sns.set(font_scale=1.0)  \n",
        "sns.heatmap(\n",
        "    rules_heatmap,\n",
        "    annot=True,\n",
        "    fmt=\".2f\",\n",
        "    cmap=\"coolwarm\",\n",
        "    cbar_kws={'label': 'Lift'},\n",
        "    annot_kws={\"fontsize\": 10},  \n",
        ")\n",
        "\n",
        "plt.title('Heatmap of Lift for achieved Association Rules', fontsize=14)\n",
        "plt.xlabel('Consequents', fontsize=12)\n",
        "plt.ylabel('Antecedents', fontsize=12)\n",
        "\n",
        "# Show plot\n",
        "plt.show()\n"
      ]
    },
    {
      "cell_type": "code",
      "execution_count": 108,
      "metadata": {},
      "outputs": [
        {
          "data": {
            "image/png": "[encoded data removed]",
            "text/plain": [
              "<Figure size 800x500 with 1 Axes>"
            ]
          },
          "metadata": {},
          "output_type": "display_data"
        }
      ],
      "source": [
        "#directed graph\n",
        "G = nx.DiGraph()\n",
        "# adding edges for each rule\n",
        "for i, rule in rules.iterrows():\n",
        "    G.add_edge(''.join(list(rule['antecedents'])), ''.join(list(rule['consequents'])), weight=rule['lift'])\n",
        "\n",
        "\n",
        "plt.figure(figsize=(8, 5))\n",
        "pos = nx.spring_layout(G, k=0.5, seed=42)  # Positioning of nodes\n",
        "nx.draw(G, pos, with_labels=True, node_size=1500, node_color=\"pink\", font_size=10, edge_color='gray')\n",
        "edge_labels = nx.get_edge_attributes(G, 'weight')\n",
        "nx.draw_networkx_edge_labels(G, pos, edge_labels={k: f\"{v:.2f}\" for k, v in edge_labels.items()}, font_color='red')\n",
        "plt.title('Network Graph of Association Rules (Edge Label: Lift)')\n",
        "plt.show()\n"
      ]
    },
    {
      "cell_type": "markdown",
      "metadata": {},
      "source": [
        "### `FP-Growth`"
      ]
    },
    {
      "cell_type": "markdown",
      "metadata": {},
      "source": [
        "Next we have tested the `FP-Growth` algorithm, by following the same steps as in the `apriori` from above but we got the exact same results in the form of rules. <br>\n",
        "And extracted `rules_fp` is the same as `rules` because the `fpgrowth` algorithm is equivalent to the `apriori` algorithm in this case."
      ]
    },
    {
      "cell_type": "code",
      "execution_count": 109,
      "metadata": {},
      "outputs": [
        {
          "name": "stdout",
          "output_type": "stream",
          "text": [
            "Number of frequent itemsets with min support of 0.1 is 19\n",
            "Here are the frequent itemsets:\n",
            "     support            itemsets\n",
            "0   0.420668           (chicken)\n",
            "1   0.400313              (milk)\n",
            "2   0.179541         (chocolate)\n",
            "3   0.165449            (banana)\n",
            "4   0.162317            (orange)\n",
            "5   0.151879             (apple)\n",
            "6   0.237474            (yogurt)\n",
            "7   0.212422            (cheese)\n",
            "8   0.205115              (pork)\n",
            "9   0.248434           (sausage)\n",
            "10  0.127871              (beef)\n",
            "11  0.253653             (bread)\n",
            "12  0.113257             (grill)\n",
            "13  0.149791     (milk, chicken)\n",
            "14  0.122651   (milk, chocolate)\n",
            "15  0.129436      (milk, yogurt)\n",
            "16  0.102296  (sausage, chicken)\n",
            "17  0.104384    (bread, chicken)\n",
            "18  0.105428    (sausage, grill)\n"
          ]
        }
      ],
      "source": [
        "minSup = 0.1 #iteset has to appear in at least 10% of the transactions\n",
        "frequent_itemsets_fp = fpgrowth(basketdf, min_support=minSup, use_colnames=True)\n",
        "print(f\"Number of frequent itemsets with min support of {minSup} is {frequent_itemsets_fp.shape[0]}\")\n",
        "print(f\"Here are the frequent itemsets:\")\n",
        "print(frequent_itemsets_fp)"
      ]
    },
    {
      "cell_type": "code",
      "execution_count": 110,
      "metadata": {},
      "outputs": [
        {
          "name": "stdout",
          "output_type": "stream",
          "text": [
            "Number of rules with min confidence of 0.5 is 3\n",
            "The achieved rules:\n"
          ]
        },
        {
          "data": {
            "text/html": [
              "<div>\n",
              "<style scoped>\n",
              "    .dataframe tbody tr th:only-of-type {\n",
              "        vertical-align: middle;\n",
              "    }\n",
              "\n",
              "    .dataframe tbody tr th {\n",
              "        vertical-align: top;\n",
              "    }\n",
              "\n",
              "    .dataframe thead th {\n",
              "        text-align: right;\n",
              "    }\n",
              "</style>\n",
              "<table border=\"1\" class=\"dataframe\">\n",
              "  <thead>\n",
              "    <tr style=\"text-align: right;\">\n",
              "      <th></th>\n",
              "      <th>antecedents</th>\n",
              "      <th>consequents</th>\n",
              "      <th>antecedent support</th>\n",
              "      <th>consequent support</th>\n",
              "      <th>support</th>\n",
              "      <th>confidence</th>\n",
              "      <th>lift</th>\n",
              "      <th>leverage</th>\n",
              "      <th>conviction</th>\n",
              "      <th>zhangs_metric</th>\n",
              "    </tr>\n",
              "  </thead>\n",
              "  <tbody>\n",
              "    <tr>\n",
              "      <th>2</th>\n",
              "      <td>(grill)</td>\n",
              "      <td>(sausage)</td>\n",
              "      <td>0.113257</td>\n",
              "      <td>0.248434</td>\n",
              "      <td>0.105428</td>\n",
              "      <td>0.930876</td>\n",
              "      <td>3.746970</td>\n",
              "      <td>0.077291</td>\n",
              "      <td>10.872651</td>\n",
              "      <td>0.826753</td>\n",
              "    </tr>\n",
              "    <tr>\n",
              "      <th>0</th>\n",
              "      <td>(chocolate)</td>\n",
              "      <td>(milk)</td>\n",
              "      <td>0.179541</td>\n",
              "      <td>0.400313</td>\n",
              "      <td>0.122651</td>\n",
              "      <td>0.683140</td>\n",
              "      <td>1.706513</td>\n",
              "      <td>0.050779</td>\n",
              "      <td>1.892590</td>\n",
              "      <td>0.504607</td>\n",
              "    </tr>\n",
              "    <tr>\n",
              "      <th>1</th>\n",
              "      <td>(yogurt)</td>\n",
              "      <td>(milk)</td>\n",
              "      <td>0.237474</td>\n",
              "      <td>0.400313</td>\n",
              "      <td>0.129436</td>\n",
              "      <td>0.545055</td>\n",
              "      <td>1.361571</td>\n",
              "      <td>0.034372</td>\n",
              "      <td>1.318152</td>\n",
              "      <td>0.348256</td>\n",
              "    </tr>\n",
              "  </tbody>\n",
              "</table>\n",
              "</div>"
            ],
            "text/plain": [
              "   antecedents consequents  antecedent support  consequent support   support  \\\n",
              "2      (grill)   (sausage)            0.113257            0.248434  0.105428   \n",
              "0  (chocolate)      (milk)            0.179541            0.400313  0.122651   \n",
              "1     (yogurt)      (milk)            0.237474            0.400313  0.129436   \n",
              "\n",
              "   confidence      lift  leverage  conviction  zhangs_metric  \n",
              "2    0.930876  3.746970  0.077291   10.872651       0.826753  \n",
              "0    0.683140  1.706513  0.050779    1.892590       0.504607  \n",
              "1    0.545055  1.361571  0.034372    1.318152       0.348256  "
            ]
          },
          "execution_count": 110,
          "metadata": {},
          "output_type": "execute_result"
        }
      ],
      "source": [
        "minConf = 0.5 \n",
        "rules_fp = association_rules(frequent_itemsets_fp, metric=\"confidence\", min_threshold=minConf)\n",
        "print(f\"Number of rules with min confidence of {minConf} is {rules_fp.shape[0]}\")\n",
        "print(f\"The achieved rules:\")\n",
        "rules_fp.sort_values(by='confidence', ascending=False)"
      ]
    },
    {
      "cell_type": "markdown",
      "metadata": {},
      "source": [
        "----"
      ]
    },
    {
      "cell_type": "markdown",
      "metadata": {
        "id": "wRphkwbxkpnr"
      },
      "source": [
        "### Task 3\n",
        "The association rules are characterized by high support - frequency in the dataset. Can you use this algorithm as a base and try to extract different types of rules:\n",
        " - dissociation rules e.g. buying Porshe and Rolex is not frequent in the dataset, but usually people who bought Porshe also bought Rolex\n",
        " - negative rules e.g. if someone bought low-fat milk it's unlikely there will be whole milk in the basket\n",
        " - disjunction e.g. eggs and (kielecki xor winiary ;) )\n",
        " - imagine 50% of baskets have milk and 50% of baskets have tea. If there is no relation between them then in ~25% of baskets we will have both. If milk appears together with tea in e.g. 40% of baskets it means there is a pattern. Can you find such rules and use statistical tests to check if the relation is strong?\n",
        "\n",
        " Send the report within 144 hours starting from the end of this class to gmiebs@cs.put.poznan.pl; start this email's subject with [IR]\n"
      ]
    },
    {
      "cell_type": "markdown",
      "metadata": {},
      "source": [
        "---"
      ]
    },
    {
      "cell_type": "markdown",
      "metadata": {
        "id": "QUm7d7Lkpvtn"
      },
      "source": [
        "### 3.1) Dissociation rules\n",
        "The dissociation rules uncover the patterns between itemsets that are not frequent but have the great probability of occuring together, just like when someone buys Porsche, it is quite probable that the person also bought Rolex but population wise those purchases are not so frequent."
      ]
    },
    {
      "cell_type": "markdown",
      "metadata": {},
      "source": [
        "First we follow the same steps as previosuly, but we change the parameters;<br>\n",
        "First I have chosen the minimal support of 1% meaning that the itemset should appear in at least 1% of the transactions and that is wuite a drop from the previosly used 10% but thanks to this we may find the dissociation rules- items dont appear frequently but when they do, they do appear *almost* always together."
      ]
    },
    {
      "cell_type": "code",
      "execution_count": 111,
      "metadata": {},
      "outputs": [
        {
          "data": {
            "text/html": [
              "<div>\n",
              "<style scoped>\n",
              "    .dataframe tbody tr th:only-of-type {\n",
              "        vertical-align: middle;\n",
              "    }\n",
              "\n",
              "    .dataframe tbody tr th {\n",
              "        vertical-align: top;\n",
              "    }\n",
              "\n",
              "    .dataframe thead th {\n",
              "        text-align: right;\n",
              "    }\n",
              "</style>\n",
              "<table border=\"1\" class=\"dataframe\">\n",
              "  <thead>\n",
              "    <tr style=\"text-align: right;\">\n",
              "      <th></th>\n",
              "      <th>antecedents</th>\n",
              "      <th>consequents</th>\n",
              "      <th>antecedent support</th>\n",
              "      <th>consequent support</th>\n",
              "      <th>support</th>\n",
              "      <th>confidence</th>\n",
              "      <th>lift</th>\n",
              "      <th>leverage</th>\n",
              "      <th>conviction</th>\n",
              "      <th>zhangs_metric</th>\n",
              "    </tr>\n",
              "  </thead>\n",
              "  <tbody>\n",
              "    <tr>\n",
              "      <th>85</th>\n",
              "      <td>(sausage, ketchup, orange)</td>\n",
              "      <td>(grill)</td>\n",
              "      <td>0.007829</td>\n",
              "      <td>0.113257</td>\n",
              "      <td>0.007829</td>\n",
              "      <td>1.000000</td>\n",
              "      <td>8.829493</td>\n",
              "      <td>0.006942</td>\n",
              "      <td>inf</td>\n",
              "      <td>0.893740</td>\n",
              "    </tr>\n",
              "    <tr>\n",
              "      <th>91</th>\n",
              "      <td>(mustard, milk, sausage)</td>\n",
              "      <td>(grill)</td>\n",
              "      <td>0.022965</td>\n",
              "      <td>0.113257</td>\n",
              "      <td>0.022965</td>\n",
              "      <td>1.000000</td>\n",
              "      <td>8.829493</td>\n",
              "      <td>0.020364</td>\n",
              "      <td>inf</td>\n",
              "      <td>0.907585</td>\n",
              "    </tr>\n",
              "    <tr>\n",
              "      <th>123</th>\n",
              "      <td>(sausage, ketchup, banana, orange)</td>\n",
              "      <td>(grill)</td>\n",
              "      <td>0.005741</td>\n",
              "      <td>0.113257</td>\n",
              "      <td>0.005741</td>\n",
              "      <td>1.000000</td>\n",
              "      <td>8.829493</td>\n",
              "      <td>0.005091</td>\n",
              "      <td>inf</td>\n",
              "      <td>0.891864</td>\n",
              "    </tr>\n",
              "    <tr>\n",
              "      <th>122</th>\n",
              "      <td>(apple, ketchup, grill, orange)</td>\n",
              "      <td>(sausage)</td>\n",
              "      <td>0.005219</td>\n",
              "      <td>0.248434</td>\n",
              "      <td>0.005219</td>\n",
              "      <td>1.000000</td>\n",
              "      <td>4.025210</td>\n",
              "      <td>0.003923</td>\n",
              "      <td>inf</td>\n",
              "      <td>0.755509</td>\n",
              "    </tr>\n",
              "    <tr>\n",
              "      <th>121</th>\n",
              "      <td>(sausage, ketchup, orange, apple)</td>\n",
              "      <td>(grill)</td>\n",
              "      <td>0.005219</td>\n",
              "      <td>0.113257</td>\n",
              "      <td>0.005219</td>\n",
              "      <td>1.000000</td>\n",
              "      <td>8.829493</td>\n",
              "      <td>0.004628</td>\n",
              "      <td>inf</td>\n",
              "      <td>0.891396</td>\n",
              "    </tr>\n",
              "    <tr>\n",
              "      <th>...</th>\n",
              "      <td>...</td>\n",
              "      <td>...</td>\n",
              "      <td>...</td>\n",
              "      <td>...</td>\n",
              "      <td>...</td>\n",
              "      <td>...</td>\n",
              "      <td>...</td>\n",
              "      <td>...</td>\n",
              "      <td>...</td>\n",
              "      <td>...</td>\n",
              "    </tr>\n",
              "    <tr>\n",
              "      <th>105</th>\n",
              "      <td>(ketchup, grill, banana, orange)</td>\n",
              "      <td>(apple)</td>\n",
              "      <td>0.005741</td>\n",
              "      <td>0.151879</td>\n",
              "      <td>0.005219</td>\n",
              "      <td>0.909091</td>\n",
              "      <td>5.985629</td>\n",
              "      <td>0.004347</td>\n",
              "      <td>9.329332</td>\n",
              "      <td>0.837743</td>\n",
              "    </tr>\n",
              "    <tr>\n",
              "      <th>119</th>\n",
              "      <td>(apple, ketchup, banana, orange)</td>\n",
              "      <td>(sausage)</td>\n",
              "      <td>0.005741</td>\n",
              "      <td>0.248434</td>\n",
              "      <td>0.005219</td>\n",
              "      <td>0.909091</td>\n",
              "      <td>3.659282</td>\n",
              "      <td>0.003793</td>\n",
              "      <td>8.267223</td>\n",
              "      <td>0.730919</td>\n",
              "    </tr>\n",
              "    <tr>\n",
              "      <th>18</th>\n",
              "      <td>(apple, banana, cheese)</td>\n",
              "      <td>(orange)</td>\n",
              "      <td>0.010960</td>\n",
              "      <td>0.162317</td>\n",
              "      <td>0.009916</td>\n",
              "      <td>0.904762</td>\n",
              "      <td>5.574032</td>\n",
              "      <td>0.008137</td>\n",
              "      <td>8.795668</td>\n",
              "      <td>0.829690</td>\n",
              "    </tr>\n",
              "    <tr>\n",
              "      <th>45</th>\n",
              "      <td>(bread, cheese, chocolate)</td>\n",
              "      <td>(milk)</td>\n",
              "      <td>0.010960</td>\n",
              "      <td>0.400313</td>\n",
              "      <td>0.009916</td>\n",
              "      <td>0.904762</td>\n",
              "      <td>2.260135</td>\n",
              "      <td>0.005529</td>\n",
              "      <td>6.296712</td>\n",
              "      <td>0.563727</td>\n",
              "    </tr>\n",
              "    <tr>\n",
              "      <th>28</th>\n",
              "      <td>(apple, banana, yogurt)</td>\n",
              "      <td>(orange)</td>\n",
              "      <td>0.015658</td>\n",
              "      <td>0.162317</td>\n",
              "      <td>0.014092</td>\n",
              "      <td>0.900000</td>\n",
              "      <td>5.544695</td>\n",
              "      <td>0.011550</td>\n",
              "      <td>8.376827</td>\n",
              "      <td>0.832685</td>\n",
              "    </tr>\n",
              "  </tbody>\n",
              "</table>\n",
              "<p>170 rows × 10 columns</p>\n",
              "</div>"
            ],
            "text/plain": [
              "                            antecedents consequents  antecedent support  \\\n",
              "85           (sausage, ketchup, orange)     (grill)            0.007829   \n",
              "91             (mustard, milk, sausage)     (grill)            0.022965   \n",
              "123  (sausage, ketchup, banana, orange)     (grill)            0.005741   \n",
              "122     (apple, ketchup, grill, orange)   (sausage)            0.005219   \n",
              "121   (sausage, ketchup, orange, apple)     (grill)            0.005219   \n",
              "..                                  ...         ...                 ...   \n",
              "105    (ketchup, grill, banana, orange)     (apple)            0.005741   \n",
              "119    (apple, ketchup, banana, orange)   (sausage)            0.005741   \n",
              "18              (apple, banana, cheese)    (orange)            0.010960   \n",
              "45           (bread, cheese, chocolate)      (milk)            0.010960   \n",
              "28              (apple, banana, yogurt)    (orange)            0.015658   \n",
              "\n",
              "     consequent support   support  confidence      lift  leverage  conviction  \\\n",
              "85             0.113257  0.007829    1.000000  8.829493  0.006942         inf   \n",
              "91             0.113257  0.022965    1.000000  8.829493  0.020364         inf   \n",
              "123            0.113257  0.005741    1.000000  8.829493  0.005091         inf   \n",
              "122            0.248434  0.005219    1.000000  4.025210  0.003923         inf   \n",
              "121            0.113257  0.005219    1.000000  8.829493  0.004628         inf   \n",
              "..                  ...       ...         ...       ...       ...         ...   \n",
              "105            0.151879  0.005219    0.909091  5.985629  0.004347    9.329332   \n",
              "119            0.248434  0.005219    0.909091  3.659282  0.003793    8.267223   \n",
              "18             0.162317  0.009916    0.904762  5.574032  0.008137    8.795668   \n",
              "45             0.400313  0.009916    0.904762  2.260135  0.005529    6.296712   \n",
              "28             0.162317  0.014092    0.900000  5.544695  0.011550    8.376827   \n",
              "\n",
              "     zhangs_metric  \n",
              "85        0.893740  \n",
              "91        0.907585  \n",
              "123       0.891864  \n",
              "122       0.755509  \n",
              "121       0.891396  \n",
              "..             ...  \n",
              "105       0.837743  \n",
              "119       0.730919  \n",
              "18        0.829690  \n",
              "45        0.563727  \n",
              "28        0.832685  \n",
              "\n",
              "[170 rows x 10 columns]"
            ]
          },
          "execution_count": 111,
          "metadata": {},
          "output_type": "execute_result"
        }
      ],
      "source": [
        "min_support_dissociation = 0.005  # itemset must appear in at least 0.5% of the baskets\n",
        "frequent_itemsets_rare = apriori(basketdf, min_support=min_support_dissociation, use_colnames=True) # Generate frequent itemsets with a low support base to get dissociation rules\n",
        "\n",
        "minConf = 0.9 # for rule x -> y, confidence must be at least 90% so that y is likely to be bought if x is bought\n",
        "rules_rare = association_rules(frequent_itemsets_rare, metric=\"confidence\", min_threshold=minConf)\n",
        "\n",
        "rules_rare.sort_values(by='confidence', ascending=False)"
      ]
    },
    {
      "cell_type": "code",
      "execution_count": 112,
      "metadata": {},
      "outputs": [
        {
          "name": "stdout",
          "output_type": "stream",
          "text": [
            "Dissociation Rules:\n",
            "Number of dissociation rules: 3\n"
          ]
        },
        {
          "data": {
            "text/html": [
              "<div>\n",
              "<style scoped>\n",
              "    .dataframe tbody tr th:only-of-type {\n",
              "        vertical-align: middle;\n",
              "    }\n",
              "\n",
              "    .dataframe tbody tr th {\n",
              "        vertical-align: top;\n",
              "    }\n",
              "\n",
              "    .dataframe thead th {\n",
              "        text-align: right;\n",
              "    }\n",
              "</style>\n",
              "<table border=\"1\" class=\"dataframe\">\n",
              "  <thead>\n",
              "    <tr style=\"text-align: right;\">\n",
              "      <th></th>\n",
              "      <th>antecedents</th>\n",
              "      <th>consequents</th>\n",
              "      <th>antecedent support</th>\n",
              "      <th>consequent support</th>\n",
              "      <th>support</th>\n",
              "      <th>confidence</th>\n",
              "      <th>lift</th>\n",
              "      <th>leverage</th>\n",
              "      <th>conviction</th>\n",
              "      <th>zhangs_metric</th>\n",
              "    </tr>\n",
              "  </thead>\n",
              "  <tbody>\n",
              "    <tr>\n",
              "      <th>164</th>\n",
              "      <td>(sausage, ketchup, orange, apple)</td>\n",
              "      <td>(grill, banana)</td>\n",
              "      <td>0.005219</td>\n",
              "      <td>0.019833</td>\n",
              "      <td>0.005219</td>\n",
              "      <td>1.000000</td>\n",
              "      <td>50.421053</td>\n",
              "      <td>0.005116</td>\n",
              "      <td>inf</td>\n",
              "      <td>0.985310</td>\n",
              "    </tr>\n",
              "    <tr>\n",
              "      <th>163</th>\n",
              "      <td>(sausage, ketchup, banana, orange)</td>\n",
              "      <td>(apple, grill)</td>\n",
              "      <td>0.005741</td>\n",
              "      <td>0.013570</td>\n",
              "      <td>0.005219</td>\n",
              "      <td>0.909091</td>\n",
              "      <td>66.993007</td>\n",
              "      <td>0.005141</td>\n",
              "      <td>10.850731</td>\n",
              "      <td>0.990761</td>\n",
              "    </tr>\n",
              "    <tr>\n",
              "      <th>165</th>\n",
              "      <td>(sausage, ketchup, banana, apple)</td>\n",
              "      <td>(grill, orange)</td>\n",
              "      <td>0.005741</td>\n",
              "      <td>0.017745</td>\n",
              "      <td>0.005219</td>\n",
              "      <td>0.909091</td>\n",
              "      <td>51.229947</td>\n",
              "      <td>0.005117</td>\n",
              "      <td>10.804802</td>\n",
              "      <td>0.986142</td>\n",
              "    </tr>\n",
              "  </tbody>\n",
              "</table>\n",
              "</div>"
            ],
            "text/plain": [
              "                            antecedents      consequents  antecedent support  \\\n",
              "164   (sausage, ketchup, orange, apple)  (grill, banana)            0.005219   \n",
              "163  (sausage, ketchup, banana, orange)   (apple, grill)            0.005741   \n",
              "165   (sausage, ketchup, banana, apple)  (grill, orange)            0.005741   \n",
              "\n",
              "     consequent support   support  confidence       lift  leverage  \\\n",
              "164            0.019833  0.005219    1.000000  50.421053  0.005116   \n",
              "163            0.013570  0.005219    0.909091  66.993007  0.005141   \n",
              "165            0.017745  0.005219    0.909091  51.229947  0.005117   \n",
              "\n",
              "     conviction  zhangs_metric  \n",
              "164         inf       0.985310  \n",
              "163   10.850731       0.990761  \n",
              "165   10.804802       0.986142  "
            ]
          },
          "execution_count": 112,
          "metadata": {},
          "output_type": "execute_result"
        }
      ],
      "source": [
        "# Now we filter rules with low support but high confidence\n",
        "dissociation_rules = rules_rare[(rules_rare['antecedent support'] < 0.02) & (rules_rare['consequent support'] < 0.02) & (rules_rare['confidence'] > 0.9)]\n",
        "print(\"Dissociation Rules:\")\n",
        "print(f\"Number of dissociation rules: {len(dissociation_rules)}\")\n",
        "dissociation_rules.sort_values(by='confidence', ascending=False)"
      ]
    },
    {
      "cell_type": "code",
      "execution_count": 113,
      "metadata": {},
      "outputs": [
        {
          "data": {
            "image/png": "[encoded data removed]",
            "text/plain": [
              "<Figure size 800x500 with 1 Axes>"
            ]
          },
          "metadata": {},
          "output_type": "display_data"
        }
      ],
      "source": [
        "#directed graph\n",
        "G = nx.DiGraph()\n",
        "# adding edges for each rule\n",
        "for i, rule in dissociation_rules.iterrows():\n",
        "    G.add_edge(','.join(list(rule['antecedents'])), ','.join(list(rule['consequents'])), weight=rule['lift'])\n",
        "\n",
        "\n",
        "plt.figure(figsize=(8, 5))\n",
        "pos = nx.spring_layout(G, k=0.5, seed=42)  # Positioning of nodes\n",
        "nx.draw(G, pos, with_labels=True, node_size=1500, node_color=\"pink\", font_size=10, edge_color='gray')\n",
        "edge_labels = nx.get_edge_attributes(G, 'weight')\n",
        "nx.draw_networkx_edge_labels(G, pos, edge_labels={k: f\"{v:.2f}\" for k, v in edge_labels.items()}, font_color='red')\n",
        "plt.title('Network Graph of Dissociation Rules (Edge Label: Lift)')\n",
        "plt.show()\n"
      ]
    },
    {
      "cell_type": "markdown",
      "metadata": {},
      "source": [
        "----"
      ]
    },
    {
      "cell_type": "markdown",
      "metadata": {},
      "source": [
        "### 3.2) Negative rules\n",
        "The negative rules are the ones that have a low confidence between *X → Y*, meaning that if a pearson have bought iten *X* it is highly unlikely that they will also buy product *Y*, <br> so like in the example if person have bought the lactose free milk it is unlikely that the will also buy the 'normal' milk with the lactose."
      ]
    },
    {
      "cell_type": "markdown",
      "metadata": {},
      "source": [
        "So when we wanted to get the dissociation rules it was crucial to 'play with' support, now we have to play with the confidence.<br>\n",
        "For that I have created the 'new basic' rules, where itemsets have to appear in at least 5% of the transactions and then adjusted the confidence and filtered out the ones where this confidence was really low to get the negative rules, so if a person bought product *X* it will be unlikely that they will also buy the product *Y*."
      ]
    },
    {
      "cell_type": "code",
      "execution_count": 114,
      "metadata": {},
      "outputs": [
        {
          "data": {
            "text/html": [
              "<div>\n",
              "<style scoped>\n",
              "    .dataframe tbody tr th:only-of-type {\n",
              "        vertical-align: middle;\n",
              "    }\n",
              "\n",
              "    .dataframe tbody tr th {\n",
              "        vertical-align: top;\n",
              "    }\n",
              "\n",
              "    .dataframe thead th {\n",
              "        text-align: right;\n",
              "    }\n",
              "</style>\n",
              "<table border=\"1\" class=\"dataframe\">\n",
              "  <thead>\n",
              "    <tr style=\"text-align: right;\">\n",
              "      <th></th>\n",
              "      <th>antecedents</th>\n",
              "      <th>consequents</th>\n",
              "      <th>antecedent support</th>\n",
              "      <th>consequent support</th>\n",
              "      <th>support</th>\n",
              "      <th>confidence</th>\n",
              "      <th>lift</th>\n",
              "      <th>leverage</th>\n",
              "      <th>conviction</th>\n",
              "      <th>zhangs_metric</th>\n",
              "    </tr>\n",
              "  </thead>\n",
              "  <tbody>\n",
              "    <tr>\n",
              "      <th>10</th>\n",
              "      <td>(milk)</td>\n",
              "      <td>(banana)</td>\n",
              "      <td>0.400313</td>\n",
              "      <td>0.165449</td>\n",
              "      <td>0.058455</td>\n",
              "      <td>0.146023</td>\n",
              "      <td>0.882590</td>\n",
              "      <td>-0.007776</td>\n",
              "      <td>0.977253</td>\n",
              "      <td>-0.181556</td>\n",
              "    </tr>\n",
              "    <tr>\n",
              "      <th>46</th>\n",
              "      <td>(milk)</td>\n",
              "      <td>(orange)</td>\n",
              "      <td>0.400313</td>\n",
              "      <td>0.162317</td>\n",
              "      <td>0.058455</td>\n",
              "      <td>0.146023</td>\n",
              "      <td>0.899617</td>\n",
              "      <td>-0.006523</td>\n",
              "      <td>0.980920</td>\n",
              "      <td>-0.156880</td>\n",
              "    </tr>\n",
              "  </tbody>\n",
              "</table>\n",
              "</div>"
            ],
            "text/plain": [
              "   antecedents consequents  antecedent support  consequent support   support  \\\n",
              "10      (milk)    (banana)            0.400313            0.165449  0.058455   \n",
              "46      (milk)    (orange)            0.400313            0.162317  0.058455   \n",
              "\n",
              "    confidence      lift  leverage  conviction  zhangs_metric  \n",
              "10    0.146023  0.882590 -0.007776    0.977253      -0.181556  \n",
              "46    0.146023  0.899617 -0.006523    0.980920      -0.156880  "
            ]
          },
          "execution_count": 114,
          "metadata": {},
          "output_type": "execute_result"
        }
      ],
      "source": [
        "minSup = 0.05 #iteset has to appear in at least 5% of the transactions\n",
        "frequent_itemsets_negative = apriori(basketdf, min_support=minSup, use_colnames=True)\n",
        "# print(f\"Number of frequent itemsets with min support of {minSup} is {frequent_itemsets_negative.shape[0]}\")\n",
        "# print(f\"Here are the frequent itemsets:\")\n",
        "# print(frequent_itemsets_negative)\n",
        "\n",
        "minConf = 0.0\n",
        "zero_rules = association_rules(frequent_itemsets_negative, metric=\"confidence\", min_threshold=minConf)\n",
        "# print(f\"Number of rules with min confidence of {minConf} is {rules.shape[0]}\")\n",
        "# print(f\"The achieved rules:\")\n",
        "# zero_rules.sort_values(by='confidence', ascending=True)\n",
        "\n",
        "#Now filtering the rules that are negative\n",
        "negative_rules = zero_rules[(zero_rules['confidence'] < 0.15) & (zero_rules['lift'] < 0.9)]\n",
        "negative_rules.sort_values(by='confidence', ascending=True)"
      ]
    },
    {
      "cell_type": "code",
      "execution_count": 115,
      "metadata": {},
      "outputs": [
        {
          "data": {
            "image/png": "[encoded data removed]",
            "text/plain": [
              "<Figure size 800x500 with 1 Axes>"
            ]
          },
          "metadata": {},
          "output_type": "display_data"
        }
      ],
      "source": [
        "#directed graph\n",
        "G = nx.DiGraph()\n",
        "# adding edges for each rule\n",
        "for i, rule in negative_rules.iterrows():\n",
        "    G.add_edge(','.join(list(rule['antecedents'])), ','.join(list(rule['consequents'])), weight=rule['lift'])\n",
        "\n",
        "\n",
        "plt.figure(figsize=(8, 5))\n",
        "pos = nx.spring_layout(G, k=0.5, seed=42)  # Positioning of nodes\n",
        "nx.draw(G, pos, with_labels=True, node_size=1500, node_color=\"pink\", font_size=10, edge_color='gray')\n",
        "edge_labels = nx.get_edge_attributes(G, 'weight')\n",
        "nx.draw_networkx_edge_labels(G, pos, edge_labels={k: f\"{v:.2f}\" for k, v in edge_labels.items()}, font_color='red')\n",
        "plt.title('Network Graph of Negative Rules (Edge Label: Lift)')\n",
        "plt.show()\n"
      ]
    },
    {
      "cell_type": "markdown",
      "metadata": {},
      "source": [
        "------"
      ]
    },
    {
      "cell_type": "markdown",
      "metadata": {},
      "source": [
        "### 3.3) Disjunctions"
      ]
    },
    {
      "cell_type": "markdown",
      "metadata": {},
      "source": [
        "------"
      ]
    },
    {
      "cell_type": "markdown",
      "metadata": {},
      "source": [
        "### 3.4) statistical tests to check if the relations are strong"
      ]
    },
    {
      "cell_type": "markdown",
      "metadata": {},
      "source": [
        "-----"
      ]
    }
  ],
  "metadata": {
    "colab": {
      "provenance": []
    },
    "kernelspec": {
      "display_name": "Python 3",
      "name": "python3"
    },
    "language_info": {
      "codemirror_mode": {
        "name": "ipython",
        "version": 3
      },
      "file_extension": ".py",
      "mimetype": "text/x-python",
      "name": "python",
      "nbconvert_exporter": "python",
      "pygments_lexer": "ipython3",
      "version": "3.10.7"
    }
  },
  "nbformat": 4,
  "nbformat_minor": 0
}
