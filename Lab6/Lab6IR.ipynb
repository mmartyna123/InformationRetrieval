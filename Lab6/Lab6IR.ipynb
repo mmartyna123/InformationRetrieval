{
  "nbformat": 4,
  "nbformat_minor": 0,
  "metadata": {
    "colab": {
      "provenance": []
    },
    "kernelspec": {
      "name": "python3",
      "display_name": "Python 3"
    },
    "language_info": {
      "name": "python"
    }
  },
  "cells": [
    {
      "cell_type": "code",
      "execution_count": null,
      "metadata": {
        "id": "m7j-DVyzTi88"
      },
      "outputs": [],
      "source": [
        "import pandas as pd\n",
        "from mlxtend.frequent_patterns import apriori, fpgrowth"
      ]
    },
    {
      "cell_type": "markdown",
      "source": [
        "You shall already be familiar with the concept of association rules and the apriori algorithm. Association rule mining is a method for discovering patterns within large data sets. It focuses on identifying relationships between variables and leveraging those connections to make predictions or informed decisions. The primary objective is to uncover rules that reveal the associations between various items in the data.\n",
        "\n"
      ],
      "metadata": {
        "id": "wlkZNZYmTomr"
      }
    },
    {
      "cell_type": "markdown",
      "source": [
        "### Task\n",
        "Load data from data.txt file - it contains lists of grocery shopping done by nearly 2000 customers.\n",
        "Store it in a boolean one hot encoded dataframe - True for items bought in a given transaction, False otherwise."
      ],
      "metadata": {
        "id": "DYf82VJMT9Ce"
      }
    },
    {
      "cell_type": "code",
      "source": [],
      "metadata": {
        "id": "lzKKrAaHT8pm"
      },
      "execution_count": null,
      "outputs": []
    },
    {
      "cell_type": "code",
      "source": [],
      "metadata": {
        "id": "Fy_GMHBlUZRT"
      },
      "execution_count": null,
      "outputs": []
    },
    {
      "cell_type": "markdown",
      "source": [
        "To extract rules you can use e.g. apriori algorithm implemented in mlxtend. There are other algorithms performing the same task but using different approaches e.g. fpgrowth internally uses a tree-based structure which makes it faster in most real-life examples."
      ],
      "metadata": {
        "id": "bihU2pq9iGXc"
      }
    },
    {
      "cell_type": "markdown",
      "source": [
        "### Task\n",
        "Find association rules using selected algorithm"
      ],
      "metadata": {
        "id": "Czrrnlaskgt1"
      }
    },
    {
      "cell_type": "code",
      "source": [],
      "metadata": {
        "id": "oDU9OEQkps1-"
      },
      "execution_count": null,
      "outputs": []
    },
    {
      "cell_type": "code",
      "source": [],
      "metadata": {
        "id": "mLqDfYIspstu"
      },
      "execution_count": null,
      "outputs": []
    },
    {
      "cell_type": "markdown",
      "source": [
        "### Task\n",
        "The association rules are characterized by high support - frequency in the dataset. Can you use this algorithm as a base and try to extract different types of rules:\n",
        " - dissociation rules e.g. buying Porshe and Rolex is not frequent in the dataset, but usually people who bought Porshe also bought Rolex\n",
        " - negative rules e.g. if someone bought low-fat milk it's unlikely there will be whole milk in the basket\n",
        " - disjunction e.g. eggs and (kielecki xor winiary ;) )\n",
        " - imagine 50% of baskets have milk and 50% of baskets have tea. If there is no relation between them then in ~25% of baskets we will have both. If milk appears together with tea in e.g. 40% of baskets it means there is a pattern. Can you find such rules and use statistical tests to check if the relation is strong?\n",
        "\n",
        " Send the report within 144 hours starting from the end of this class to gmiebs@cs.put.poznan.pl; start this email's subject with [IR]\n"
      ],
      "metadata": {
        "id": "wRphkwbxkpnr"
      }
    },
    {
      "cell_type": "code",
      "source": [],
      "metadata": {
        "id": "QUm7d7Lkpvtn"
      },
      "execution_count": null,
      "outputs": []
    }
  ]
}