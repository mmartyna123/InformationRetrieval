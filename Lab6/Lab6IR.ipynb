{
  "cells": [
    {
      "cell_type": "markdown",
      "metadata": {},
      "source": [
        "## Information Retrieval lab6"
      ]
    },
    {
      "cell_type": "markdown",
      "metadata": {},
      "source": [
        "- Martyna Stasiak id.156071\n",
        "- Maria Musiał id.156062\n",
        "----"
      ]
    },
    {
      "cell_type": "code",
      "execution_count": 60,
      "metadata": {
        "id": "m7j-DVyzTi88"
      },
      "outputs": [],
      "source": [
        "import pandas as pd\n",
        "from mlxtend.frequent_patterns import apriori, fpgrowth, association_rules\n",
        "import ast\n",
        "import matplotlib.pyplot as plt\n",
        "import networkx as nx"
      ]
    },
    {
      "cell_type": "markdown",
      "metadata": {
        "id": "wlkZNZYmTomr"
      },
      "source": [
        "You shall already be familiar with the concept of association rules and the apriori algorithm. Association rule mining is a method for discovering patterns within large data sets. It focuses on identifying relationships between variables and leveraging those connections to make predictions or informed decisions. The primary objective is to uncover rules that reveal the associations between various items in the data.\n",
        "\n"
      ]
    },
    {
      "cell_type": "markdown",
      "metadata": {
        "id": "DYf82VJMT9Ce"
      },
      "source": [
        "### Task 1\n",
        "Load data from data.txt file - it contains lists of grocery shopping done by nearly 2000 customers.\n",
        "Store it in a boolean one hot encoded dataframe - True for items bought in a given transaction, False otherwise."
      ]
    },
    {
      "cell_type": "code",
      "execution_count": 61,
      "metadata": {
        "id": "lzKKrAaHT8pm"
      },
      "outputs": [
        {
          "name": "stdout",
          "output_type": "stream",
          "text": [
            "There are 1916 transactoins.\n",
            "There are 18 unique items.\n",
            "And those are:\n",
            "['apple', 'banana', 'beef', 'bread', 'butter', 'cheese', 'chicken', 'chocolate', 'eggs', 'grill', 'ketchup', 'milk', 'mustard', 'orange', 'pork', 'sausage', 'wagyu', 'yogurt']\n"
          ]
        }
      ],
      "source": [
        "with open('data.txt', 'r') as file:\n",
        "    lines = file.readlines()\n",
        "    \n",
        "transactions = [ast.literal_eval(line.strip()) for line in lines]\n",
        "\n",
        "unique_items = sorted(set(item for transaction in transactions for item in transaction))\n",
        "print(f\"There are {len(transactions)} transactoins.\")\n",
        "print(f\"There are {len(unique_items)} unique items.\")\n",
        "print(f\"And those are:\")\n",
        "print(unique_items)"
      ]
    },
    {
      "cell_type": "code",
      "execution_count": 62,
      "metadata": {
        "id": "Fy_GMHBlUZRT"
      },
      "outputs": [
        {
          "name": "stdout",
          "output_type": "stream",
          "text": [
            "The number of rows in the basket dataframe is 1916\n",
            "The number of columns in the basket dataframe is 18\n",
            "Here is the basket dataframe:\n"
          ]
        },
        {
          "data": {
            "text/html": [
              "<div>\n",
              "<style scoped>\n",
              "    .dataframe tbody tr th:only-of-type {\n",
              "        vertical-align: middle;\n",
              "    }\n",
              "\n",
              "    .dataframe tbody tr th {\n",
              "        vertical-align: top;\n",
              "    }\n",
              "\n",
              "    .dataframe thead th {\n",
              "        text-align: right;\n",
              "    }\n",
              "</style>\n",
              "<table border=\"1\" class=\"dataframe\">\n",
              "  <thead>\n",
              "    <tr style=\"text-align: right;\">\n",
              "      <th></th>\n",
              "      <th>apple</th>\n",
              "      <th>banana</th>\n",
              "      <th>beef</th>\n",
              "      <th>bread</th>\n",
              "      <th>butter</th>\n",
              "      <th>cheese</th>\n",
              "      <th>chicken</th>\n",
              "      <th>chocolate</th>\n",
              "      <th>eggs</th>\n",
              "      <th>grill</th>\n",
              "      <th>ketchup</th>\n",
              "      <th>milk</th>\n",
              "      <th>mustard</th>\n",
              "      <th>orange</th>\n",
              "      <th>pork</th>\n",
              "      <th>sausage</th>\n",
              "      <th>wagyu</th>\n",
              "      <th>yogurt</th>\n",
              "    </tr>\n",
              "  </thead>\n",
              "  <tbody>\n",
              "    <tr>\n",
              "      <th>0</th>\n",
              "      <td>True</td>\n",
              "      <td>True</td>\n",
              "      <td>False</td>\n",
              "      <td>False</td>\n",
              "      <td>False</td>\n",
              "      <td>False</td>\n",
              "      <td>True</td>\n",
              "      <td>True</td>\n",
              "      <td>False</td>\n",
              "      <td>False</td>\n",
              "      <td>False</td>\n",
              "      <td>True</td>\n",
              "      <td>False</td>\n",
              "      <td>True</td>\n",
              "      <td>False</td>\n",
              "      <td>False</td>\n",
              "      <td>False</td>\n",
              "      <td>False</td>\n",
              "    </tr>\n",
              "    <tr>\n",
              "      <th>1</th>\n",
              "      <td>False</td>\n",
              "      <td>False</td>\n",
              "      <td>False</td>\n",
              "      <td>False</td>\n",
              "      <td>False</td>\n",
              "      <td>True</td>\n",
              "      <td>False</td>\n",
              "      <td>False</td>\n",
              "      <td>False</td>\n",
              "      <td>False</td>\n",
              "      <td>False</td>\n",
              "      <td>True</td>\n",
              "      <td>False</td>\n",
              "      <td>False</td>\n",
              "      <td>False</td>\n",
              "      <td>False</td>\n",
              "      <td>False</td>\n",
              "      <td>True</td>\n",
              "    </tr>\n",
              "    <tr>\n",
              "      <th>2</th>\n",
              "      <td>False</td>\n",
              "      <td>False</td>\n",
              "      <td>False</td>\n",
              "      <td>False</td>\n",
              "      <td>False</td>\n",
              "      <td>False</td>\n",
              "      <td>True</td>\n",
              "      <td>False</td>\n",
              "      <td>False</td>\n",
              "      <td>False</td>\n",
              "      <td>False</td>\n",
              "      <td>False</td>\n",
              "      <td>False</td>\n",
              "      <td>False</td>\n",
              "      <td>False</td>\n",
              "      <td>False</td>\n",
              "      <td>False</td>\n",
              "      <td>False</td>\n",
              "    </tr>\n",
              "    <tr>\n",
              "      <th>3</th>\n",
              "      <td>False</td>\n",
              "      <td>False</td>\n",
              "      <td>False</td>\n",
              "      <td>False</td>\n",
              "      <td>False</td>\n",
              "      <td>False</td>\n",
              "      <td>False</td>\n",
              "      <td>False</td>\n",
              "      <td>False</td>\n",
              "      <td>False</td>\n",
              "      <td>False</td>\n",
              "      <td>True</td>\n",
              "      <td>False</td>\n",
              "      <td>False</td>\n",
              "      <td>True</td>\n",
              "      <td>False</td>\n",
              "      <td>False</td>\n",
              "      <td>False</td>\n",
              "    </tr>\n",
              "    <tr>\n",
              "      <th>4</th>\n",
              "      <td>False</td>\n",
              "      <td>False</td>\n",
              "      <td>False</td>\n",
              "      <td>False</td>\n",
              "      <td>False</td>\n",
              "      <td>False</td>\n",
              "      <td>True</td>\n",
              "      <td>False</td>\n",
              "      <td>False</td>\n",
              "      <td>False</td>\n",
              "      <td>False</td>\n",
              "      <td>False</td>\n",
              "      <td>False</td>\n",
              "      <td>False</td>\n",
              "      <td>False</td>\n",
              "      <td>False</td>\n",
              "      <td>False</td>\n",
              "      <td>False</td>\n",
              "    </tr>\n",
              "  </tbody>\n",
              "</table>\n",
              "</div>"
            ],
            "text/plain": [
              "   apple  banana   beef  bread  butter  cheese  chicken  chocolate   eggs  \\\n",
              "0   True    True  False  False   False   False     True       True  False   \n",
              "1  False   False  False  False   False    True    False      False  False   \n",
              "2  False   False  False  False   False   False     True      False  False   \n",
              "3  False   False  False  False   False   False    False      False  False   \n",
              "4  False   False  False  False   False   False     True      False  False   \n",
              "\n",
              "   grill  ketchup   milk  mustard  orange   pork  sausage  wagyu  yogurt  \n",
              "0  False    False   True    False    True  False    False  False   False  \n",
              "1  False    False   True    False   False  False    False  False    True  \n",
              "2  False    False  False    False   False  False    False  False   False  \n",
              "3  False    False   True    False   False   True    False  False   False  \n",
              "4  False    False  False    False   False  False    False  False   False  "
            ]
          },
          "execution_count": 62,
          "metadata": {},
          "output_type": "execute_result"
        }
      ],
      "source": [
        "#create a dataframe where each row is a transaction and each column is an item\n",
        "basketdf = pd.DataFrame([{item: item in transaction for item in unique_items} for transaction in transactions]) \n",
        "basketdf = basketdf.astype(bool) #converting to T/F\n",
        "\n",
        "print(f\"The number of rows in the basket dataframe is {basketdf.shape[0]}\")\n",
        "print(f\"The number of columns in the basket dataframe is {basketdf.shape[1]}\")\n",
        "print(f\"Here is the basket dataframe:\")\n",
        "basketdf.head()"
      ]
    },
    {
      "cell_type": "markdown",
      "metadata": {
        "id": "bihU2pq9iGXc"
      },
      "source": [
        "To extract rules you can use e.g. apriori algorithm implemented in mlxtend. There are other algorithms performing the same task but using different approaches e.g. fpgrowth internally uses a tree-based structure which makes it faster in most real-life examples."
      ]
    },
    {
      "cell_type": "markdown",
      "metadata": {},
      "source": [
        "----"
      ]
    },
    {
      "cell_type": "markdown",
      "metadata": {
        "id": "Czrrnlaskgt1"
      },
      "source": [
        "### Task 2\n",
        "Find association rules using selected algorithm"
      ]
    },
    {
      "cell_type": "markdown",
      "metadata": {},
      "source": [
        "### `Apriori`"
      ]
    },
    {
      "cell_type": "markdown",
      "metadata": {},
      "source": [
        "First we have used the apriori algorithm using `apriori` function fom `mlxtend.frequent_patterns` library, with minimal supprt of 0.1 meaning that the itemset (containing at least 1 item or more)  has to appear in at least of 10% of the transaction. From this we got 19 frequent itemsets.<br>\n",
        "Then we chose the minimal confidence of 0.5 meaning that for a rule *X → Y* at least 50% of the transactions containing item *X* also contained *Y*. Next we have used the `association_rules` function from the same library to get the association rules. This allowed us to get the frequent but also reliable association rules.<br>\n",
        "After extracting the rules we have analized them and visualized them on the two types of plots.\n",
        "-  Heatmap of Lift - it represets the lift values of the association rules, where the antecedents (so the *X* part of the rule) are shown on the y-axis and the consequents (the *Y* part of the rule) on the x-axis. Each cell represents the lift of a particular rule. Lift values greater than 1 indicate a strong positive correlation, while values close to 1 suggest independence between the antecedent and consequent.\n",
        "- Network Graph - represents the association rules as a directed graph. Each node corresponds to an item or itemset, and the edges represent the rules *X → Y*, with the direction indicating the association. The edge labels display the lift values of the rules<br>\n",
        "\n",
        "\n",
        "The rule that had the highest lift and other metrics was `grill → sausage`, which makes a lot of sense since they are oftey bought by the people together since they are used together for barbecues and geilling."
      ]
    },
    {
      "cell_type": "code",
      "execution_count": 63,
      "metadata": {
        "id": "oDU9OEQkps1-"
      },
      "outputs": [
        {
          "name": "stdout",
          "output_type": "stream",
          "text": [
            "Number of frequent itemsets with min support of 0.1 is 19\n",
            "Here are the frequent itemsets:\n",
            "     support            itemsets\n",
            "0   0.151879             (apple)\n",
            "1   0.165449            (banana)\n",
            "2   0.127871              (beef)\n",
            "3   0.253653             (bread)\n",
            "4   0.212422            (cheese)\n",
            "5   0.420668           (chicken)\n",
            "6   0.179541         (chocolate)\n",
            "7   0.113257             (grill)\n",
            "8   0.400313              (milk)\n",
            "9   0.162317            (orange)\n",
            "10  0.205115              (pork)\n",
            "11  0.248434           (sausage)\n",
            "12  0.237474            (yogurt)\n",
            "13  0.104384    (bread, chicken)\n",
            "14  0.149791     (milk, chicken)\n",
            "15  0.102296  (chicken, sausage)\n",
            "16  0.122651   (milk, chocolate)\n",
            "17  0.105428    (grill, sausage)\n",
            "18  0.129436      (milk, yogurt)\n"
          ]
        }
      ],
      "source": [
        "minSup = 0.1 #iteset has to appear in at least 10% of the transactions\n",
        "frequent_itemsets = apriori(basketdf, min_support=minSup, use_colnames=True)\n",
        "print(f\"Number of frequent itemsets with min support of {minSup} is {frequent_itemsets.shape[0]}\")\n",
        "print(f\"Here are the frequent itemsets:\")\n",
        "print(frequent_itemsets)\n"
      ]
    },
    {
      "cell_type": "code",
      "execution_count": 64,
      "metadata": {
        "id": "mLqDfYIspstu"
      },
      "outputs": [
        {
          "name": "stdout",
          "output_type": "stream",
          "text": [
            "Number of rules with min confidence of 0.5 is 3\n",
            "The achieved rules:\n"
          ]
        },
        {
          "data": {
            "text/html": [
              "<div>\n",
              "<style scoped>\n",
              "    .dataframe tbody tr th:only-of-type {\n",
              "        vertical-align: middle;\n",
              "    }\n",
              "\n",
              "    .dataframe tbody tr th {\n",
              "        vertical-align: top;\n",
              "    }\n",
              "\n",
              "    .dataframe thead th {\n",
              "        text-align: right;\n",
              "    }\n",
              "</style>\n",
              "<table border=\"1\" class=\"dataframe\">\n",
              "  <thead>\n",
              "    <tr style=\"text-align: right;\">\n",
              "      <th></th>\n",
              "      <th>antecedents</th>\n",
              "      <th>consequents</th>\n",
              "      <th>antecedent support</th>\n",
              "      <th>consequent support</th>\n",
              "      <th>support</th>\n",
              "      <th>confidence</th>\n",
              "      <th>lift</th>\n",
              "      <th>leverage</th>\n",
              "      <th>conviction</th>\n",
              "      <th>zhangs_metric</th>\n",
              "    </tr>\n",
              "  </thead>\n",
              "  <tbody>\n",
              "    <tr>\n",
              "      <th>1</th>\n",
              "      <td>(grill)</td>\n",
              "      <td>(sausage)</td>\n",
              "      <td>0.113257</td>\n",
              "      <td>0.248434</td>\n",
              "      <td>0.105428</td>\n",
              "      <td>0.930876</td>\n",
              "      <td>3.746970</td>\n",
              "      <td>0.077291</td>\n",
              "      <td>10.872651</td>\n",
              "      <td>0.826753</td>\n",
              "    </tr>\n",
              "    <tr>\n",
              "      <th>0</th>\n",
              "      <td>(chocolate)</td>\n",
              "      <td>(milk)</td>\n",
              "      <td>0.179541</td>\n",
              "      <td>0.400313</td>\n",
              "      <td>0.122651</td>\n",
              "      <td>0.683140</td>\n",
              "      <td>1.706513</td>\n",
              "      <td>0.050779</td>\n",
              "      <td>1.892590</td>\n",
              "      <td>0.504607</td>\n",
              "    </tr>\n",
              "    <tr>\n",
              "      <th>2</th>\n",
              "      <td>(yogurt)</td>\n",
              "      <td>(milk)</td>\n",
              "      <td>0.237474</td>\n",
              "      <td>0.400313</td>\n",
              "      <td>0.129436</td>\n",
              "      <td>0.545055</td>\n",
              "      <td>1.361571</td>\n",
              "      <td>0.034372</td>\n",
              "      <td>1.318152</td>\n",
              "      <td>0.348256</td>\n",
              "    </tr>\n",
              "  </tbody>\n",
              "</table>\n",
              "</div>"
            ],
            "text/plain": [
              "   antecedents consequents  antecedent support  consequent support   support  \\\n",
              "1      (grill)   (sausage)            0.113257            0.248434  0.105428   \n",
              "0  (chocolate)      (milk)            0.179541            0.400313  0.122651   \n",
              "2     (yogurt)      (milk)            0.237474            0.400313  0.129436   \n",
              "\n",
              "   confidence      lift  leverage  conviction  zhangs_metric  \n",
              "1    0.930876  3.746970  0.077291   10.872651       0.826753  \n",
              "0    0.683140  1.706513  0.050779    1.892590       0.504607  \n",
              "2    0.545055  1.361571  0.034372    1.318152       0.348256  "
            ]
          },
          "execution_count": 64,
          "metadata": {},
          "output_type": "execute_result"
        }
      ],
      "source": [
        "minConf = 0.5 \n",
        "rules = association_rules(frequent_itemsets, metric=\"confidence\", min_threshold=minConf)\n",
        "print(f\"Number of rules with min confidence of {minConf} is {rules.shape[0]}\")\n",
        "print(f\"The achieved rules:\")\n",
        "rules.sort_values(by='confidence', ascending=False)"
      ]
    },
    {
      "cell_type": "code",
      "execution_count": 65,
      "metadata": {},
      "outputs": [],
      "source": [
        "# import seaborn as sns\n",
        "\n",
        "# # preparing data for heatmap\n",
        "# rules['antecedents'] = rules['antecedents'].apply(lambda x: ''.join(list(x)))\n",
        "# rules['consequents'] = rules['consequents'].apply(lambda x: ''.join(list(x)))\n",
        "# rules_heatmap = rules.pivot(index='antecedents', columns='consequents', values='lift')\n",
        "\n",
        "# # Adjust figure size\n",
        "# plt.figure(figsize=(8, 6))\n",
        "\n",
        "# # heatmap\n",
        "# sns.set(font_scale=1.0)  \n",
        "# sns.heatmap(\n",
        "#     rules_heatmap,\n",
        "#     annot=True,\n",
        "#     fmt=\".2f\",\n",
        "#     cmap=\"coolwarm\",\n",
        "#     cbar_kws={'label': 'Lift'},\n",
        "#     annot_kws={\"fontsize\": 10},  \n",
        "# )\n",
        "\n",
        "# plt.title('Heatmap of Lift for achieved Association Rules', fontsize=14)\n",
        "# plt.xlabel('Consequents', fontsize=12)\n",
        "# plt.ylabel('Antecedents', fontsize=12)\n",
        "\n",
        "# # Show plot\n",
        "# plt.show()\n"
      ]
    },
    {
      "cell_type": "code",
      "execution_count": 66,
      "metadata": {},
      "outputs": [],
      "source": [
        "# #directed graph\n",
        "# G = nx.DiGraph()\n",
        "# # adding edges for each rule\n",
        "# for i, rule in rules.iterrows():\n",
        "#     G.add_edge(''.join(list(rule['antecedents'])), ''.join(list(rule['consequents'])), weight=rule['lift'])\n",
        "\n",
        "\n",
        "# plt.figure(figsize=(8, 5))\n",
        "# pos = nx.spring_layout(G, k=0.5, seed=42)  # Positioning of nodes\n",
        "# nx.draw(G, pos, with_labels=True, node_size=1500, node_color=\"pink\", font_size=10, edge_color='gray')\n",
        "# edge_labels = nx.get_edge_attributes(G, 'weight')\n",
        "# nx.draw_networkx_edge_labels(G, pos, edge_labels={k: f\"{v:.2f}\" for k, v in edge_labels.items()}, font_color='red')\n",
        "# plt.title('Network Graph of Association Rules (Edge Label: Lift)')\n",
        "# plt.show()\n"
      ]
    },
    {
      "cell_type": "markdown",
      "metadata": {},
      "source": [
        "### `FP-Growth`"
      ]
    },
    {
      "cell_type": "markdown",
      "metadata": {},
      "source": [
        "Next we have tested the `FP-Growth` algorithm, by following the same steps as in the `apriori` from above but we got the exact same results in the form of rules."
      ]
    },
    {
      "cell_type": "code",
      "execution_count": 67,
      "metadata": {},
      "outputs": [
        {
          "name": "stdout",
          "output_type": "stream",
          "text": [
            "Number of frequent itemsets with min support of 0.1 is 19\n",
            "Here are the frequent itemsets:\n",
            "     support            itemsets\n",
            "0   0.420668           (chicken)\n",
            "1   0.400313              (milk)\n",
            "2   0.179541         (chocolate)\n",
            "3   0.165449            (banana)\n",
            "4   0.162317            (orange)\n",
            "5   0.151879             (apple)\n",
            "6   0.237474            (yogurt)\n",
            "7   0.212422            (cheese)\n",
            "8   0.205115              (pork)\n",
            "9   0.248434           (sausage)\n",
            "10  0.127871              (beef)\n",
            "11  0.253653             (bread)\n",
            "12  0.113257             (grill)\n",
            "13  0.149791     (milk, chicken)\n",
            "14  0.122651   (milk, chocolate)\n",
            "15  0.129436      (milk, yogurt)\n",
            "16  0.102296  (chicken, sausage)\n",
            "17  0.104384    (bread, chicken)\n",
            "18  0.105428    (grill, sausage)\n"
          ]
        }
      ],
      "source": [
        "minSup = 0.1 #iteset has to appear in at least 10% of the transactions\n",
        "frequent_itemsets_fp = fpgrowth(basketdf, min_support=minSup, use_colnames=True)\n",
        "print(f\"Number of frequent itemsets with min support of {minSup} is {frequent_itemsets_fp.shape[0]}\")\n",
        "print(f\"Here are the frequent itemsets:\")\n",
        "print(frequent_itemsets_fp)"
      ]
    },
    {
      "cell_type": "code",
      "execution_count": 68,
      "metadata": {},
      "outputs": [
        {
          "name": "stdout",
          "output_type": "stream",
          "text": [
            "Number of rules with min confidence of 0.5 is 3\n",
            "The achieved rules:\n"
          ]
        },
        {
          "data": {
            "text/html": [
              "<div>\n",
              "<style scoped>\n",
              "    .dataframe tbody tr th:only-of-type {\n",
              "        vertical-align: middle;\n",
              "    }\n",
              "\n",
              "    .dataframe tbody tr th {\n",
              "        vertical-align: top;\n",
              "    }\n",
              "\n",
              "    .dataframe thead th {\n",
              "        text-align: right;\n",
              "    }\n",
              "</style>\n",
              "<table border=\"1\" class=\"dataframe\">\n",
              "  <thead>\n",
              "    <tr style=\"text-align: right;\">\n",
              "      <th></th>\n",
              "      <th>antecedents</th>\n",
              "      <th>consequents</th>\n",
              "      <th>antecedent support</th>\n",
              "      <th>consequent support</th>\n",
              "      <th>support</th>\n",
              "      <th>confidence</th>\n",
              "      <th>lift</th>\n",
              "      <th>leverage</th>\n",
              "      <th>conviction</th>\n",
              "      <th>zhangs_metric</th>\n",
              "    </tr>\n",
              "  </thead>\n",
              "  <tbody>\n",
              "    <tr>\n",
              "      <th>2</th>\n",
              "      <td>(grill)</td>\n",
              "      <td>(sausage)</td>\n",
              "      <td>0.113257</td>\n",
              "      <td>0.248434</td>\n",
              "      <td>0.105428</td>\n",
              "      <td>0.930876</td>\n",
              "      <td>3.746970</td>\n",
              "      <td>0.077291</td>\n",
              "      <td>10.872651</td>\n",
              "      <td>0.826753</td>\n",
              "    </tr>\n",
              "    <tr>\n",
              "      <th>0</th>\n",
              "      <td>(chocolate)</td>\n",
              "      <td>(milk)</td>\n",
              "      <td>0.179541</td>\n",
              "      <td>0.400313</td>\n",
              "      <td>0.122651</td>\n",
              "      <td>0.683140</td>\n",
              "      <td>1.706513</td>\n",
              "      <td>0.050779</td>\n",
              "      <td>1.892590</td>\n",
              "      <td>0.504607</td>\n",
              "    </tr>\n",
              "    <tr>\n",
              "      <th>1</th>\n",
              "      <td>(yogurt)</td>\n",
              "      <td>(milk)</td>\n",
              "      <td>0.237474</td>\n",
              "      <td>0.400313</td>\n",
              "      <td>0.129436</td>\n",
              "      <td>0.545055</td>\n",
              "      <td>1.361571</td>\n",
              "      <td>0.034372</td>\n",
              "      <td>1.318152</td>\n",
              "      <td>0.348256</td>\n",
              "    </tr>\n",
              "  </tbody>\n",
              "</table>\n",
              "</div>"
            ],
            "text/plain": [
              "   antecedents consequents  antecedent support  consequent support   support  \\\n",
              "2      (grill)   (sausage)            0.113257            0.248434  0.105428   \n",
              "0  (chocolate)      (milk)            0.179541            0.400313  0.122651   \n",
              "1     (yogurt)      (milk)            0.237474            0.400313  0.129436   \n",
              "\n",
              "   confidence      lift  leverage  conviction  zhangs_metric  \n",
              "2    0.930876  3.746970  0.077291   10.872651       0.826753  \n",
              "0    0.683140  1.706513  0.050779    1.892590       0.504607  \n",
              "1    0.545055  1.361571  0.034372    1.318152       0.348256  "
            ]
          },
          "execution_count": 68,
          "metadata": {},
          "output_type": "execute_result"
        }
      ],
      "source": [
        "minConf = 0.5 \n",
        "rules_fp = association_rules(frequent_itemsets_fp, metric=\"confidence\", min_threshold=minConf)\n",
        "print(f\"Number of rules with min confidence of {minConf} is {rules_fp.shape[0]}\")\n",
        "print(f\"The achieved rules:\")\n",
        "rules_fp.sort_values(by='confidence', ascending=False)"
      ]
    },
    {
      "cell_type": "markdown",
      "metadata": {},
      "source": [
        "----"
      ]
    },
    {
      "cell_type": "markdown",
      "metadata": {
        "id": "wRphkwbxkpnr"
      },
      "source": [
        "### Task 3\n",
        "The association rules are characterized by high support - frequency in the dataset. Can you use this algorithm as a base and try to extract different types of rules:\n",
        " - dissociation rules e.g. buying Porshe and Rolex is not frequent in the dataset, but usually people who bought Porshe also bought Rolex\n",
        " - negative rules e.g. if someone bought low-fat milk it's unlikely there will be whole milk in the basket\n",
        " - disjunction e.g. eggs and (kielecki xor winiary ;) )\n",
        " - imagine 50% of baskets have milk and 50% of baskets have tea. If there is no relation between them then in ~25% of baskets we will have both. If milk appears together with tea in e.g. 40% of baskets it means there is a pattern. Can you find such rules and use statistical tests to check if the relation is strong?\n",
        "\n",
        " Send the report within 144 hours starting from the end of this class to gmiebs@cs.put.poznan.pl; start this email's subject with [IR]\n"
      ]
    },
    {
      "cell_type": "code",
      "execution_count": null,
      "metadata": {
        "id": "QUm7d7Lkpvtn"
      },
      "outputs": [],
      "source": []
    }
  ],
  "metadata": {
    "colab": {
      "provenance": []
    },
    "kernelspec": {
      "display_name": "Python 3",
      "name": "python3"
    },
    "language_info": {
      "codemirror_mode": {
        "name": "ipython",
        "version": 3
      },
      "file_extension": ".py",
      "mimetype": "text/x-python",
      "name": "python",
      "nbconvert_exporter": "python",
      "pygments_lexer": "ipython3",
      "version": "3.10.7"
    }
  },
  "nbformat": 4,
  "nbformat_minor": 0
}
