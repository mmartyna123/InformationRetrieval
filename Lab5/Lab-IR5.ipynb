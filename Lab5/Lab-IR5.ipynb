{
 "cells": [
  {
   "cell_type": "markdown",
   "metadata": {},
   "source": [
    "## Information Retrieval lab5"
   ]
  },
  {
   "cell_type": "markdown",
   "metadata": {},
   "source": [
    "- Martyna Stasiak id.156071\n",
    "- Maria Musiał id.156062\n",
    "----"
   ]
  },
  {
   "cell_type": "markdown",
   "metadata": {},
   "source": [
    "The purpose of the exercise is to implement a recommendation system for a movie search engine.\n",
    "\n",
    "When we think about selecting a video that our user will like, let's first consider what data we have available? First of all, we have information in the database about how our user rated the movies he once watched. It's worth noting here that this is absolutely not all of the movies in our database given, and most often it's a heavily limited subset of a huge set of movies. So we can find out which movies our user liked and which ones he didn't. \n",
    "\n",
    "Is this all the data available? Well, no! We also have information about the preferences of other users! So we can find in the data a sample of users who have similar movie taste to our user. Note that virtually every such other user has watched some movies that our user has never watched before! The idea behind collaborative filtering is very simple: if another user with similar tastes rated a movie highly, our user will probably rate it highly too! Let's recommend movies that users with similar tastes have rated highly!\n",
    "\n",
    "\n",
    "Let's formalize some ideas:\n",
    " - how to count the similarity between users' tastes? \n",
    " \n",
    " Just calculate the correlation between their movie ratings. Users with a strongly positive correlation have similar tastes, and those with a strongly negative correlation have opposite tastes;) \n",
    " \n",
    " - Having found similar users, how to count the predicted rating of the video by our user?\n",
    " \n",
    " We count the weighted average of ratings of users with similar tastes where the weight is the measure of similarity (correlation). The closer a user's tastes are to us, the more weight his rating has for us. (slide 27, http://www.mmds.org/mmds/v2.1/ch09-recsys1.pdf)\n"
   ]
  },
  {
   "cell_type": "code",
   "execution_count": 1,
   "metadata": {},
   "outputs": [
    {
     "data": {
      "text/html": [
       "<div>\n",
       "<style scoped>\n",
       "    .dataframe tbody tr th:only-of-type {\n",
       "        vertical-align: middle;\n",
       "    }\n",
       "\n",
       "    .dataframe tbody tr th {\n",
       "        vertical-align: top;\n",
       "    }\n",
       "\n",
       "    .dataframe thead th {\n",
       "        text-align: right;\n",
       "    }\n",
       "</style>\n",
       "<table border=\"1\" class=\"dataframe\">\n",
       "  <thead>\n",
       "    <tr style=\"text-align: right;\">\n",
       "      <th></th>\n",
       "      <th>userId</th>\n",
       "      <th>movieId</th>\n",
       "      <th>rating</th>\n",
       "      <th>timestamp</th>\n",
       "    </tr>\n",
       "  </thead>\n",
       "  <tbody>\n",
       "    <tr>\n",
       "      <th>0</th>\n",
       "      <td>1</td>\n",
       "      <td>1</td>\n",
       "      <td>4.0</td>\n",
       "      <td>964982703</td>\n",
       "    </tr>\n",
       "    <tr>\n",
       "      <th>1</th>\n",
       "      <td>1</td>\n",
       "      <td>3</td>\n",
       "      <td>4.0</td>\n",
       "      <td>964981247</td>\n",
       "    </tr>\n",
       "    <tr>\n",
       "      <th>2</th>\n",
       "      <td>1</td>\n",
       "      <td>6</td>\n",
       "      <td>4.0</td>\n",
       "      <td>964982224</td>\n",
       "    </tr>\n",
       "    <tr>\n",
       "      <th>3</th>\n",
       "      <td>1</td>\n",
       "      <td>47</td>\n",
       "      <td>5.0</td>\n",
       "      <td>964983815</td>\n",
       "    </tr>\n",
       "    <tr>\n",
       "      <th>4</th>\n",
       "      <td>1</td>\n",
       "      <td>50</td>\n",
       "      <td>5.0</td>\n",
       "      <td>964982931</td>\n",
       "    </tr>\n",
       "    <tr>\n",
       "      <th>...</th>\n",
       "      <td>...</td>\n",
       "      <td>...</td>\n",
       "      <td>...</td>\n",
       "      <td>...</td>\n",
       "    </tr>\n",
       "    <tr>\n",
       "      <th>100831</th>\n",
       "      <td>610</td>\n",
       "      <td>166534</td>\n",
       "      <td>4.0</td>\n",
       "      <td>1493848402</td>\n",
       "    </tr>\n",
       "    <tr>\n",
       "      <th>100832</th>\n",
       "      <td>610</td>\n",
       "      <td>168248</td>\n",
       "      <td>5.0</td>\n",
       "      <td>1493850091</td>\n",
       "    </tr>\n",
       "    <tr>\n",
       "      <th>100833</th>\n",
       "      <td>610</td>\n",
       "      <td>168250</td>\n",
       "      <td>5.0</td>\n",
       "      <td>1494273047</td>\n",
       "    </tr>\n",
       "    <tr>\n",
       "      <th>100834</th>\n",
       "      <td>610</td>\n",
       "      <td>168252</td>\n",
       "      <td>5.0</td>\n",
       "      <td>1493846352</td>\n",
       "    </tr>\n",
       "    <tr>\n",
       "      <th>100835</th>\n",
       "      <td>610</td>\n",
       "      <td>170875</td>\n",
       "      <td>3.0</td>\n",
       "      <td>1493846415</td>\n",
       "    </tr>\n",
       "  </tbody>\n",
       "</table>\n",
       "<p>100836 rows × 4 columns</p>\n",
       "</div>"
      ],
      "text/plain": [
       "        userId  movieId  rating   timestamp\n",
       "0            1        1     4.0   964982703\n",
       "1            1        3     4.0   964981247\n",
       "2            1        6     4.0   964982224\n",
       "3            1       47     5.0   964983815\n",
       "4            1       50     5.0   964982931\n",
       "...        ...      ...     ...         ...\n",
       "100831     610   166534     4.0  1493848402\n",
       "100832     610   168248     5.0  1493850091\n",
       "100833     610   168250     5.0  1494273047\n",
       "100834     610   168252     5.0  1493846352\n",
       "100835     610   170875     3.0  1493846415\n",
       "\n",
       "[100836 rows x 4 columns]"
      ]
     },
     "execution_count": 1,
     "metadata": {},
     "output_type": "execute_result"
    }
   ],
   "source": [
    "import pandas as pd\n",
    "import numpy as np\n",
    "from scipy.stats import pearsonr\n",
    "import random\n",
    "\n",
    "df = pd.read_csv('./ratings.csv')\n",
    "df"
   ]
  },
  {
   "cell_type": "code",
   "execution_count": 2,
   "metadata": {},
   "outputs": [],
   "source": [
    "random.seed(0)"
   ]
  },
  {
   "cell_type": "markdown",
   "metadata": {},
   "source": [
    "-----"
   ]
  },
  {
   "cell_type": "markdown",
   "metadata": {},
   "source": [
    "### <b>Task 1\n",
    "Modify the dataframe to have moveID as index, userID as column and rating as values"
   ]
  },
  {
   "cell_type": "code",
   "execution_count": 3,
   "metadata": {},
   "outputs": [
    {
     "data": {
      "text/html": [
       "<div>\n",
       "<style scoped>\n",
       "    .dataframe tbody tr th:only-of-type {\n",
       "        vertical-align: middle;\n",
       "    }\n",
       "\n",
       "    .dataframe tbody tr th {\n",
       "        vertical-align: top;\n",
       "    }\n",
       "\n",
       "    .dataframe thead th {\n",
       "        text-align: right;\n",
       "    }\n",
       "</style>\n",
       "<table border=\"1\" class=\"dataframe\">\n",
       "  <thead>\n",
       "    <tr style=\"text-align: right;\">\n",
       "      <th>userId</th>\n",
       "      <th>1</th>\n",
       "      <th>2</th>\n",
       "      <th>3</th>\n",
       "      <th>4</th>\n",
       "      <th>5</th>\n",
       "      <th>6</th>\n",
       "      <th>7</th>\n",
       "      <th>8</th>\n",
       "      <th>9</th>\n",
       "      <th>10</th>\n",
       "      <th>...</th>\n",
       "      <th>601</th>\n",
       "      <th>602</th>\n",
       "      <th>603</th>\n",
       "      <th>604</th>\n",
       "      <th>605</th>\n",
       "      <th>606</th>\n",
       "      <th>607</th>\n",
       "      <th>608</th>\n",
       "      <th>609</th>\n",
       "      <th>610</th>\n",
       "    </tr>\n",
       "    <tr>\n",
       "      <th>movieId</th>\n",
       "      <th></th>\n",
       "      <th></th>\n",
       "      <th></th>\n",
       "      <th></th>\n",
       "      <th></th>\n",
       "      <th></th>\n",
       "      <th></th>\n",
       "      <th></th>\n",
       "      <th></th>\n",
       "      <th></th>\n",
       "      <th></th>\n",
       "      <th></th>\n",
       "      <th></th>\n",
       "      <th></th>\n",
       "      <th></th>\n",
       "      <th></th>\n",
       "      <th></th>\n",
       "      <th></th>\n",
       "      <th></th>\n",
       "      <th></th>\n",
       "      <th></th>\n",
       "    </tr>\n",
       "  </thead>\n",
       "  <tbody>\n",
       "    <tr>\n",
       "      <th>1</th>\n",
       "      <td>4.0</td>\n",
       "      <td>NaN</td>\n",
       "      <td>NaN</td>\n",
       "      <td>NaN</td>\n",
       "      <td>4.0</td>\n",
       "      <td>NaN</td>\n",
       "      <td>4.5</td>\n",
       "      <td>NaN</td>\n",
       "      <td>NaN</td>\n",
       "      <td>NaN</td>\n",
       "      <td>...</td>\n",
       "      <td>4.0</td>\n",
       "      <td>NaN</td>\n",
       "      <td>4.0</td>\n",
       "      <td>3.0</td>\n",
       "      <td>4.0</td>\n",
       "      <td>2.5</td>\n",
       "      <td>4.0</td>\n",
       "      <td>2.5</td>\n",
       "      <td>3.0</td>\n",
       "      <td>5.0</td>\n",
       "    </tr>\n",
       "    <tr>\n",
       "      <th>2</th>\n",
       "      <td>NaN</td>\n",
       "      <td>NaN</td>\n",
       "      <td>NaN</td>\n",
       "      <td>NaN</td>\n",
       "      <td>NaN</td>\n",
       "      <td>4.0</td>\n",
       "      <td>NaN</td>\n",
       "      <td>4.0</td>\n",
       "      <td>NaN</td>\n",
       "      <td>NaN</td>\n",
       "      <td>...</td>\n",
       "      <td>NaN</td>\n",
       "      <td>4.0</td>\n",
       "      <td>NaN</td>\n",
       "      <td>5.0</td>\n",
       "      <td>3.5</td>\n",
       "      <td>NaN</td>\n",
       "      <td>NaN</td>\n",
       "      <td>2.0</td>\n",
       "      <td>NaN</td>\n",
       "      <td>NaN</td>\n",
       "    </tr>\n",
       "    <tr>\n",
       "      <th>3</th>\n",
       "      <td>4.0</td>\n",
       "      <td>NaN</td>\n",
       "      <td>NaN</td>\n",
       "      <td>NaN</td>\n",
       "      <td>NaN</td>\n",
       "      <td>5.0</td>\n",
       "      <td>NaN</td>\n",
       "      <td>NaN</td>\n",
       "      <td>NaN</td>\n",
       "      <td>NaN</td>\n",
       "      <td>...</td>\n",
       "      <td>NaN</td>\n",
       "      <td>NaN</td>\n",
       "      <td>NaN</td>\n",
       "      <td>NaN</td>\n",
       "      <td>NaN</td>\n",
       "      <td>NaN</td>\n",
       "      <td>NaN</td>\n",
       "      <td>2.0</td>\n",
       "      <td>NaN</td>\n",
       "      <td>NaN</td>\n",
       "    </tr>\n",
       "    <tr>\n",
       "      <th>4</th>\n",
       "      <td>NaN</td>\n",
       "      <td>NaN</td>\n",
       "      <td>NaN</td>\n",
       "      <td>NaN</td>\n",
       "      <td>NaN</td>\n",
       "      <td>3.0</td>\n",
       "      <td>NaN</td>\n",
       "      <td>NaN</td>\n",
       "      <td>NaN</td>\n",
       "      <td>NaN</td>\n",
       "      <td>...</td>\n",
       "      <td>NaN</td>\n",
       "      <td>NaN</td>\n",
       "      <td>NaN</td>\n",
       "      <td>NaN</td>\n",
       "      <td>NaN</td>\n",
       "      <td>NaN</td>\n",
       "      <td>NaN</td>\n",
       "      <td>NaN</td>\n",
       "      <td>NaN</td>\n",
       "      <td>NaN</td>\n",
       "    </tr>\n",
       "    <tr>\n",
       "      <th>5</th>\n",
       "      <td>NaN</td>\n",
       "      <td>NaN</td>\n",
       "      <td>NaN</td>\n",
       "      <td>NaN</td>\n",
       "      <td>NaN</td>\n",
       "      <td>5.0</td>\n",
       "      <td>NaN</td>\n",
       "      <td>NaN</td>\n",
       "      <td>NaN</td>\n",
       "      <td>NaN</td>\n",
       "      <td>...</td>\n",
       "      <td>NaN</td>\n",
       "      <td>NaN</td>\n",
       "      <td>NaN</td>\n",
       "      <td>3.0</td>\n",
       "      <td>NaN</td>\n",
       "      <td>NaN</td>\n",
       "      <td>NaN</td>\n",
       "      <td>NaN</td>\n",
       "      <td>NaN</td>\n",
       "      <td>NaN</td>\n",
       "    </tr>\n",
       "  </tbody>\n",
       "</table>\n",
       "<p>5 rows × 610 columns</p>\n",
       "</div>"
      ],
      "text/plain": [
       "userId   1    2    3    4    5    6    7    8    9    10   ...  601  602  603  \\\n",
       "movieId                                                    ...                  \n",
       "1        4.0  NaN  NaN  NaN  4.0  NaN  4.5  NaN  NaN  NaN  ...  4.0  NaN  4.0   \n",
       "2        NaN  NaN  NaN  NaN  NaN  4.0  NaN  4.0  NaN  NaN  ...  NaN  4.0  NaN   \n",
       "3        4.0  NaN  NaN  NaN  NaN  5.0  NaN  NaN  NaN  NaN  ...  NaN  NaN  NaN   \n",
       "4        NaN  NaN  NaN  NaN  NaN  3.0  NaN  NaN  NaN  NaN  ...  NaN  NaN  NaN   \n",
       "5        NaN  NaN  NaN  NaN  NaN  5.0  NaN  NaN  NaN  NaN  ...  NaN  NaN  NaN   \n",
       "\n",
       "userId   604  605  606  607  608  609  610  \n",
       "movieId                                     \n",
       "1        3.0  4.0  2.5  4.0  2.5  3.0  5.0  \n",
       "2        5.0  3.5  NaN  NaN  2.0  NaN  NaN  \n",
       "3        NaN  NaN  NaN  NaN  2.0  NaN  NaN  \n",
       "4        NaN  NaN  NaN  NaN  NaN  NaN  NaN  \n",
       "5        3.0  NaN  NaN  NaN  NaN  NaN  NaN  \n",
       "\n",
       "[5 rows x 610 columns]"
      ]
     },
     "execution_count": 3,
     "metadata": {},
     "output_type": "execute_result"
    }
   ],
   "source": [
    "dfTask = df.pivot(index='movieId', columns='userId', values='rating')\n",
    "dfTask.head()"
   ]
  },
  {
   "cell_type": "markdown",
   "metadata": {},
   "source": [
    "#### Now let's also see some stats about our movie database"
   ]
  },
  {
   "cell_type": "code",
   "execution_count": 4,
   "metadata": {},
   "outputs": [
    {
     "name": "stdout",
     "output_type": "stream",
     "text": [
      "Dataset summary:\n",
      "Number of movies in the dataset: 9724\n",
      "Number of users in the dataset: 610\n",
      "Number of non-NaN values in the dataset: 100836\n",
      "Number of NaN values in the dataset: 5830804\n",
      "\n",
      "Most watched movie: 356 (329 watches)\n",
      "Least watched movie: 49 (1 watches)\n",
      "\n",
      "Most active user: 414 (2698 movies rated)\n",
      "Least active user: 53 (20 movies rated)\n",
      "\n"
     ]
    }
   ],
   "source": [
    "numMovies = dfTask.shape[0]\n",
    "numUsers = dfTask.shape[1]\n",
    "\n",
    "numNonNan = dfTask.notna().sum().sum()\n",
    "numNan = dfTask.isna().sum().sum()\n",
    "\n",
    "#most and least watched movies:\n",
    "movieWatchCount = dfTask.count(axis=1)\n",
    "mostWatchedMovie = movieWatchCount.idxmax()\n",
    "mostWatchedMovieWatchCount = movieWatchCount.max()\n",
    "leastWatchedMovie = movieWatchCount.idxmin()\n",
    "leastWatchedMovieWatchCount = movieWatchCount.min()\n",
    "\n",
    "#most and least active users:\n",
    "userWatchCount = dfTask.count(axis=0)\n",
    "mostActiveUser = userWatchCount.idxmax()\n",
    "mostActiveUserWatchCount = userWatchCount.max()\n",
    "leastActiveUser = userWatchCount.idxmin()\n",
    "leastActiveUserWatchCount = userWatchCount.min()\n",
    "\n",
    "\n",
    "print(f\"Dataset summary:\")\n",
    "print(f\"Number of movies in the dataset: {numMovies}\")\n",
    "print(f\"Number of users in the dataset: {numUsers}\")\n",
    "print(f\"Number of non-NaN values in the dataset: {numNonNan}\")\n",
    "print(f\"Number of NaN values in the dataset: {numNan}\\n\")\n",
    "\n",
    "print(f\"Most watched movie: {mostWatchedMovie} ({mostWatchedMovieWatchCount} watches)\")\n",
    "print(f\"Least watched movie: {leastWatchedMovie} ({leastWatchedMovieWatchCount} watches)\\n\")\n",
    "\n",
    "print(f\"Most active user: {mostActiveUser} ({mostActiveUserWatchCount} movies rated)\")\n",
    "print(f\"Least active user: {leastActiveUser} ({leastActiveUserWatchCount} movies rated)\\n\")\n"
   ]
  },
  {
   "cell_type": "markdown",
   "metadata": {},
   "source": [
    "Small remark: <br>\n",
    "Those stats for the most/least active user and watched movie might be different since there are different movies that might have the same 'watch count' (same with the users) and we print only one of them :)"
   ]
  },
  {
   "cell_type": "markdown",
   "metadata": {},
   "source": [
    "--------"
   ]
  },
  {
   "cell_type": "markdown",
   "metadata": {},
   "source": [
    "### <b>Task 2\n",
    "Let's try to recommend movies for user 610. Calculate the correlation between this user and the remaining ones."
   ]
  },
  {
   "cell_type": "code",
   "execution_count": 5,
   "metadata": {},
   "outputs": [
    {
     "name": "stdout",
     "output_type": "stream",
     "text": [
      "User 610 has rated 1302 movies\n",
      "Ratings of user 610:\n",
      " movieId\n",
      "1         5.0\n",
      "6         5.0\n",
      "16        4.5\n",
      "32        4.5\n",
      "47        5.0\n",
      "         ... \n",
      "166534    4.0\n",
      "168248    5.0\n",
      "168250    5.0\n",
      "168252    5.0\n",
      "170875    3.0\n",
      "Name: 610, Length: 1302, dtype: float64\n"
     ]
    }
   ],
   "source": [
    "user = 610\n",
    "user\n",
    "userRatings = dfTask[user]\n",
    "userRatings\n",
    "print(f\"User {user} has rated {userRatings.count()} movies\")\n",
    "print(f\"Ratings of user {user}:\\n {userRatings.dropna()}\")\n"
   ]
  },
  {
   "cell_type": "code",
   "execution_count": 18,
   "metadata": {},
   "outputs": [],
   "source": [
    "def CalculatetCorrelations(user, commonMovies=2, moviesdf=dfTask):\n",
    "    correlations = {}\n",
    "    userRatings = moviesdf[user].dropna()\n",
    "    \n",
    "    for otherUser in moviesdf.columns:\n",
    "        \n",
    "        if otherUser != user:\n",
    "            otherUserRatings = moviesdf[otherUser].dropna()\n",
    "            commonRatings = userRatings.index.intersection(otherUserRatings.index)\n",
    "            \n",
    "            if len(commonRatings) >= commonMovies: \n",
    "                correlations[otherUser] = pearsonr(userRatings[commonRatings], otherUserRatings[commonRatings])[0]\n",
    "\n",
    "                \n",
    "    valid_correlations = {k: v for k, v in correlations.items() if not np.isnan(v)} #getting rid of Nan correlations since we get some of that\n",
    "                \n",
    "    sorted_correlations = sorted(valid_correlations.items(), key=lambda x: x[1], reverse=True)\n",
    "    return sorted_correlations"
   ]
  },
  {
   "cell_type": "code",
   "execution_count": 19,
   "metadata": {},
   "outputs": [
    {
     "name": "stderr",
     "output_type": "stream",
     "text": [
      "C:\\Users\\mmart\\AppData\\Local\\Temp\\ipykernel_24984\\1736195048.py:12: ConstantInputWarning: An input array is constant; the correlation coefficient is not defined.\n",
      "  correlations[otherUser] = pearsonr(userRatings[commonRatings], otherUserRatings[commonRatings])[0]\n"
     ]
    },
    {
     "name": "stdout",
     "output_type": "stream",
     "text": [
      "Top correlated users with the user 610 are:\n",
      "User 442 with correlation 1.00\n",
      "User 545 with correlation 1.00\n",
      "User 576 with correlation 1.00\n",
      "User 158 with correlation 0.91\n",
      "User 92 with correlation 0.90\n",
      "User 595 with correlation 0.89\n",
      "User 120 with correlation 0.88\n",
      "User 463 with correlation 0.82\n",
      "User 138 with correlation 0.82\n",
      "User 494 with correlation 0.81\n"
     ]
    }
   ],
   "source": [
    "user610Correlations = CalculatetCorrelations(user=610)\n",
    "print(f\"Top correlated users with the user 610 are:\")\n",
    "for user, corr in user610Correlations[:10]:\n",
    "    print(f\"User {user} with correlation {corr:.2f}\")"
   ]
  },
  {
   "cell_type": "markdown",
   "metadata": {},
   "source": [
    "### <b>Task 2b\n",
    "There are a few users with the perfect match. Isn't it suspicious? Check it"
   ]
  },
  {
   "cell_type": "markdown",
   "metadata": {},
   "source": [
    "In our approach we get rid of all Nan values and we do not encounter any perfect match with the correlation being equal to 1.\n"
   ]
  },
  {
   "cell_type": "code",
   "execution_count": null,
   "metadata": {},
   "outputs": [],
   "source": []
  },
  {
   "cell_type": "code",
   "execution_count": null,
   "metadata": {},
   "outputs": [],
   "source": []
  },
  {
   "cell_type": "markdown",
   "metadata": {},
   "source": [
    "### <b>Task 3\n",
    "Find 5 users with at least 5 common movies with user=610 and the highest correlation with that user"
   ]
  },
  {
   "cell_type": "code",
   "execution_count": 20,
   "metadata": {},
   "outputs": [
    {
     "name": "stdout",
     "output_type": "stream",
     "text": [
      "Top 5 correlated users with the user 494, who have wathced at least 5 same movies are:\n",
      "User 92 with correlation 0.90\n",
      "User 120 with correlation 0.88\n",
      "User 463 with correlation 0.82\n",
      "User 138 with correlation 0.82\n",
      "User 494 with correlation 0.81\n"
     ]
    }
   ],
   "source": [
    "numTopUsers = 5\n",
    "commonMovies = 5\n",
    "user610Correlations = CalculatetCorrelations(user = 610, commonMovies = commonMovies)\n",
    "Best5CorrelatedUsers = user610Correlations[:numTopUsers]\n",
    "\n",
    "print(f\"Top {numTopUsers} correlated users with the user {user}, who have wathced at least {commonMovies} same movies are:\")\n",
    "for otherUser, correlation in Best5CorrelatedUsers:\n",
    "    print(f\"User {otherUser} with correlation {correlation:.2f}\")\n"
   ]
  },
  {
   "cell_type": "markdown",
   "metadata": {},
   "source": [
    "### <b> Task 4\n",
    "Predict scores for each movie based on the most correlated users. Use weighted average with correlation coefficient as weights.\n",
    "$$\\hat{y_j} = \\frac{\\sum_{i \\in U} w_iy_{ij}}{\\sum_{i \\in U} w_i}$$\n",
    "\n",
    "$U$ is a set of those users that also watched $j$th moveie, $w$ denotes the correlation between our user and $i$th user, $y_{ij}$ is a score given by $i$th user to $j$th movie\n",
    "Use only movies watched by at least two users from the considered set"
   ]
  },
  {
   "cell_type": "code",
   "execution_count": 25,
   "metadata": {},
   "outputs": [],
   "source": [
    "def predictScores(user, moviesdf = dfTask, commonMovies = 2, topUsers = 5):\n",
    "    userXCorrelations = CalculatetCorrelations(user, commonMovies)\n",
    "    topNUsers = userXCorrelations[:topUsers]\n",
    "    \n",
    "    predictedScores = {}\n",
    "    \n",
    "    for movie in moviesdf.index:\n",
    "        if np.isnan(moviesdf.loc[movie, user]):\n",
    "            predictedScore = 0\n",
    "            sumCorr = 0\n",
    "            \n",
    "            for otherUser, correlation in topNUsers:\n",
    "                otherUserRating = moviesdf.loc[movie, otherUser]\n",
    "                if not np.isnan(otherUserRating):\n",
    "                    predictedScore += otherUserRating * correlation\n",
    "                    sumCorr += correlation\n",
    "                    \n",
    "            if sumCorr != 0:\n",
    "                predictedScores[movie] = predictedScore / sumCorr\n",
    "                \n",
    "    return predictedScores"
   ]
  },
  {
   "cell_type": "code",
   "execution_count": 26,
   "metadata": {},
   "outputs": [
    {
     "name": "stderr",
     "output_type": "stream",
     "text": [
      "C:\\Users\\mmart\\AppData\\Local\\Temp\\ipykernel_24984\\1736195048.py:12: ConstantInputWarning: An input array is constant; the correlation coefficient is not defined.\n",
      "  correlations[otherUser] = pearsonr(userRatings[commonRatings], otherUserRatings[commonRatings])[0]\n"
     ]
    },
    {
     "data": {
      "text/plain": [
       "{29: 3.5,\n",
       " 44: 2.5,\n",
       " 107: 5.0,\n",
       " 193: 3.0,\n",
       " 327: 3.3066304667940374,\n",
       " 362: 2.5,\n",
       " 372: 1.0,\n",
       " 468: 1.5,\n",
       " 524: 2.0,\n",
       " 610: 1.0,\n",
       " 616: 1.5,\n",
       " 720: 3.0,\n",
       " 748: 3.0,\n",
       " 837: 3.744747806435169,\n",
       " 1015: 4.0,\n",
       " 1021: 3.0,\n",
       " 1093: 3.0,\n",
       " 1186: 1.0,\n",
       " 1188: 1.0,\n",
       " 1223: 4.0,\n",
       " 1231: 1.5,\n",
       " 1267: 5.0,\n",
       " 1272: 0.5,\n",
       " 1321: 4.0,\n",
       " 1345: 3.761598988245987,\n",
       " 1347: 1.5,\n",
       " 1367: 3.262646961504371,\n",
       " 1373: 1.0,\n",
       " 1409: 2.5,\n",
       " 1438: 4.0,\n",
       " 1479: 5.0,\n",
       " 1619: 4.0,\n",
       " 1644: 0.5,\n",
       " 1779: 3.0,\n",
       " 1801: 3.0,\n",
       " 1876: 4.5,\n",
       " 1909: 4.0,\n",
       " 1911: 3.0,\n",
       " 1960: 3.0,\n",
       " 2020: 1.0,\n",
       " 2085: 3.5,\n",
       " 2087: 4.5,\n",
       " 2109: 3.5,\n",
       " 2114: 3.0,\n",
       " 2139: 4.0,\n",
       " 2145: 2.0,\n",
       " 2289: 5.0,\n",
       " 2300: 2.5,\n",
       " 2398: 4.0,\n",
       " 2427: 4.0,\n",
       " 2428: 4.0,\n",
       " 2454: 4.0,\n",
       " 2490: 5.0,\n",
       " 2501: 4.0,\n",
       " 2572: 4.246848683861101,\n",
       " 2580: 4.5,\n",
       " 2605: 3.8079949412299356,\n",
       " 2641: 3.0,\n",
       " 2664: 3.5,\n",
       " 2671: 4.0,\n",
       " 2723: 3.2847969647379616,\n",
       " 2763: 4.0,\n",
       " 2826: 4.500000000000001,\n",
       " 2872: 2.5,\n",
       " 2881: 0.5,\n",
       " 2908: 2.0,\n",
       " 2948: 3.0,\n",
       " 3082: 4.5,\n",
       " 3107: 0.5,\n",
       " 3168: 4.5,\n",
       " 3301: 4.0,\n",
       " 3363: 2.2152030352620384,\n",
       " 3386: 0.5,\n",
       " 3510: 1.0,\n",
       " 3991: 3.5,\n",
       " 4361: 2.5,\n",
       " 7541: 2.5,\n",
       " 27674: 4.0,\n",
       " 49284: 1.5,\n",
       " 54190: 4.0,\n",
       " 55391: 4.5,\n",
       " 58293: 3.238401011754013,\n",
       " 63540: 2.0,\n",
       " 63853: 2.5,\n",
       " 66320: 4.0}"
      ]
     },
     "execution_count": 26,
     "metadata": {},
     "output_type": "execute_result"
    }
   ],
   "source": [
    "ratings = predictScores(610)\n",
    "ratings"
   ]
  },
  {
   "cell_type": "code",
   "execution_count": null,
   "metadata": {},
   "outputs": [],
   "source": []
  },
  {
   "cell_type": "markdown",
   "metadata": {},
   "source": [
    "### <b> Task 5\n",
    "How to check the quality of our recommendations? \n",
    "\n",
    "We have to remove a few scores from the dataset and then compare predictions with the real ones."
   ]
  },
  {
   "cell_type": "code",
   "execution_count": null,
   "metadata": {},
   "outputs": [],
   "source": []
  },
  {
   "cell_type": "code",
   "execution_count": null,
   "metadata": {},
   "outputs": [],
   "source": []
  },
  {
   "cell_type": "code",
   "execution_count": null,
   "metadata": {},
   "outputs": [],
   "source": []
  },
  {
   "cell_type": "markdown",
   "metadata": {},
   "source": [
    "Try to improve the system, you can use the following ideas:\n",
    " - Can we use more users (e.g. with negative correlation)?\n",
    " - Which difference is more important predicting 5 when a real score is 4 or predicting 3 instead of 2?\n",
    " - Did we use the best value for the minimal number of common movies?\n",
    " - Is prediction for a movie seen by just one user trustworthy?\n",
    " \n",
    " \n",
    "Describe your approach, its strengths and weaknesses, and analyze the results. Send the report (notebook with comments/markdown) within 144 hours after the class to gmiebs@cs.put.poznan.pl, start the subject with [IR]"
   ]
  },
  {
   "cell_type": "markdown",
   "metadata": {},
   "source": [
    "Credits to F. Maxwell Harper and Joseph A. Konstan. 2015. The MovieLens Datasets: History and Context. ACM Transactions on Interactive Intelligent Systems (TiiS) 5, 4: 19:1–19:19. https://doi.org/10.1145/2827872 and Mateusz Lango"
   ]
  }
 ],
 "metadata": {
  "kernelspec": {
   "display_name": "Python 3",
   "language": "python",
   "name": "python3"
  },
  "language_info": {
   "codemirror_mode": {
    "name": "ipython",
    "version": 3
   },
   "file_extension": ".py",
   "mimetype": "text/x-python",
   "name": "python",
   "nbconvert_exporter": "python",
   "pygments_lexer": "ipython3",
   "version": "3.10.7"
  }
 },
 "nbformat": 4,
 "nbformat_minor": 1
}
