{
 "cells": [
  {
   "cell_type": "markdown",
   "metadata": {},
   "source": [
    "## Information Retrieval lab5"
   ]
  },
  {
   "cell_type": "markdown",
   "metadata": {},
   "source": [
    "- Martyna Stasiak id.156071\n",
    "- Maria Musiał id.156062\n",
    "----"
   ]
  },
  {
   "cell_type": "markdown",
   "metadata": {},
   "source": [
    "The purpose of the exercise is to implement a recommendation system for a movie search engine.\n",
    "\n",
    "When we think about selecting a video that our user will like, let's first consider what data we have available? First of all, we have information in the database about how our user rated the movies he once watched. It's worth noting here that this is absolutely not all of the movies in our database given, and most often it's a heavily limited subset of a huge set of movies. So we can find out which movies our user liked and which ones he didn't. \n",
    "\n",
    "Is this all the data available? Well, no! We also have information about the preferences of other users! So we can find in the data a sample of users who have similar movie taste to our user. Note that virtually every such other user has watched some movies that our user has never watched before! The idea behind collaborative filtering is very simple: if another user with similar tastes rated a movie highly, our user will probably rate it highly too! Let's recommend movies that users with similar tastes have rated highly!\n",
    "\n",
    "\n",
    "Let's formalize some ideas:\n",
    " - how to count the similarity between users' tastes? \n",
    " \n",
    " Just calculate the correlation between their movie ratings. Users with a strongly positive correlation have similar tastes, and those with a strongly negative correlation have opposite tastes;) \n",
    " \n",
    " - Having found similar users, how to count the predicted rating of the video by our user?\n",
    " \n",
    " We count the weighted average of ratings of users with similar tastes where the weight is the measure of similarity (correlation). The closer a user's tastes are to us, the more weight his rating has for us. (slide 27, http://www.mmds.org/mmds/v2.1/ch09-recsys1.pdf)\n"
   ]
  },
  {
   "cell_type": "code",
   "execution_count": 1,
   "metadata": {},
   "outputs": [
    {
     "data": {
      "text/html": [
       "<div>\n",
       "<style scoped>\n",
       "    .dataframe tbody tr th:only-of-type {\n",
       "        vertical-align: middle;\n",
       "    }\n",
       "\n",
       "    .dataframe tbody tr th {\n",
       "        vertical-align: top;\n",
       "    }\n",
       "\n",
       "    .dataframe thead th {\n",
       "        text-align: right;\n",
       "    }\n",
       "</style>\n",
       "<table border=\"1\" class=\"dataframe\">\n",
       "  <thead>\n",
       "    <tr style=\"text-align: right;\">\n",
       "      <th></th>\n",
       "      <th>userId</th>\n",
       "      <th>movieId</th>\n",
       "      <th>rating</th>\n",
       "      <th>timestamp</th>\n",
       "    </tr>\n",
       "  </thead>\n",
       "  <tbody>\n",
       "    <tr>\n",
       "      <th>0</th>\n",
       "      <td>1</td>\n",
       "      <td>1</td>\n",
       "      <td>4.0</td>\n",
       "      <td>964982703</td>\n",
       "    </tr>\n",
       "    <tr>\n",
       "      <th>1</th>\n",
       "      <td>1</td>\n",
       "      <td>3</td>\n",
       "      <td>4.0</td>\n",
       "      <td>964981247</td>\n",
       "    </tr>\n",
       "    <tr>\n",
       "      <th>2</th>\n",
       "      <td>1</td>\n",
       "      <td>6</td>\n",
       "      <td>4.0</td>\n",
       "      <td>964982224</td>\n",
       "    </tr>\n",
       "    <tr>\n",
       "      <th>3</th>\n",
       "      <td>1</td>\n",
       "      <td>47</td>\n",
       "      <td>5.0</td>\n",
       "      <td>964983815</td>\n",
       "    </tr>\n",
       "    <tr>\n",
       "      <th>4</th>\n",
       "      <td>1</td>\n",
       "      <td>50</td>\n",
       "      <td>5.0</td>\n",
       "      <td>964982931</td>\n",
       "    </tr>\n",
       "    <tr>\n",
       "      <th>...</th>\n",
       "      <td>...</td>\n",
       "      <td>...</td>\n",
       "      <td>...</td>\n",
       "      <td>...</td>\n",
       "    </tr>\n",
       "    <tr>\n",
       "      <th>100831</th>\n",
       "      <td>610</td>\n",
       "      <td>166534</td>\n",
       "      <td>4.0</td>\n",
       "      <td>1493848402</td>\n",
       "    </tr>\n",
       "    <tr>\n",
       "      <th>100832</th>\n",
       "      <td>610</td>\n",
       "      <td>168248</td>\n",
       "      <td>5.0</td>\n",
       "      <td>1493850091</td>\n",
       "    </tr>\n",
       "    <tr>\n",
       "      <th>100833</th>\n",
       "      <td>610</td>\n",
       "      <td>168250</td>\n",
       "      <td>5.0</td>\n",
       "      <td>1494273047</td>\n",
       "    </tr>\n",
       "    <tr>\n",
       "      <th>100834</th>\n",
       "      <td>610</td>\n",
       "      <td>168252</td>\n",
       "      <td>5.0</td>\n",
       "      <td>1493846352</td>\n",
       "    </tr>\n",
       "    <tr>\n",
       "      <th>100835</th>\n",
       "      <td>610</td>\n",
       "      <td>170875</td>\n",
       "      <td>3.0</td>\n",
       "      <td>1493846415</td>\n",
       "    </tr>\n",
       "  </tbody>\n",
       "</table>\n",
       "<p>100836 rows × 4 columns</p>\n",
       "</div>"
      ],
      "text/plain": [
       "        userId  movieId  rating   timestamp\n",
       "0            1        1     4.0   964982703\n",
       "1            1        3     4.0   964981247\n",
       "2            1        6     4.0   964982224\n",
       "3            1       47     5.0   964983815\n",
       "4            1       50     5.0   964982931\n",
       "...        ...      ...     ...         ...\n",
       "100831     610   166534     4.0  1493848402\n",
       "100832     610   168248     5.0  1493850091\n",
       "100833     610   168250     5.0  1494273047\n",
       "100834     610   168252     5.0  1493846352\n",
       "100835     610   170875     3.0  1493846415\n",
       "\n",
       "[100836 rows x 4 columns]"
      ]
     },
     "execution_count": 1,
     "metadata": {},
     "output_type": "execute_result"
    }
   ],
   "source": [
    "import pandas as pd\n",
    "import numpy as np\n",
    "from scipy.stats import pearsonr\n",
    "\n",
    "df = pd.read_csv('./ratings.csv')\n",
    "df"
   ]
  },
  {
   "cell_type": "markdown",
   "metadata": {},
   "source": [
    "-----"
   ]
  },
  {
   "cell_type": "markdown",
   "metadata": {},
   "source": [
    "### <b>Task 1\n",
    "Modify the dataframe to have moveID as index, userID as column and rating as values"
   ]
  },
  {
   "cell_type": "code",
   "execution_count": 2,
   "metadata": {},
   "outputs": [
    {
     "data": {
      "text/html": [
       "<div>\n",
       "<style scoped>\n",
       "    .dataframe tbody tr th:only-of-type {\n",
       "        vertical-align: middle;\n",
       "    }\n",
       "\n",
       "    .dataframe tbody tr th {\n",
       "        vertical-align: top;\n",
       "    }\n",
       "\n",
       "    .dataframe thead th {\n",
       "        text-align: right;\n",
       "    }\n",
       "</style>\n",
       "<table border=\"1\" class=\"dataframe\">\n",
       "  <thead>\n",
       "    <tr style=\"text-align: right;\">\n",
       "      <th>userId</th>\n",
       "      <th>1</th>\n",
       "      <th>2</th>\n",
       "      <th>3</th>\n",
       "      <th>4</th>\n",
       "      <th>5</th>\n",
       "      <th>6</th>\n",
       "      <th>7</th>\n",
       "      <th>8</th>\n",
       "      <th>9</th>\n",
       "      <th>10</th>\n",
       "      <th>...</th>\n",
       "      <th>601</th>\n",
       "      <th>602</th>\n",
       "      <th>603</th>\n",
       "      <th>604</th>\n",
       "      <th>605</th>\n",
       "      <th>606</th>\n",
       "      <th>607</th>\n",
       "      <th>608</th>\n",
       "      <th>609</th>\n",
       "      <th>610</th>\n",
       "    </tr>\n",
       "    <tr>\n",
       "      <th>movieId</th>\n",
       "      <th></th>\n",
       "      <th></th>\n",
       "      <th></th>\n",
       "      <th></th>\n",
       "      <th></th>\n",
       "      <th></th>\n",
       "      <th></th>\n",
       "      <th></th>\n",
       "      <th></th>\n",
       "      <th></th>\n",
       "      <th></th>\n",
       "      <th></th>\n",
       "      <th></th>\n",
       "      <th></th>\n",
       "      <th></th>\n",
       "      <th></th>\n",
       "      <th></th>\n",
       "      <th></th>\n",
       "      <th></th>\n",
       "      <th></th>\n",
       "      <th></th>\n",
       "    </tr>\n",
       "  </thead>\n",
       "  <tbody>\n",
       "    <tr>\n",
       "      <th>1</th>\n",
       "      <td>4.0</td>\n",
       "      <td>NaN</td>\n",
       "      <td>NaN</td>\n",
       "      <td>NaN</td>\n",
       "      <td>4.0</td>\n",
       "      <td>NaN</td>\n",
       "      <td>4.5</td>\n",
       "      <td>NaN</td>\n",
       "      <td>NaN</td>\n",
       "      <td>NaN</td>\n",
       "      <td>...</td>\n",
       "      <td>4.0</td>\n",
       "      <td>NaN</td>\n",
       "      <td>4.0</td>\n",
       "      <td>3.0</td>\n",
       "      <td>4.0</td>\n",
       "      <td>2.5</td>\n",
       "      <td>4.0</td>\n",
       "      <td>2.5</td>\n",
       "      <td>3.0</td>\n",
       "      <td>5.0</td>\n",
       "    </tr>\n",
       "    <tr>\n",
       "      <th>2</th>\n",
       "      <td>NaN</td>\n",
       "      <td>NaN</td>\n",
       "      <td>NaN</td>\n",
       "      <td>NaN</td>\n",
       "      <td>NaN</td>\n",
       "      <td>4.0</td>\n",
       "      <td>NaN</td>\n",
       "      <td>4.0</td>\n",
       "      <td>NaN</td>\n",
       "      <td>NaN</td>\n",
       "      <td>...</td>\n",
       "      <td>NaN</td>\n",
       "      <td>4.0</td>\n",
       "      <td>NaN</td>\n",
       "      <td>5.0</td>\n",
       "      <td>3.5</td>\n",
       "      <td>NaN</td>\n",
       "      <td>NaN</td>\n",
       "      <td>2.0</td>\n",
       "      <td>NaN</td>\n",
       "      <td>NaN</td>\n",
       "    </tr>\n",
       "    <tr>\n",
       "      <th>3</th>\n",
       "      <td>4.0</td>\n",
       "      <td>NaN</td>\n",
       "      <td>NaN</td>\n",
       "      <td>NaN</td>\n",
       "      <td>NaN</td>\n",
       "      <td>5.0</td>\n",
       "      <td>NaN</td>\n",
       "      <td>NaN</td>\n",
       "      <td>NaN</td>\n",
       "      <td>NaN</td>\n",
       "      <td>...</td>\n",
       "      <td>NaN</td>\n",
       "      <td>NaN</td>\n",
       "      <td>NaN</td>\n",
       "      <td>NaN</td>\n",
       "      <td>NaN</td>\n",
       "      <td>NaN</td>\n",
       "      <td>NaN</td>\n",
       "      <td>2.0</td>\n",
       "      <td>NaN</td>\n",
       "      <td>NaN</td>\n",
       "    </tr>\n",
       "    <tr>\n",
       "      <th>4</th>\n",
       "      <td>NaN</td>\n",
       "      <td>NaN</td>\n",
       "      <td>NaN</td>\n",
       "      <td>NaN</td>\n",
       "      <td>NaN</td>\n",
       "      <td>3.0</td>\n",
       "      <td>NaN</td>\n",
       "      <td>NaN</td>\n",
       "      <td>NaN</td>\n",
       "      <td>NaN</td>\n",
       "      <td>...</td>\n",
       "      <td>NaN</td>\n",
       "      <td>NaN</td>\n",
       "      <td>NaN</td>\n",
       "      <td>NaN</td>\n",
       "      <td>NaN</td>\n",
       "      <td>NaN</td>\n",
       "      <td>NaN</td>\n",
       "      <td>NaN</td>\n",
       "      <td>NaN</td>\n",
       "      <td>NaN</td>\n",
       "    </tr>\n",
       "    <tr>\n",
       "      <th>5</th>\n",
       "      <td>NaN</td>\n",
       "      <td>NaN</td>\n",
       "      <td>NaN</td>\n",
       "      <td>NaN</td>\n",
       "      <td>NaN</td>\n",
       "      <td>5.0</td>\n",
       "      <td>NaN</td>\n",
       "      <td>NaN</td>\n",
       "      <td>NaN</td>\n",
       "      <td>NaN</td>\n",
       "      <td>...</td>\n",
       "      <td>NaN</td>\n",
       "      <td>NaN</td>\n",
       "      <td>NaN</td>\n",
       "      <td>3.0</td>\n",
       "      <td>NaN</td>\n",
       "      <td>NaN</td>\n",
       "      <td>NaN</td>\n",
       "      <td>NaN</td>\n",
       "      <td>NaN</td>\n",
       "      <td>NaN</td>\n",
       "    </tr>\n",
       "  </tbody>\n",
       "</table>\n",
       "<p>5 rows × 610 columns</p>\n",
       "</div>"
      ],
      "text/plain": [
       "userId   1    2    3    4    5    6    7    8    9    10   ...  601  602  603  \\\n",
       "movieId                                                    ...                  \n",
       "1        4.0  NaN  NaN  NaN  4.0  NaN  4.5  NaN  NaN  NaN  ...  4.0  NaN  4.0   \n",
       "2        NaN  NaN  NaN  NaN  NaN  4.0  NaN  4.0  NaN  NaN  ...  NaN  4.0  NaN   \n",
       "3        4.0  NaN  NaN  NaN  NaN  5.0  NaN  NaN  NaN  NaN  ...  NaN  NaN  NaN   \n",
       "4        NaN  NaN  NaN  NaN  NaN  3.0  NaN  NaN  NaN  NaN  ...  NaN  NaN  NaN   \n",
       "5        NaN  NaN  NaN  NaN  NaN  5.0  NaN  NaN  NaN  NaN  ...  NaN  NaN  NaN   \n",
       "\n",
       "userId   604  605  606  607  608  609  610  \n",
       "movieId                                     \n",
       "1        3.0  4.0  2.5  4.0  2.5  3.0  5.0  \n",
       "2        5.0  3.5  NaN  NaN  2.0  NaN  NaN  \n",
       "3        NaN  NaN  NaN  NaN  2.0  NaN  NaN  \n",
       "4        NaN  NaN  NaN  NaN  NaN  NaN  NaN  \n",
       "5        3.0  NaN  NaN  NaN  NaN  NaN  NaN  \n",
       "\n",
       "[5 rows x 610 columns]"
      ]
     },
     "execution_count": 2,
     "metadata": {},
     "output_type": "execute_result"
    }
   ],
   "source": [
    "dfTask = df.pivot(index='movieId', columns='userId', values='rating')\n",
    "dfTask.head()"
   ]
  },
  {
   "cell_type": "markdown",
   "metadata": {},
   "source": [
    "#### Now let's also see some stats about our movie database"
   ]
  },
  {
   "cell_type": "code",
   "execution_count": 3,
   "metadata": {},
   "outputs": [
    {
     "name": "stdout",
     "output_type": "stream",
     "text": [
      "Dataset summary:\n",
      "Number of movies in the dataset: 9724\n",
      "Number of users in the dataset: 610\n",
      "Number of non-NaN values in the dataset: 100836\n",
      "Number of NaN values in the dataset: 5830804\n",
      "\n",
      "Most watched movie: 356 (329 watches)\n",
      "Least watched movie: 49 (1 watches)\n",
      "\n",
      "Most active user: 414 (2698 movies rated)\n",
      "Least active user: 53 (20 movies rated)\n",
      "\n"
     ]
    }
   ],
   "source": [
    "numMovies = dfTask.shape[0]\n",
    "numUsers = dfTask.shape[1]\n",
    "\n",
    "numNonNan = dfTask.notna().sum().sum()\n",
    "numNan = dfTask.isna().sum().sum()\n",
    "\n",
    "#most and least watched movies:\n",
    "movieWatchCount = dfTask.count(axis=1)\n",
    "mostWatchedMovie = movieWatchCount.idxmax()\n",
    "mostWatchedMovieWatchCount = movieWatchCount.max()\n",
    "leastWatchedMovie = movieWatchCount.idxmin()\n",
    "leastWatchedMovieWatchCount = movieWatchCount.min()\n",
    "\n",
    "#most and least active users:\n",
    "userWatchCount = dfTask.count(axis=0)\n",
    "mostActiveUser = userWatchCount.idxmax()\n",
    "mostActiveUserWatchCount = userWatchCount.max()\n",
    "leastActiveUser = userWatchCount.idxmin()\n",
    "leastActiveUserWatchCount = userWatchCount.min()\n",
    "\n",
    "\n",
    "print(f\"Dataset summary:\")\n",
    "print(f\"Number of movies in the dataset: {numMovies}\")\n",
    "print(f\"Number of users in the dataset: {numUsers}\")\n",
    "print(f\"Number of non-NaN values in the dataset: {numNonNan}\")\n",
    "print(f\"Number of NaN values in the dataset: {numNan}\\n\")\n",
    "\n",
    "print(f\"Most watched movie: {mostWatchedMovie} ({mostWatchedMovieWatchCount} watches)\")\n",
    "print(f\"Least watched movie: {leastWatchedMovie} ({leastWatchedMovieWatchCount} watches)\\n\")\n",
    "\n",
    "print(f\"Most active user: {mostActiveUser} ({mostActiveUserWatchCount} movies rated)\")\n",
    "print(f\"Least active user: {leastActiveUser} ({leastActiveUserWatchCount} movies rated)\\n\")\n"
   ]
  },
  {
   "cell_type": "markdown",
   "metadata": {},
   "source": [
    "Small remark: <br>\n",
    "Those stats for the most/least active user and watched movie might be different since there are different movies that might have the same 'watch count' (same with the users) and we print only one of them :)"
   ]
  },
  {
   "cell_type": "markdown",
   "metadata": {},
   "source": [
    "--------"
   ]
  },
  {
   "cell_type": "markdown",
   "metadata": {},
   "source": [
    "### <b>Task 2\n",
    "Let's try to recommend movies for user 610. Calculate the correlation between this user and the remaining ones."
   ]
  },
  {
   "cell_type": "code",
   "execution_count": 4,
   "metadata": {},
   "outputs": [
    {
     "data": {
      "text/plain": [
       "610"
      ]
     },
     "execution_count": 4,
     "metadata": {},
     "output_type": "execute_result"
    }
   ],
   "source": [
    "user = 610\n",
    "user"
   ]
  },
  {
   "cell_type": "code",
   "execution_count": 6,
   "metadata": {},
   "outputs": [
    {
     "data": {
      "text/plain": [
       "movieId\n",
       "1         5.0\n",
       "2         NaN\n",
       "3         NaN\n",
       "4         NaN\n",
       "5         NaN\n",
       "         ... \n",
       "193581    NaN\n",
       "193583    NaN\n",
       "193585    NaN\n",
       "193587    NaN\n",
       "193609    NaN\n",
       "Name: 610, Length: 9724, dtype: float64"
      ]
     },
     "execution_count": 6,
     "metadata": {},
     "output_type": "execute_result"
    }
   ],
   "source": [
    "userRatings = dfTask[user]\n",
    "userRatings"
   ]
  },
  {
   "cell_type": "code",
   "execution_count": 93,
   "metadata": {},
   "outputs": [
    {
     "name": "stderr",
     "output_type": "stream",
     "text": [
      "C:\\Users\\mmart\\AppData\\Local\\Temp\\ipykernel_33372\\495856711.py:7: ConstantInputWarning: An input array is constant; the correlation coefficient is not defined.\n",
      "  correlations[other_user] = pearsonr(commonRatings[user], commonRatings[other_user])[0]\n",
      "C:\\Users\\mmart\\AppData\\Local\\Temp\\ipykernel_33372\\495856711.py:7: ConstantInputWarning: An input array is constant; the correlation coefficient is not defined.\n",
      "  correlations[other_user] = pearsonr(commonRatings[user], commonRatings[other_user])[0]\n",
      "C:\\Users\\mmart\\AppData\\Local\\Temp\\ipykernel_33372\\495856711.py:7: ConstantInputWarning: An input array is constant; the correlation coefficient is not defined.\n",
      "  correlations[other_user] = pearsonr(commonRatings[user], commonRatings[other_user])[0]\n",
      "C:\\Users\\mmart\\AppData\\Local\\Temp\\ipykernel_33372\\495856711.py:7: ConstantInputWarning: An input array is constant; the correlation coefficient is not defined.\n",
      "  correlations[other_user] = pearsonr(commonRatings[user], commonRatings[other_user])[0]\n",
      "C:\\Users\\mmart\\AppData\\Local\\Temp\\ipykernel_33372\\495856711.py:7: ConstantInputWarning: An input array is constant; the correlation coefficient is not defined.\n",
      "  correlations[other_user] = pearsonr(commonRatings[user], commonRatings[other_user])[0]\n",
      "C:\\Users\\mmart\\AppData\\Local\\Temp\\ipykernel_33372\\495856711.py:7: ConstantInputWarning: An input array is constant; the correlation coefficient is not defined.\n",
      "  correlations[other_user] = pearsonr(commonRatings[user], commonRatings[other_user])[0]\n",
      "C:\\Users\\mmart\\AppData\\Local\\Temp\\ipykernel_33372\\495856711.py:7: ConstantInputWarning: An input array is constant; the correlation coefficient is not defined.\n",
      "  correlations[other_user] = pearsonr(commonRatings[user], commonRatings[other_user])[0]\n"
     ]
    },
    {
     "name": "stdout",
     "output_type": "stream",
     "text": [
      "Top correlated users with the user 610 are:\n",
      "User 158 with correlation 0.91\n",
      "User 92 with correlation 0.90\n",
      "User 120 with correlation 0.88\n",
      "User 138 with correlation 0.82\n",
      "User 13 with correlation 0.80\n",
      "User 206 with correlation 0.75\n",
      "User 26 with correlation 0.70\n",
      "User 118 with correlation 0.69\n",
      "User 146 with correlation 0.69\n",
      "User 191 with correlation 0.64\n"
     ]
    }
   ],
   "source": [
    "correlations = {}\n",
    "for other_user in dfTask.columns:\n",
    "    if other_user != user:\n",
    "        commonRatings = dfTask[[user, other_user]].dropna()\n",
    "        # print(commonRatings)\n",
    "        if len(commonRatings) >= 2: # at least 2 common ratings for the pearson correlation\n",
    "            correlations[other_user] = pearsonr(commonRatings[user], commonRatings[other_user])[0]\n",
    "            \n",
    "sorted_correlations = sorted(correlations.items(), key=lambda x: x[1], reverse=True)\n",
    "print(f\"Top correlated users with the user {user} are:\")\n",
    "for user, corr in sorted_correlations[:10]:\n",
    "    print(f\"User {user} with correlation {corr:.2f}\")"
   ]
  },
  {
   "cell_type": "code",
   "execution_count": 25,
   "metadata": {},
   "outputs": [],
   "source": [
    "def getBestCorrelations(user, common_movies=2):\n",
    "    correlations = {}\n",
    "    for other_user in dfTask.columns:\n",
    "        if other_user != user:\n",
    "            commonRatings = dfTask[[user, other_user]].dropna()\n",
    "            if len(commonRatings) >= common_movies: # at least 2 common ratings for the pearson correlation\n",
    "                correlations[other_user] = pearsonr(commonRatings[user], commonRatings[other_user])[0]\n",
    "    sorted_correlations = sorted(correlations.items(), key=lambda x: x[1], reverse=True)\n",
    "    return sorted_correlations"
   ]
  },
  {
   "cell_type": "code",
   "execution_count": 26,
   "metadata": {},
   "outputs": [
    {
     "name": "stderr",
     "output_type": "stream",
     "text": [
      "C:\\Users\\mmart\\AppData\\Local\\Temp\\ipykernel_33372\\23853083.py:7: ConstantInputWarning: An input array is constant; the correlation coefficient is not defined.\n",
      "  correlations[other_user] = pearsonr(commonRatings[user], commonRatings[other_user])[0]\n",
      "C:\\Users\\mmart\\AppData\\Local\\Temp\\ipykernel_33372\\23853083.py:7: ConstantInputWarning: An input array is constant; the correlation coefficient is not defined.\n",
      "  correlations[other_user] = pearsonr(commonRatings[user], commonRatings[other_user])[0]\n",
      "C:\\Users\\mmart\\AppData\\Local\\Temp\\ipykernel_33372\\23853083.py:7: ConstantInputWarning: An input array is constant; the correlation coefficient is not defined.\n",
      "  correlations[other_user] = pearsonr(commonRatings[user], commonRatings[other_user])[0]\n",
      "C:\\Users\\mmart\\AppData\\Local\\Temp\\ipykernel_33372\\23853083.py:7: ConstantInputWarning: An input array is constant; the correlation coefficient is not defined.\n",
      "  correlations[other_user] = pearsonr(commonRatings[user], commonRatings[other_user])[0]\n",
      "C:\\Users\\mmart\\AppData\\Local\\Temp\\ipykernel_33372\\23853083.py:7: ConstantInputWarning: An input array is constant; the correlation coefficient is not defined.\n",
      "  correlations[other_user] = pearsonr(commonRatings[user], commonRatings[other_user])[0]\n",
      "C:\\Users\\mmart\\AppData\\Local\\Temp\\ipykernel_33372\\23853083.py:7: ConstantInputWarning: An input array is constant; the correlation coefficient is not defined.\n",
      "  correlations[other_user] = pearsonr(commonRatings[user], commonRatings[other_user])[0]\n"
     ]
    },
    {
     "name": "stdout",
     "output_type": "stream",
     "text": [
      "Top correlated users with the user 191 are:\n",
      "User 158 with correlation 0.91\n",
      "User 92 with correlation 0.90\n",
      "User 120 with correlation 0.88\n",
      "User 138 with correlation 0.82\n",
      "User 13 with correlation 0.80\n"
     ]
    },
    {
     "name": "stderr",
     "output_type": "stream",
     "text": [
      "C:\\Users\\mmart\\AppData\\Local\\Temp\\ipykernel_33372\\23853083.py:7: ConstantInputWarning: An input array is constant; the correlation coefficient is not defined.\n",
      "  correlations[other_user] = pearsonr(commonRatings[user], commonRatings[other_user])[0]\n"
     ]
    }
   ],
   "source": [
    "sortedCorr = getBestCorrelations(610)\n",
    "print(f\"Top correlated users with the user {user} are:\")\n",
    "for user, corr in sorted_correlations[:5]:\n",
    "    print(f\"User {user} with correlation {corr:.2f}\")"
   ]
  },
  {
   "cell_type": "markdown",
   "metadata": {},
   "source": [
    "### Task\n",
    "There are a few users with the perfect match. Isn't it suspicious? Check it"
   ]
  },
  {
   "cell_type": "code",
   "execution_count": null,
   "metadata": {},
   "outputs": [],
   "source": []
  },
  {
   "cell_type": "code",
   "execution_count": null,
   "metadata": {},
   "outputs": [],
   "source": []
  },
  {
   "cell_type": "markdown",
   "metadata": {},
   "source": [
    "### Task\n",
    "Find 5 users with at least 5 common movies with user=610 and the highest correlation with that user"
   ]
  },
  {
   "cell_type": "code",
   "execution_count": 33,
   "metadata": {},
   "outputs": [],
   "source": [
    "def getBest5Users(user, num = 5, common_movies=5):\n",
    "    sorted_correlations = getBestCorrelations(user, common_movies=common_movies)\n",
    "\n",
    "    print(f\"Top {num} correlated users with the user {user} who have watched at least {common_movies} same movies are:\")\n",
    "    for different_user, corr in sorted_correlations[:num]:\n",
    "        print(f\"User {different_user} with correlation {corr:.2f}\")"
   ]
  },
  {
   "cell_type": "code",
   "execution_count": null,
   "metadata": {},
   "outputs": [
    {
     "name": "stdout",
     "output_type": "stream",
     "text": [
      "Top 5 correlated users with the user 610 who have watched at least 5 same movies are:\n",
      "User 92 with correlation 0.90\n",
      "User 120 with correlation 0.88\n",
      "User 463 with correlation 0.82\n",
      "User 138 with correlation 0.82\n",
      "User 494 with correlation 0.81\n"
     ]
    }
   ],
   "source": [
    "getBest5Users(610)"
   ]
  },
  {
   "cell_type": "markdown",
   "metadata": {},
   "source": [
    "### Task\n",
    "Predict scores for each movie based on the most correlated users. Use weighted average with correlation coefficient as weights.\n",
    "$$\\hat{y_j} = \\frac{\\sum_{i \\in U} w_iy_{ij}}{\\sum_{i \\in U} w_i}$$\n",
    "\n",
    "$U$ is a set of those users that also watched $j$th moveie, $w$ denotes the correlation between our user and $i$th user, $y_{ij}$ is a score given by $i$th user to $j$th movie\n",
    "Use only movies watched by at least two users from the considered set"
   ]
  },
  {
   "cell_type": "code",
   "execution_count": 35,
   "metadata": {},
   "outputs": [],
   "source": [
    "def predictScores(user, movie):\n",
    "    bestUsers = getBest5Users(user)\n",
    "    userRatings = dfTask[user]\n",
    "    if movie in userRatings:\n",
    "        return userRatings[movie]\n",
    "    else:\n",
    "        ratings = []\n",
    "        for other_user, corr in bestUsers:\n",
    "            otherUserRatings = dfTask[other_user]\n",
    "            if movie in otherUserRatings:\n",
    "                ratings.append((otherUserRatings[movie], corr))\n",
    "        if len(ratings) == 0:\n",
    "            return None\n",
    "        return sum(r * w for r, w in ratings) / sum(w for r, w in ratings)"
   ]
  },
  {
   "cell_type": "code",
   "execution_count": null,
   "metadata": {},
   "outputs": [
    {
     "name": "stderr",
     "output_type": "stream",
     "text": [
      "C:\\Users\\mmart\\AppData\\Local\\Temp\\ipykernel_33372\\23853083.py:7: ConstantInputWarning: An input array is constant; the correlation coefficient is not defined.\n",
      "  correlations[other_user] = pearsonr(commonRatings[user], commonRatings[other_user])[0]\n",
      "C:\\Users\\mmart\\AppData\\Local\\Temp\\ipykernel_33372\\23853083.py:7: ConstantInputWarning: An input array is constant; the correlation coefficient is not defined.\n",
      "  correlations[other_user] = pearsonr(commonRatings[user], commonRatings[other_user])[0]\n",
      "C:\\Users\\mmart\\AppData\\Local\\Temp\\ipykernel_33372\\23853083.py:7: ConstantInputWarning: An input array is constant; the correlation coefficient is not defined.\n",
      "  correlations[other_user] = pearsonr(commonRatings[user], commonRatings[other_user])[0]\n",
      "C:\\Users\\mmart\\AppData\\Local\\Temp\\ipykernel_33372\\23853083.py:7: ConstantInputWarning: An input array is constant; the correlation coefficient is not defined.\n",
      "  correlations[other_user] = pearsonr(commonRatings[user], commonRatings[other_user])[0]\n",
      "C:\\Users\\mmart\\AppData\\Local\\Temp\\ipykernel_33372\\23853083.py:7: ConstantInputWarning: An input array is constant; the correlation coefficient is not defined.\n",
      "  correlations[other_user] = pearsonr(commonRatings[user], commonRatings[other_user])[0]\n"
     ]
    },
    {
     "name": "stdout",
     "output_type": "stream",
     "text": [
      "Top 5 correlated users with the user 13 who have watched at least 5 same movies are:\n",
      "User 144 with correlation 0.91\n",
      "User 1 with correlation 0.88\n",
      "User 209 with correlation 0.88\n",
      "User 222 with correlation 0.83\n",
      "User 256 with correlation 0.80\n",
      "Predicted rating for movie 1 is nan\n"
     ]
    },
    {
     "name": "stderr",
     "output_type": "stream",
     "text": [
      "C:\\Users\\mmart\\AppData\\Local\\Temp\\ipykernel_33372\\23853083.py:7: ConstantInputWarning: An input array is constant; the correlation coefficient is not defined.\n",
      "  correlations[other_user] = pearsonr(commonRatings[user], commonRatings[other_user])[0]\n",
      "C:\\Users\\mmart\\AppData\\Local\\Temp\\ipykernel_33372\\23853083.py:7: ConstantInputWarning: An input array is constant; the correlation coefficient is not defined.\n",
      "  correlations[other_user] = pearsonr(commonRatings[user], commonRatings[other_user])[0]\n",
      "C:\\Users\\mmart\\AppData\\Local\\Temp\\ipykernel_33372\\23853083.py:7: ConstantInputWarning: An input array is constant; the correlation coefficient is not defined.\n",
      "  correlations[other_user] = pearsonr(commonRatings[user], commonRatings[other_user])[0]\n",
      "C:\\Users\\mmart\\AppData\\Local\\Temp\\ipykernel_33372\\23853083.py:7: ConstantInputWarning: An input array is constant; the correlation coefficient is not defined.\n",
      "  correlations[other_user] = pearsonr(commonRatings[user], commonRatings[other_user])[0]\n",
      "C:\\Users\\mmart\\AppData\\Local\\Temp\\ipykernel_33372\\23853083.py:7: ConstantInputWarning: An input array is constant; the correlation coefficient is not defined.\n",
      "  correlations[other_user] = pearsonr(commonRatings[user], commonRatings[other_user])[0]\n"
     ]
    },
    {
     "name": "stdout",
     "output_type": "stream",
     "text": [
      "Top 5 correlated users with the user 13 who have watched at least 5 same movies are:\n",
      "User 144 with correlation 0.91\n",
      "User 1 with correlation 0.88\n",
      "User 209 with correlation 0.88\n",
      "User 222 with correlation 0.83\n",
      "User 256 with correlation 0.80\n",
      "Predicted rating for movie 2 is nan\n"
     ]
    },
    {
     "name": "stderr",
     "output_type": "stream",
     "text": [
      "C:\\Users\\mmart\\AppData\\Local\\Temp\\ipykernel_33372\\23853083.py:7: ConstantInputWarning: An input array is constant; the correlation coefficient is not defined.\n",
      "  correlations[other_user] = pearsonr(commonRatings[user], commonRatings[other_user])[0]\n",
      "C:\\Users\\mmart\\AppData\\Local\\Temp\\ipykernel_33372\\23853083.py:7: ConstantInputWarning: An input array is constant; the correlation coefficient is not defined.\n",
      "  correlations[other_user] = pearsonr(commonRatings[user], commonRatings[other_user])[0]\n",
      "C:\\Users\\mmart\\AppData\\Local\\Temp\\ipykernel_33372\\23853083.py:7: ConstantInputWarning: An input array is constant; the correlation coefficient is not defined.\n",
      "  correlations[other_user] = pearsonr(commonRatings[user], commonRatings[other_user])[0]\n",
      "C:\\Users\\mmart\\AppData\\Local\\Temp\\ipykernel_33372\\23853083.py:7: ConstantInputWarning: An input array is constant; the correlation coefficient is not defined.\n",
      "  correlations[other_user] = pearsonr(commonRatings[user], commonRatings[other_user])[0]\n",
      "C:\\Users\\mmart\\AppData\\Local\\Temp\\ipykernel_33372\\23853083.py:7: ConstantInputWarning: An input array is constant; the correlation coefficient is not defined.\n",
      "  correlations[other_user] = pearsonr(commonRatings[user], commonRatings[other_user])[0]\n"
     ]
    },
    {
     "name": "stdout",
     "output_type": "stream",
     "text": [
      "Top 5 correlated users with the user 13 who have watched at least 5 same movies are:\n",
      "User 144 with correlation 0.91\n",
      "User 1 with correlation 0.88\n",
      "User 209 with correlation 0.88\n",
      "User 222 with correlation 0.83\n",
      "User 256 with correlation 0.80\n",
      "Predicted rating for movie 3 is nan\n"
     ]
    },
    {
     "name": "stderr",
     "output_type": "stream",
     "text": [
      "C:\\Users\\mmart\\AppData\\Local\\Temp\\ipykernel_33372\\23853083.py:7: ConstantInputWarning: An input array is constant; the correlation coefficient is not defined.\n",
      "  correlations[other_user] = pearsonr(commonRatings[user], commonRatings[other_user])[0]\n",
      "C:\\Users\\mmart\\AppData\\Local\\Temp\\ipykernel_33372\\23853083.py:7: ConstantInputWarning: An input array is constant; the correlation coefficient is not defined.\n",
      "  correlations[other_user] = pearsonr(commonRatings[user], commonRatings[other_user])[0]\n",
      "C:\\Users\\mmart\\AppData\\Local\\Temp\\ipykernel_33372\\23853083.py:7: ConstantInputWarning: An input array is constant; the correlation coefficient is not defined.\n",
      "  correlations[other_user] = pearsonr(commonRatings[user], commonRatings[other_user])[0]\n",
      "C:\\Users\\mmart\\AppData\\Local\\Temp\\ipykernel_33372\\23853083.py:7: ConstantInputWarning: An input array is constant; the correlation coefficient is not defined.\n",
      "  correlations[other_user] = pearsonr(commonRatings[user], commonRatings[other_user])[0]\n",
      "C:\\Users\\mmart\\AppData\\Local\\Temp\\ipykernel_33372\\23853083.py:7: ConstantInputWarning: An input array is constant; the correlation coefficient is not defined.\n",
      "  correlations[other_user] = pearsonr(commonRatings[user], commonRatings[other_user])[0]\n"
     ]
    },
    {
     "name": "stdout",
     "output_type": "stream",
     "text": [
      "Top 5 correlated users with the user 13 who have watched at least 5 same movies are:\n",
      "User 144 with correlation 0.91\n",
      "User 1 with correlation 0.88\n",
      "User 209 with correlation 0.88\n",
      "User 222 with correlation 0.83\n",
      "User 256 with correlation 0.80\n",
      "Predicted rating for movie 4 is nan\n"
     ]
    },
    {
     "name": "stderr",
     "output_type": "stream",
     "text": [
      "C:\\Users\\mmart\\AppData\\Local\\Temp\\ipykernel_33372\\23853083.py:7: ConstantInputWarning: An input array is constant; the correlation coefficient is not defined.\n",
      "  correlations[other_user] = pearsonr(commonRatings[user], commonRatings[other_user])[0]\n",
      "C:\\Users\\mmart\\AppData\\Local\\Temp\\ipykernel_33372\\23853083.py:7: ConstantInputWarning: An input array is constant; the correlation coefficient is not defined.\n",
      "  correlations[other_user] = pearsonr(commonRatings[user], commonRatings[other_user])[0]\n",
      "C:\\Users\\mmart\\AppData\\Local\\Temp\\ipykernel_33372\\23853083.py:7: ConstantInputWarning: An input array is constant; the correlation coefficient is not defined.\n",
      "  correlations[other_user] = pearsonr(commonRatings[user], commonRatings[other_user])[0]\n",
      "C:\\Users\\mmart\\AppData\\Local\\Temp\\ipykernel_33372\\23853083.py:7: ConstantInputWarning: An input array is constant; the correlation coefficient is not defined.\n",
      "  correlations[other_user] = pearsonr(commonRatings[user], commonRatings[other_user])[0]\n",
      "C:\\Users\\mmart\\AppData\\Local\\Temp\\ipykernel_33372\\23853083.py:7: ConstantInputWarning: An input array is constant; the correlation coefficient is not defined.\n",
      "  correlations[other_user] = pearsonr(commonRatings[user], commonRatings[other_user])[0]\n"
     ]
    },
    {
     "name": "stdout",
     "output_type": "stream",
     "text": [
      "Top 5 correlated users with the user 13 who have watched at least 5 same movies are:\n",
      "User 144 with correlation 0.91\n",
      "User 1 with correlation 0.88\n",
      "User 209 with correlation 0.88\n",
      "User 222 with correlation 0.83\n",
      "User 256 with correlation 0.80\n",
      "Predicted rating for movie 5 is nan\n"
     ]
    },
    {
     "name": "stderr",
     "output_type": "stream",
     "text": [
      "C:\\Users\\mmart\\AppData\\Local\\Temp\\ipykernel_33372\\23853083.py:7: ConstantInputWarning: An input array is constant; the correlation coefficient is not defined.\n",
      "  correlations[other_user] = pearsonr(commonRatings[user], commonRatings[other_user])[0]\n",
      "C:\\Users\\mmart\\AppData\\Local\\Temp\\ipykernel_33372\\23853083.py:7: ConstantInputWarning: An input array is constant; the correlation coefficient is not defined.\n",
      "  correlations[other_user] = pearsonr(commonRatings[user], commonRatings[other_user])[0]\n",
      "C:\\Users\\mmart\\AppData\\Local\\Temp\\ipykernel_33372\\23853083.py:7: ConstantInputWarning: An input array is constant; the correlation coefficient is not defined.\n",
      "  correlations[other_user] = pearsonr(commonRatings[user], commonRatings[other_user])[0]\n",
      "C:\\Users\\mmart\\AppData\\Local\\Temp\\ipykernel_33372\\23853083.py:7: ConstantInputWarning: An input array is constant; the correlation coefficient is not defined.\n",
      "  correlations[other_user] = pearsonr(commonRatings[user], commonRatings[other_user])[0]\n",
      "C:\\Users\\mmart\\AppData\\Local\\Temp\\ipykernel_33372\\23853083.py:7: ConstantInputWarning: An input array is constant; the correlation coefficient is not defined.\n",
      "  correlations[other_user] = pearsonr(commonRatings[user], commonRatings[other_user])[0]\n"
     ]
    },
    {
     "name": "stdout",
     "output_type": "stream",
     "text": [
      "Top 5 correlated users with the user 13 who have watched at least 5 same movies are:\n",
      "User 144 with correlation 0.91\n",
      "User 1 with correlation 0.88\n",
      "User 209 with correlation 0.88\n",
      "User 222 with correlation 0.83\n",
      "User 256 with correlation 0.80\n",
      "Predicted rating for movie 6 is nan\n"
     ]
    },
    {
     "name": "stderr",
     "output_type": "stream",
     "text": [
      "C:\\Users\\mmart\\AppData\\Local\\Temp\\ipykernel_33372\\23853083.py:7: ConstantInputWarning: An input array is constant; the correlation coefficient is not defined.\n",
      "  correlations[other_user] = pearsonr(commonRatings[user], commonRatings[other_user])[0]\n",
      "C:\\Users\\mmart\\AppData\\Local\\Temp\\ipykernel_33372\\23853083.py:7: ConstantInputWarning: An input array is constant; the correlation coefficient is not defined.\n",
      "  correlations[other_user] = pearsonr(commonRatings[user], commonRatings[other_user])[0]\n",
      "C:\\Users\\mmart\\AppData\\Local\\Temp\\ipykernel_33372\\23853083.py:7: ConstantInputWarning: An input array is constant; the correlation coefficient is not defined.\n",
      "  correlations[other_user] = pearsonr(commonRatings[user], commonRatings[other_user])[0]\n",
      "C:\\Users\\mmart\\AppData\\Local\\Temp\\ipykernel_33372\\23853083.py:7: ConstantInputWarning: An input array is constant; the correlation coefficient is not defined.\n",
      "  correlations[other_user] = pearsonr(commonRatings[user], commonRatings[other_user])[0]\n",
      "C:\\Users\\mmart\\AppData\\Local\\Temp\\ipykernel_33372\\23853083.py:7: ConstantInputWarning: An input array is constant; the correlation coefficient is not defined.\n",
      "  correlations[other_user] = pearsonr(commonRatings[user], commonRatings[other_user])[0]\n"
     ]
    },
    {
     "name": "stdout",
     "output_type": "stream",
     "text": [
      "Top 5 correlated users with the user 13 who have watched at least 5 same movies are:\n",
      "User 144 with correlation 0.91\n",
      "User 1 with correlation 0.88\n",
      "User 209 with correlation 0.88\n",
      "User 222 with correlation 0.83\n",
      "User 256 with correlation 0.80\n",
      "Predicted rating for movie 7 is nan\n"
     ]
    },
    {
     "name": "stderr",
     "output_type": "stream",
     "text": [
      "C:\\Users\\mmart\\AppData\\Local\\Temp\\ipykernel_33372\\23853083.py:7: ConstantInputWarning: An input array is constant; the correlation coefficient is not defined.\n",
      "  correlations[other_user] = pearsonr(commonRatings[user], commonRatings[other_user])[0]\n",
      "C:\\Users\\mmart\\AppData\\Local\\Temp\\ipykernel_33372\\23853083.py:7: ConstantInputWarning: An input array is constant; the correlation coefficient is not defined.\n",
      "  correlations[other_user] = pearsonr(commonRatings[user], commonRatings[other_user])[0]\n",
      "C:\\Users\\mmart\\AppData\\Local\\Temp\\ipykernel_33372\\23853083.py:7: ConstantInputWarning: An input array is constant; the correlation coefficient is not defined.\n",
      "  correlations[other_user] = pearsonr(commonRatings[user], commonRatings[other_user])[0]\n",
      "C:\\Users\\mmart\\AppData\\Local\\Temp\\ipykernel_33372\\23853083.py:7: ConstantInputWarning: An input array is constant; the correlation coefficient is not defined.\n",
      "  correlations[other_user] = pearsonr(commonRatings[user], commonRatings[other_user])[0]\n",
      "C:\\Users\\mmart\\AppData\\Local\\Temp\\ipykernel_33372\\23853083.py:7: ConstantInputWarning: An input array is constant; the correlation coefficient is not defined.\n",
      "  correlations[other_user] = pearsonr(commonRatings[user], commonRatings[other_user])[0]\n"
     ]
    },
    {
     "name": "stdout",
     "output_type": "stream",
     "text": [
      "Top 5 correlated users with the user 13 who have watched at least 5 same movies are:\n",
      "User 144 with correlation 0.91\n",
      "User 1 with correlation 0.88\n",
      "User 209 with correlation 0.88\n",
      "User 222 with correlation 0.83\n",
      "User 256 with correlation 0.80\n",
      "Predicted rating for movie 8 is nan\n"
     ]
    },
    {
     "name": "stderr",
     "output_type": "stream",
     "text": [
      "C:\\Users\\mmart\\AppData\\Local\\Temp\\ipykernel_33372\\23853083.py:7: ConstantInputWarning: An input array is constant; the correlation coefficient is not defined.\n",
      "  correlations[other_user] = pearsonr(commonRatings[user], commonRatings[other_user])[0]\n",
      "C:\\Users\\mmart\\AppData\\Local\\Temp\\ipykernel_33372\\23853083.py:7: ConstantInputWarning: An input array is constant; the correlation coefficient is not defined.\n",
      "  correlations[other_user] = pearsonr(commonRatings[user], commonRatings[other_user])[0]\n",
      "C:\\Users\\mmart\\AppData\\Local\\Temp\\ipykernel_33372\\23853083.py:7: ConstantInputWarning: An input array is constant; the correlation coefficient is not defined.\n",
      "  correlations[other_user] = pearsonr(commonRatings[user], commonRatings[other_user])[0]\n",
      "C:\\Users\\mmart\\AppData\\Local\\Temp\\ipykernel_33372\\23853083.py:7: ConstantInputWarning: An input array is constant; the correlation coefficient is not defined.\n",
      "  correlations[other_user] = pearsonr(commonRatings[user], commonRatings[other_user])[0]\n",
      "C:\\Users\\mmart\\AppData\\Local\\Temp\\ipykernel_33372\\23853083.py:7: ConstantInputWarning: An input array is constant; the correlation coefficient is not defined.\n",
      "  correlations[other_user] = pearsonr(commonRatings[user], commonRatings[other_user])[0]\n"
     ]
    },
    {
     "name": "stdout",
     "output_type": "stream",
     "text": [
      "Top 5 correlated users with the user 13 who have watched at least 5 same movies are:\n",
      "User 144 with correlation 0.91\n",
      "User 1 with correlation 0.88\n",
      "User 209 with correlation 0.88\n",
      "User 222 with correlation 0.83\n",
      "User 256 with correlation 0.80\n",
      "Predicted rating for movie 9 is nan\n"
     ]
    },
    {
     "name": "stderr",
     "output_type": "stream",
     "text": [
      "C:\\Users\\mmart\\AppData\\Local\\Temp\\ipykernel_33372\\23853083.py:7: ConstantInputWarning: An input array is constant; the correlation coefficient is not defined.\n",
      "  correlations[other_user] = pearsonr(commonRatings[user], commonRatings[other_user])[0]\n",
      "C:\\Users\\mmart\\AppData\\Local\\Temp\\ipykernel_33372\\23853083.py:7: ConstantInputWarning: An input array is constant; the correlation coefficient is not defined.\n",
      "  correlations[other_user] = pearsonr(commonRatings[user], commonRatings[other_user])[0]\n",
      "C:\\Users\\mmart\\AppData\\Local\\Temp\\ipykernel_33372\\23853083.py:7: ConstantInputWarning: An input array is constant; the correlation coefficient is not defined.\n",
      "  correlations[other_user] = pearsonr(commonRatings[user], commonRatings[other_user])[0]\n",
      "C:\\Users\\mmart\\AppData\\Local\\Temp\\ipykernel_33372\\23853083.py:7: ConstantInputWarning: An input array is constant; the correlation coefficient is not defined.\n",
      "  correlations[other_user] = pearsonr(commonRatings[user], commonRatings[other_user])[0]\n",
      "C:\\Users\\mmart\\AppData\\Local\\Temp\\ipykernel_33372\\23853083.py:7: ConstantInputWarning: An input array is constant; the correlation coefficient is not defined.\n",
      "  correlations[other_user] = pearsonr(commonRatings[user], commonRatings[other_user])[0]\n"
     ]
    },
    {
     "name": "stdout",
     "output_type": "stream",
     "text": [
      "Top 5 correlated users with the user 13 who have watched at least 5 same movies are:\n",
      "User 144 with correlation 0.91\n",
      "User 1 with correlation 0.88\n",
      "User 209 with correlation 0.88\n",
      "User 222 with correlation 0.83\n",
      "User 256 with correlation 0.80\n",
      "Predicted rating for movie 10 is nan\n"
     ]
    },
    {
     "name": "stderr",
     "output_type": "stream",
     "text": [
      "C:\\Users\\mmart\\AppData\\Local\\Temp\\ipykernel_33372\\23853083.py:7: ConstantInputWarning: An input array is constant; the correlation coefficient is not defined.\n",
      "  correlations[other_user] = pearsonr(commonRatings[user], commonRatings[other_user])[0]\n",
      "C:\\Users\\mmart\\AppData\\Local\\Temp\\ipykernel_33372\\23853083.py:7: ConstantInputWarning: An input array is constant; the correlation coefficient is not defined.\n",
      "  correlations[other_user] = pearsonr(commonRatings[user], commonRatings[other_user])[0]\n",
      "C:\\Users\\mmart\\AppData\\Local\\Temp\\ipykernel_33372\\23853083.py:7: ConstantInputWarning: An input array is constant; the correlation coefficient is not defined.\n",
      "  correlations[other_user] = pearsonr(commonRatings[user], commonRatings[other_user])[0]\n",
      "C:\\Users\\mmart\\AppData\\Local\\Temp\\ipykernel_33372\\23853083.py:7: ConstantInputWarning: An input array is constant; the correlation coefficient is not defined.\n",
      "  correlations[other_user] = pearsonr(commonRatings[user], commonRatings[other_user])[0]\n",
      "C:\\Users\\mmart\\AppData\\Local\\Temp\\ipykernel_33372\\23853083.py:7: ConstantInputWarning: An input array is constant; the correlation coefficient is not defined.\n",
      "  correlations[other_user] = pearsonr(commonRatings[user], commonRatings[other_user])[0]\n"
     ]
    },
    {
     "name": "stdout",
     "output_type": "stream",
     "text": [
      "Top 5 correlated users with the user 13 who have watched at least 5 same movies are:\n",
      "User 144 with correlation 0.91\n",
      "User 1 with correlation 0.88\n",
      "User 209 with correlation 0.88\n",
      "User 222 with correlation 0.83\n",
      "User 256 with correlation 0.80\n",
      "Predicted rating for movie 11 is nan\n"
     ]
    },
    {
     "name": "stderr",
     "output_type": "stream",
     "text": [
      "C:\\Users\\mmart\\AppData\\Local\\Temp\\ipykernel_33372\\23853083.py:7: ConstantInputWarning: An input array is constant; the correlation coefficient is not defined.\n",
      "  correlations[other_user] = pearsonr(commonRatings[user], commonRatings[other_user])[0]\n",
      "C:\\Users\\mmart\\AppData\\Local\\Temp\\ipykernel_33372\\23853083.py:7: ConstantInputWarning: An input array is constant; the correlation coefficient is not defined.\n",
      "  correlations[other_user] = pearsonr(commonRatings[user], commonRatings[other_user])[0]\n",
      "C:\\Users\\mmart\\AppData\\Local\\Temp\\ipykernel_33372\\23853083.py:7: ConstantInputWarning: An input array is constant; the correlation coefficient is not defined.\n",
      "  correlations[other_user] = pearsonr(commonRatings[user], commonRatings[other_user])[0]\n",
      "C:\\Users\\mmart\\AppData\\Local\\Temp\\ipykernel_33372\\23853083.py:7: ConstantInputWarning: An input array is constant; the correlation coefficient is not defined.\n",
      "  correlations[other_user] = pearsonr(commonRatings[user], commonRatings[other_user])[0]\n",
      "C:\\Users\\mmart\\AppData\\Local\\Temp\\ipykernel_33372\\23853083.py:7: ConstantInputWarning: An input array is constant; the correlation coefficient is not defined.\n",
      "  correlations[other_user] = pearsonr(commonRatings[user], commonRatings[other_user])[0]\n"
     ]
    },
    {
     "name": "stdout",
     "output_type": "stream",
     "text": [
      "Top 5 correlated users with the user 13 who have watched at least 5 same movies are:\n",
      "User 144 with correlation 0.91\n",
      "User 1 with correlation 0.88\n",
      "User 209 with correlation 0.88\n",
      "User 222 with correlation 0.83\n",
      "User 256 with correlation 0.80\n",
      "Predicted rating for movie 12 is nan\n"
     ]
    },
    {
     "name": "stderr",
     "output_type": "stream",
     "text": [
      "C:\\Users\\mmart\\AppData\\Local\\Temp\\ipykernel_33372\\23853083.py:7: ConstantInputWarning: An input array is constant; the correlation coefficient is not defined.\n",
      "  correlations[other_user] = pearsonr(commonRatings[user], commonRatings[other_user])[0]\n",
      "C:\\Users\\mmart\\AppData\\Local\\Temp\\ipykernel_33372\\23853083.py:7: ConstantInputWarning: An input array is constant; the correlation coefficient is not defined.\n",
      "  correlations[other_user] = pearsonr(commonRatings[user], commonRatings[other_user])[0]\n",
      "C:\\Users\\mmart\\AppData\\Local\\Temp\\ipykernel_33372\\23853083.py:7: ConstantInputWarning: An input array is constant; the correlation coefficient is not defined.\n",
      "  correlations[other_user] = pearsonr(commonRatings[user], commonRatings[other_user])[0]\n",
      "C:\\Users\\mmart\\AppData\\Local\\Temp\\ipykernel_33372\\23853083.py:7: ConstantInputWarning: An input array is constant; the correlation coefficient is not defined.\n",
      "  correlations[other_user] = pearsonr(commonRatings[user], commonRatings[other_user])[0]\n",
      "C:\\Users\\mmart\\AppData\\Local\\Temp\\ipykernel_33372\\23853083.py:7: ConstantInputWarning: An input array is constant; the correlation coefficient is not defined.\n",
      "  correlations[other_user] = pearsonr(commonRatings[user], commonRatings[other_user])[0]\n"
     ]
    },
    {
     "name": "stdout",
     "output_type": "stream",
     "text": [
      "Top 5 correlated users with the user 13 who have watched at least 5 same movies are:\n",
      "User 144 with correlation 0.91\n",
      "User 1 with correlation 0.88\n",
      "User 209 with correlation 0.88\n",
      "User 222 with correlation 0.83\n",
      "User 256 with correlation 0.80\n",
      "Predicted rating for movie 13 is nan\n"
     ]
    },
    {
     "name": "stderr",
     "output_type": "stream",
     "text": [
      "C:\\Users\\mmart\\AppData\\Local\\Temp\\ipykernel_33372\\23853083.py:7: ConstantInputWarning: An input array is constant; the correlation coefficient is not defined.\n",
      "  correlations[other_user] = pearsonr(commonRatings[user], commonRatings[other_user])[0]\n",
      "C:\\Users\\mmart\\AppData\\Local\\Temp\\ipykernel_33372\\23853083.py:7: ConstantInputWarning: An input array is constant; the correlation coefficient is not defined.\n",
      "  correlations[other_user] = pearsonr(commonRatings[user], commonRatings[other_user])[0]\n",
      "C:\\Users\\mmart\\AppData\\Local\\Temp\\ipykernel_33372\\23853083.py:7: ConstantInputWarning: An input array is constant; the correlation coefficient is not defined.\n",
      "  correlations[other_user] = pearsonr(commonRatings[user], commonRatings[other_user])[0]\n",
      "C:\\Users\\mmart\\AppData\\Local\\Temp\\ipykernel_33372\\23853083.py:7: ConstantInputWarning: An input array is constant; the correlation coefficient is not defined.\n",
      "  correlations[other_user] = pearsonr(commonRatings[user], commonRatings[other_user])[0]\n",
      "C:\\Users\\mmart\\AppData\\Local\\Temp\\ipykernel_33372\\23853083.py:7: ConstantInputWarning: An input array is constant; the correlation coefficient is not defined.\n",
      "  correlations[other_user] = pearsonr(commonRatings[user], commonRatings[other_user])[0]\n"
     ]
    },
    {
     "name": "stdout",
     "output_type": "stream",
     "text": [
      "Top 5 correlated users with the user 13 who have watched at least 5 same movies are:\n",
      "User 144 with correlation 0.91\n",
      "User 1 with correlation 0.88\n",
      "User 209 with correlation 0.88\n",
      "User 222 with correlation 0.83\n",
      "User 256 with correlation 0.80\n",
      "Predicted rating for movie 14 is nan\n"
     ]
    },
    {
     "name": "stderr",
     "output_type": "stream",
     "text": [
      "C:\\Users\\mmart\\AppData\\Local\\Temp\\ipykernel_33372\\23853083.py:7: ConstantInputWarning: An input array is constant; the correlation coefficient is not defined.\n",
      "  correlations[other_user] = pearsonr(commonRatings[user], commonRatings[other_user])[0]\n",
      "C:\\Users\\mmart\\AppData\\Local\\Temp\\ipykernel_33372\\23853083.py:7: ConstantInputWarning: An input array is constant; the correlation coefficient is not defined.\n",
      "  correlations[other_user] = pearsonr(commonRatings[user], commonRatings[other_user])[0]\n",
      "C:\\Users\\mmart\\AppData\\Local\\Temp\\ipykernel_33372\\23853083.py:7: ConstantInputWarning: An input array is constant; the correlation coefficient is not defined.\n",
      "  correlations[other_user] = pearsonr(commonRatings[user], commonRatings[other_user])[0]\n",
      "C:\\Users\\mmart\\AppData\\Local\\Temp\\ipykernel_33372\\23853083.py:7: ConstantInputWarning: An input array is constant; the correlation coefficient is not defined.\n",
      "  correlations[other_user] = pearsonr(commonRatings[user], commonRatings[other_user])[0]\n",
      "C:\\Users\\mmart\\AppData\\Local\\Temp\\ipykernel_33372\\23853083.py:7: ConstantInputWarning: An input array is constant; the correlation coefficient is not defined.\n",
      "  correlations[other_user] = pearsonr(commonRatings[user], commonRatings[other_user])[0]\n"
     ]
    },
    {
     "name": "stdout",
     "output_type": "stream",
     "text": [
      "Top 5 correlated users with the user 13 who have watched at least 5 same movies are:\n",
      "User 144 with correlation 0.91\n",
      "User 1 with correlation 0.88\n",
      "User 209 with correlation 0.88\n",
      "User 222 with correlation 0.83\n",
      "User 256 with correlation 0.80\n",
      "Predicted rating for movie 15 is nan\n"
     ]
    },
    {
     "name": "stderr",
     "output_type": "stream",
     "text": [
      "C:\\Users\\mmart\\AppData\\Local\\Temp\\ipykernel_33372\\23853083.py:7: ConstantInputWarning: An input array is constant; the correlation coefficient is not defined.\n",
      "  correlations[other_user] = pearsonr(commonRatings[user], commonRatings[other_user])[0]\n",
      "C:\\Users\\mmart\\AppData\\Local\\Temp\\ipykernel_33372\\23853083.py:7: ConstantInputWarning: An input array is constant; the correlation coefficient is not defined.\n",
      "  correlations[other_user] = pearsonr(commonRatings[user], commonRatings[other_user])[0]\n",
      "C:\\Users\\mmart\\AppData\\Local\\Temp\\ipykernel_33372\\23853083.py:7: ConstantInputWarning: An input array is constant; the correlation coefficient is not defined.\n",
      "  correlations[other_user] = pearsonr(commonRatings[user], commonRatings[other_user])[0]\n",
      "C:\\Users\\mmart\\AppData\\Local\\Temp\\ipykernel_33372\\23853083.py:7: ConstantInputWarning: An input array is constant; the correlation coefficient is not defined.\n",
      "  correlations[other_user] = pearsonr(commonRatings[user], commonRatings[other_user])[0]\n",
      "C:\\Users\\mmart\\AppData\\Local\\Temp\\ipykernel_33372\\23853083.py:7: ConstantInputWarning: An input array is constant; the correlation coefficient is not defined.\n",
      "  correlations[other_user] = pearsonr(commonRatings[user], commonRatings[other_user])[0]\n"
     ]
    },
    {
     "name": "stdout",
     "output_type": "stream",
     "text": [
      "Top 5 correlated users with the user 13 who have watched at least 5 same movies are:\n",
      "User 144 with correlation 0.91\n",
      "User 1 with correlation 0.88\n",
      "User 209 with correlation 0.88\n",
      "User 222 with correlation 0.83\n",
      "User 256 with correlation 0.80\n",
      "Predicted rating for movie 16 is nan\n"
     ]
    },
    {
     "name": "stderr",
     "output_type": "stream",
     "text": [
      "C:\\Users\\mmart\\AppData\\Local\\Temp\\ipykernel_33372\\23853083.py:7: ConstantInputWarning: An input array is constant; the correlation coefficient is not defined.\n",
      "  correlations[other_user] = pearsonr(commonRatings[user], commonRatings[other_user])[0]\n",
      "C:\\Users\\mmart\\AppData\\Local\\Temp\\ipykernel_33372\\23853083.py:7: ConstantInputWarning: An input array is constant; the correlation coefficient is not defined.\n",
      "  correlations[other_user] = pearsonr(commonRatings[user], commonRatings[other_user])[0]\n",
      "C:\\Users\\mmart\\AppData\\Local\\Temp\\ipykernel_33372\\23853083.py:7: ConstantInputWarning: An input array is constant; the correlation coefficient is not defined.\n",
      "  correlations[other_user] = pearsonr(commonRatings[user], commonRatings[other_user])[0]\n",
      "C:\\Users\\mmart\\AppData\\Local\\Temp\\ipykernel_33372\\23853083.py:7: ConstantInputWarning: An input array is constant; the correlation coefficient is not defined.\n",
      "  correlations[other_user] = pearsonr(commonRatings[user], commonRatings[other_user])[0]\n",
      "C:\\Users\\mmart\\AppData\\Local\\Temp\\ipykernel_33372\\23853083.py:7: ConstantInputWarning: An input array is constant; the correlation coefficient is not defined.\n",
      "  correlations[other_user] = pearsonr(commonRatings[user], commonRatings[other_user])[0]\n"
     ]
    },
    {
     "name": "stdout",
     "output_type": "stream",
     "text": [
      "Top 5 correlated users with the user 13 who have watched at least 5 same movies are:\n",
      "User 144 with correlation 0.91\n",
      "User 1 with correlation 0.88\n",
      "User 209 with correlation 0.88\n",
      "User 222 with correlation 0.83\n",
      "User 256 with correlation 0.80\n",
      "Predicted rating for movie 17 is nan\n"
     ]
    },
    {
     "name": "stderr",
     "output_type": "stream",
     "text": [
      "C:\\Users\\mmart\\AppData\\Local\\Temp\\ipykernel_33372\\23853083.py:7: ConstantInputWarning: An input array is constant; the correlation coefficient is not defined.\n",
      "  correlations[other_user] = pearsonr(commonRatings[user], commonRatings[other_user])[0]\n",
      "C:\\Users\\mmart\\AppData\\Local\\Temp\\ipykernel_33372\\23853083.py:7: ConstantInputWarning: An input array is constant; the correlation coefficient is not defined.\n",
      "  correlations[other_user] = pearsonr(commonRatings[user], commonRatings[other_user])[0]\n",
      "C:\\Users\\mmart\\AppData\\Local\\Temp\\ipykernel_33372\\23853083.py:7: ConstantInputWarning: An input array is constant; the correlation coefficient is not defined.\n",
      "  correlations[other_user] = pearsonr(commonRatings[user], commonRatings[other_user])[0]\n",
      "C:\\Users\\mmart\\AppData\\Local\\Temp\\ipykernel_33372\\23853083.py:7: ConstantInputWarning: An input array is constant; the correlation coefficient is not defined.\n",
      "  correlations[other_user] = pearsonr(commonRatings[user], commonRatings[other_user])[0]\n",
      "C:\\Users\\mmart\\AppData\\Local\\Temp\\ipykernel_33372\\23853083.py:7: ConstantInputWarning: An input array is constant; the correlation coefficient is not defined.\n",
      "  correlations[other_user] = pearsonr(commonRatings[user], commonRatings[other_user])[0]\n"
     ]
    },
    {
     "name": "stdout",
     "output_type": "stream",
     "text": [
      "Top 5 correlated users with the user 13 who have watched at least 5 same movies are:\n",
      "User 144 with correlation 0.91\n",
      "User 1 with correlation 0.88\n",
      "User 209 with correlation 0.88\n",
      "User 222 with correlation 0.83\n",
      "User 256 with correlation 0.80\n",
      "Predicted rating for movie 18 is nan\n"
     ]
    },
    {
     "name": "stderr",
     "output_type": "stream",
     "text": [
      "C:\\Users\\mmart\\AppData\\Local\\Temp\\ipykernel_33372\\23853083.py:7: ConstantInputWarning: An input array is constant; the correlation coefficient is not defined.\n",
      "  correlations[other_user] = pearsonr(commonRatings[user], commonRatings[other_user])[0]\n",
      "C:\\Users\\mmart\\AppData\\Local\\Temp\\ipykernel_33372\\23853083.py:7: ConstantInputWarning: An input array is constant; the correlation coefficient is not defined.\n",
      "  correlations[other_user] = pearsonr(commonRatings[user], commonRatings[other_user])[0]\n",
      "C:\\Users\\mmart\\AppData\\Local\\Temp\\ipykernel_33372\\23853083.py:7: ConstantInputWarning: An input array is constant; the correlation coefficient is not defined.\n",
      "  correlations[other_user] = pearsonr(commonRatings[user], commonRatings[other_user])[0]\n",
      "C:\\Users\\mmart\\AppData\\Local\\Temp\\ipykernel_33372\\23853083.py:7: ConstantInputWarning: An input array is constant; the correlation coefficient is not defined.\n",
      "  correlations[other_user] = pearsonr(commonRatings[user], commonRatings[other_user])[0]\n",
      "C:\\Users\\mmart\\AppData\\Local\\Temp\\ipykernel_33372\\23853083.py:7: ConstantInputWarning: An input array is constant; the correlation coefficient is not defined.\n",
      "  correlations[other_user] = pearsonr(commonRatings[user], commonRatings[other_user])[0]\n"
     ]
    },
    {
     "name": "stdout",
     "output_type": "stream",
     "text": [
      "Top 5 correlated users with the user 13 who have watched at least 5 same movies are:\n",
      "User 144 with correlation 0.91\n",
      "User 1 with correlation 0.88\n",
      "User 209 with correlation 0.88\n",
      "User 222 with correlation 0.83\n",
      "User 256 with correlation 0.80\n",
      "Predicted rating for movie 19 is nan\n"
     ]
    },
    {
     "name": "stderr",
     "output_type": "stream",
     "text": [
      "C:\\Users\\mmart\\AppData\\Local\\Temp\\ipykernel_33372\\23853083.py:7: ConstantInputWarning: An input array is constant; the correlation coefficient is not defined.\n",
      "  correlations[other_user] = pearsonr(commonRatings[user], commonRatings[other_user])[0]\n",
      "C:\\Users\\mmart\\AppData\\Local\\Temp\\ipykernel_33372\\23853083.py:7: ConstantInputWarning: An input array is constant; the correlation coefficient is not defined.\n",
      "  correlations[other_user] = pearsonr(commonRatings[user], commonRatings[other_user])[0]\n",
      "C:\\Users\\mmart\\AppData\\Local\\Temp\\ipykernel_33372\\23853083.py:7: ConstantInputWarning: An input array is constant; the correlation coefficient is not defined.\n",
      "  correlations[other_user] = pearsonr(commonRatings[user], commonRatings[other_user])[0]\n",
      "C:\\Users\\mmart\\AppData\\Local\\Temp\\ipykernel_33372\\23853083.py:7: ConstantInputWarning: An input array is constant; the correlation coefficient is not defined.\n",
      "  correlations[other_user] = pearsonr(commonRatings[user], commonRatings[other_user])[0]\n",
      "C:\\Users\\mmart\\AppData\\Local\\Temp\\ipykernel_33372\\23853083.py:7: ConstantInputWarning: An input array is constant; the correlation coefficient is not defined.\n",
      "  correlations[other_user] = pearsonr(commonRatings[user], commonRatings[other_user])[0]\n"
     ]
    },
    {
     "name": "stdout",
     "output_type": "stream",
     "text": [
      "Top 5 correlated users with the user 13 who have watched at least 5 same movies are:\n",
      "User 144 with correlation 0.91\n",
      "User 1 with correlation 0.88\n",
      "User 209 with correlation 0.88\n",
      "User 222 with correlation 0.83\n",
      "User 256 with correlation 0.80\n",
      "Predicted rating for movie 20 is nan\n"
     ]
    },
    {
     "name": "stderr",
     "output_type": "stream",
     "text": [
      "C:\\Users\\mmart\\AppData\\Local\\Temp\\ipykernel_33372\\23853083.py:7: ConstantInputWarning: An input array is constant; the correlation coefficient is not defined.\n",
      "  correlations[other_user] = pearsonr(commonRatings[user], commonRatings[other_user])[0]\n",
      "C:\\Users\\mmart\\AppData\\Local\\Temp\\ipykernel_33372\\23853083.py:7: ConstantInputWarning: An input array is constant; the correlation coefficient is not defined.\n",
      "  correlations[other_user] = pearsonr(commonRatings[user], commonRatings[other_user])[0]\n",
      "C:\\Users\\mmart\\AppData\\Local\\Temp\\ipykernel_33372\\23853083.py:7: ConstantInputWarning: An input array is constant; the correlation coefficient is not defined.\n",
      "  correlations[other_user] = pearsonr(commonRatings[user], commonRatings[other_user])[0]\n",
      "C:\\Users\\mmart\\AppData\\Local\\Temp\\ipykernel_33372\\23853083.py:7: ConstantInputWarning: An input array is constant; the correlation coefficient is not defined.\n",
      "  correlations[other_user] = pearsonr(commonRatings[user], commonRatings[other_user])[0]\n",
      "C:\\Users\\mmart\\AppData\\Local\\Temp\\ipykernel_33372\\23853083.py:7: ConstantInputWarning: An input array is constant; the correlation coefficient is not defined.\n",
      "  correlations[other_user] = pearsonr(commonRatings[user], commonRatings[other_user])[0]\n"
     ]
    },
    {
     "name": "stdout",
     "output_type": "stream",
     "text": [
      "Top 5 correlated users with the user 13 who have watched at least 5 same movies are:\n",
      "User 144 with correlation 0.91\n",
      "User 1 with correlation 0.88\n",
      "User 209 with correlation 0.88\n",
      "User 222 with correlation 0.83\n",
      "User 256 with correlation 0.80\n",
      "Predicted rating for movie 21 is nan\n"
     ]
    },
    {
     "name": "stderr",
     "output_type": "stream",
     "text": [
      "C:\\Users\\mmart\\AppData\\Local\\Temp\\ipykernel_33372\\23853083.py:7: ConstantInputWarning: An input array is constant; the correlation coefficient is not defined.\n",
      "  correlations[other_user] = pearsonr(commonRatings[user], commonRatings[other_user])[0]\n",
      "C:\\Users\\mmart\\AppData\\Local\\Temp\\ipykernel_33372\\23853083.py:7: ConstantInputWarning: An input array is constant; the correlation coefficient is not defined.\n",
      "  correlations[other_user] = pearsonr(commonRatings[user], commonRatings[other_user])[0]\n",
      "C:\\Users\\mmart\\AppData\\Local\\Temp\\ipykernel_33372\\23853083.py:7: ConstantInputWarning: An input array is constant; the correlation coefficient is not defined.\n",
      "  correlations[other_user] = pearsonr(commonRatings[user], commonRatings[other_user])[0]\n",
      "C:\\Users\\mmart\\AppData\\Local\\Temp\\ipykernel_33372\\23853083.py:7: ConstantInputWarning: An input array is constant; the correlation coefficient is not defined.\n",
      "  correlations[other_user] = pearsonr(commonRatings[user], commonRatings[other_user])[0]\n",
      "C:\\Users\\mmart\\AppData\\Local\\Temp\\ipykernel_33372\\23853083.py:7: ConstantInputWarning: An input array is constant; the correlation coefficient is not defined.\n",
      "  correlations[other_user] = pearsonr(commonRatings[user], commonRatings[other_user])[0]\n"
     ]
    },
    {
     "name": "stdout",
     "output_type": "stream",
     "text": [
      "Top 5 correlated users with the user 13 who have watched at least 5 same movies are:\n",
      "User 144 with correlation 0.91\n",
      "User 1 with correlation 0.88\n",
      "User 209 with correlation 0.88\n",
      "User 222 with correlation 0.83\n",
      "User 256 with correlation 0.80\n",
      "Predicted rating for movie 22 is nan\n"
     ]
    },
    {
     "name": "stderr",
     "output_type": "stream",
     "text": [
      "C:\\Users\\mmart\\AppData\\Local\\Temp\\ipykernel_33372\\23853083.py:7: ConstantInputWarning: An input array is constant; the correlation coefficient is not defined.\n",
      "  correlations[other_user] = pearsonr(commonRatings[user], commonRatings[other_user])[0]\n",
      "C:\\Users\\mmart\\AppData\\Local\\Temp\\ipykernel_33372\\23853083.py:7: ConstantInputWarning: An input array is constant; the correlation coefficient is not defined.\n",
      "  correlations[other_user] = pearsonr(commonRatings[user], commonRatings[other_user])[0]\n",
      "C:\\Users\\mmart\\AppData\\Local\\Temp\\ipykernel_33372\\23853083.py:7: ConstantInputWarning: An input array is constant; the correlation coefficient is not defined.\n",
      "  correlations[other_user] = pearsonr(commonRatings[user], commonRatings[other_user])[0]\n",
      "C:\\Users\\mmart\\AppData\\Local\\Temp\\ipykernel_33372\\23853083.py:7: ConstantInputWarning: An input array is constant; the correlation coefficient is not defined.\n",
      "  correlations[other_user] = pearsonr(commonRatings[user], commonRatings[other_user])[0]\n",
      "C:\\Users\\mmart\\AppData\\Local\\Temp\\ipykernel_33372\\23853083.py:7: ConstantInputWarning: An input array is constant; the correlation coefficient is not defined.\n",
      "  correlations[other_user] = pearsonr(commonRatings[user], commonRatings[other_user])[0]\n"
     ]
    },
    {
     "name": "stdout",
     "output_type": "stream",
     "text": [
      "Top 5 correlated users with the user 13 who have watched at least 5 same movies are:\n",
      "User 144 with correlation 0.91\n",
      "User 1 with correlation 0.88\n",
      "User 209 with correlation 0.88\n",
      "User 222 with correlation 0.83\n",
      "User 256 with correlation 0.80\n",
      "Predicted rating for movie 23 is nan\n"
     ]
    },
    {
     "name": "stderr",
     "output_type": "stream",
     "text": [
      "C:\\Users\\mmart\\AppData\\Local\\Temp\\ipykernel_33372\\23853083.py:7: ConstantInputWarning: An input array is constant; the correlation coefficient is not defined.\n",
      "  correlations[other_user] = pearsonr(commonRatings[user], commonRatings[other_user])[0]\n",
      "C:\\Users\\mmart\\AppData\\Local\\Temp\\ipykernel_33372\\23853083.py:7: ConstantInputWarning: An input array is constant; the correlation coefficient is not defined.\n",
      "  correlations[other_user] = pearsonr(commonRatings[user], commonRatings[other_user])[0]\n",
      "C:\\Users\\mmart\\AppData\\Local\\Temp\\ipykernel_33372\\23853083.py:7: ConstantInputWarning: An input array is constant; the correlation coefficient is not defined.\n",
      "  correlations[other_user] = pearsonr(commonRatings[user], commonRatings[other_user])[0]\n",
      "C:\\Users\\mmart\\AppData\\Local\\Temp\\ipykernel_33372\\23853083.py:7: ConstantInputWarning: An input array is constant; the correlation coefficient is not defined.\n",
      "  correlations[other_user] = pearsonr(commonRatings[user], commonRatings[other_user])[0]\n",
      "C:\\Users\\mmart\\AppData\\Local\\Temp\\ipykernel_33372\\23853083.py:7: ConstantInputWarning: An input array is constant; the correlation coefficient is not defined.\n",
      "  correlations[other_user] = pearsonr(commonRatings[user], commonRatings[other_user])[0]\n"
     ]
    },
    {
     "name": "stdout",
     "output_type": "stream",
     "text": [
      "Top 5 correlated users with the user 13 who have watched at least 5 same movies are:\n",
      "User 144 with correlation 0.91\n",
      "User 1 with correlation 0.88\n",
      "User 209 with correlation 0.88\n",
      "User 222 with correlation 0.83\n",
      "User 256 with correlation 0.80\n",
      "Predicted rating for movie 24 is nan\n"
     ]
    },
    {
     "name": "stderr",
     "output_type": "stream",
     "text": [
      "C:\\Users\\mmart\\AppData\\Local\\Temp\\ipykernel_33372\\23853083.py:7: ConstantInputWarning: An input array is constant; the correlation coefficient is not defined.\n",
      "  correlations[other_user] = pearsonr(commonRatings[user], commonRatings[other_user])[0]\n",
      "C:\\Users\\mmart\\AppData\\Local\\Temp\\ipykernel_33372\\23853083.py:7: ConstantInputWarning: An input array is constant; the correlation coefficient is not defined.\n",
      "  correlations[other_user] = pearsonr(commonRatings[user], commonRatings[other_user])[0]\n",
      "C:\\Users\\mmart\\AppData\\Local\\Temp\\ipykernel_33372\\23853083.py:7: ConstantInputWarning: An input array is constant; the correlation coefficient is not defined.\n",
      "  correlations[other_user] = pearsonr(commonRatings[user], commonRatings[other_user])[0]\n",
      "C:\\Users\\mmart\\AppData\\Local\\Temp\\ipykernel_33372\\23853083.py:7: ConstantInputWarning: An input array is constant; the correlation coefficient is not defined.\n",
      "  correlations[other_user] = pearsonr(commonRatings[user], commonRatings[other_user])[0]\n",
      "C:\\Users\\mmart\\AppData\\Local\\Temp\\ipykernel_33372\\23853083.py:7: ConstantInputWarning: An input array is constant; the correlation coefficient is not defined.\n",
      "  correlations[other_user] = pearsonr(commonRatings[user], commonRatings[other_user])[0]\n"
     ]
    },
    {
     "name": "stdout",
     "output_type": "stream",
     "text": [
      "Top 5 correlated users with the user 13 who have watched at least 5 same movies are:\n",
      "User 144 with correlation 0.91\n",
      "User 1 with correlation 0.88\n",
      "User 209 with correlation 0.88\n",
      "User 222 with correlation 0.83\n",
      "User 256 with correlation 0.80\n",
      "Predicted rating for movie 25 is nan\n"
     ]
    },
    {
     "name": "stderr",
     "output_type": "stream",
     "text": [
      "C:\\Users\\mmart\\AppData\\Local\\Temp\\ipykernel_33372\\23853083.py:7: ConstantInputWarning: An input array is constant; the correlation coefficient is not defined.\n",
      "  correlations[other_user] = pearsonr(commonRatings[user], commonRatings[other_user])[0]\n",
      "C:\\Users\\mmart\\AppData\\Local\\Temp\\ipykernel_33372\\23853083.py:7: ConstantInputWarning: An input array is constant; the correlation coefficient is not defined.\n",
      "  correlations[other_user] = pearsonr(commonRatings[user], commonRatings[other_user])[0]\n",
      "C:\\Users\\mmart\\AppData\\Local\\Temp\\ipykernel_33372\\23853083.py:7: ConstantInputWarning: An input array is constant; the correlation coefficient is not defined.\n",
      "  correlations[other_user] = pearsonr(commonRatings[user], commonRatings[other_user])[0]\n",
      "C:\\Users\\mmart\\AppData\\Local\\Temp\\ipykernel_33372\\23853083.py:7: ConstantInputWarning: An input array is constant; the correlation coefficient is not defined.\n",
      "  correlations[other_user] = pearsonr(commonRatings[user], commonRatings[other_user])[0]\n",
      "C:\\Users\\mmart\\AppData\\Local\\Temp\\ipykernel_33372\\23853083.py:7: ConstantInputWarning: An input array is constant; the correlation coefficient is not defined.\n",
      "  correlations[other_user] = pearsonr(commonRatings[user], commonRatings[other_user])[0]\n"
     ]
    },
    {
     "name": "stdout",
     "output_type": "stream",
     "text": [
      "Top 5 correlated users with the user 13 who have watched at least 5 same movies are:\n",
      "User 144 with correlation 0.91\n",
      "User 1 with correlation 0.88\n",
      "User 209 with correlation 0.88\n",
      "User 222 with correlation 0.83\n",
      "User 256 with correlation 0.80\n",
      "Predicted rating for movie 26 is nan\n"
     ]
    },
    {
     "name": "stderr",
     "output_type": "stream",
     "text": [
      "C:\\Users\\mmart\\AppData\\Local\\Temp\\ipykernel_33372\\23853083.py:7: ConstantInputWarning: An input array is constant; the correlation coefficient is not defined.\n",
      "  correlations[other_user] = pearsonr(commonRatings[user], commonRatings[other_user])[0]\n",
      "C:\\Users\\mmart\\AppData\\Local\\Temp\\ipykernel_33372\\23853083.py:7: ConstantInputWarning: An input array is constant; the correlation coefficient is not defined.\n",
      "  correlations[other_user] = pearsonr(commonRatings[user], commonRatings[other_user])[0]\n",
      "C:\\Users\\mmart\\AppData\\Local\\Temp\\ipykernel_33372\\23853083.py:7: ConstantInputWarning: An input array is constant; the correlation coefficient is not defined.\n",
      "  correlations[other_user] = pearsonr(commonRatings[user], commonRatings[other_user])[0]\n",
      "C:\\Users\\mmart\\AppData\\Local\\Temp\\ipykernel_33372\\23853083.py:7: ConstantInputWarning: An input array is constant; the correlation coefficient is not defined.\n",
      "  correlations[other_user] = pearsonr(commonRatings[user], commonRatings[other_user])[0]\n",
      "C:\\Users\\mmart\\AppData\\Local\\Temp\\ipykernel_33372\\23853083.py:7: ConstantInputWarning: An input array is constant; the correlation coefficient is not defined.\n",
      "  correlations[other_user] = pearsonr(commonRatings[user], commonRatings[other_user])[0]\n"
     ]
    },
    {
     "name": "stdout",
     "output_type": "stream",
     "text": [
      "Top 5 correlated users with the user 13 who have watched at least 5 same movies are:\n",
      "User 144 with correlation 0.91\n",
      "User 1 with correlation 0.88\n",
      "User 209 with correlation 0.88\n",
      "User 222 with correlation 0.83\n",
      "User 256 with correlation 0.80\n",
      "Predicted rating for movie 27 is nan\n"
     ]
    },
    {
     "name": "stderr",
     "output_type": "stream",
     "text": [
      "C:\\Users\\mmart\\AppData\\Local\\Temp\\ipykernel_33372\\23853083.py:7: ConstantInputWarning: An input array is constant; the correlation coefficient is not defined.\n",
      "  correlations[other_user] = pearsonr(commonRatings[user], commonRatings[other_user])[0]\n",
      "C:\\Users\\mmart\\AppData\\Local\\Temp\\ipykernel_33372\\23853083.py:7: ConstantInputWarning: An input array is constant; the correlation coefficient is not defined.\n",
      "  correlations[other_user] = pearsonr(commonRatings[user], commonRatings[other_user])[0]\n",
      "C:\\Users\\mmart\\AppData\\Local\\Temp\\ipykernel_33372\\23853083.py:7: ConstantInputWarning: An input array is constant; the correlation coefficient is not defined.\n",
      "  correlations[other_user] = pearsonr(commonRatings[user], commonRatings[other_user])[0]\n",
      "C:\\Users\\mmart\\AppData\\Local\\Temp\\ipykernel_33372\\23853083.py:7: ConstantInputWarning: An input array is constant; the correlation coefficient is not defined.\n",
      "  correlations[other_user] = pearsonr(commonRatings[user], commonRatings[other_user])[0]\n",
      "C:\\Users\\mmart\\AppData\\Local\\Temp\\ipykernel_33372\\23853083.py:7: ConstantInputWarning: An input array is constant; the correlation coefficient is not defined.\n",
      "  correlations[other_user] = pearsonr(commonRatings[user], commonRatings[other_user])[0]\n"
     ]
    },
    {
     "name": "stdout",
     "output_type": "stream",
     "text": [
      "Top 5 correlated users with the user 13 who have watched at least 5 same movies are:\n",
      "User 144 with correlation 0.91\n",
      "User 1 with correlation 0.88\n",
      "User 209 with correlation 0.88\n",
      "User 222 with correlation 0.83\n",
      "User 256 with correlation 0.80\n",
      "Predicted rating for movie 28 is nan\n"
     ]
    },
    {
     "name": "stderr",
     "output_type": "stream",
     "text": [
      "C:\\Users\\mmart\\AppData\\Local\\Temp\\ipykernel_33372\\23853083.py:7: ConstantInputWarning: An input array is constant; the correlation coefficient is not defined.\n",
      "  correlations[other_user] = pearsonr(commonRatings[user], commonRatings[other_user])[0]\n",
      "C:\\Users\\mmart\\AppData\\Local\\Temp\\ipykernel_33372\\23853083.py:7: ConstantInputWarning: An input array is constant; the correlation coefficient is not defined.\n",
      "  correlations[other_user] = pearsonr(commonRatings[user], commonRatings[other_user])[0]\n"
     ]
    },
    {
     "ename": "KeyboardInterrupt",
     "evalue": "",
     "output_type": "error",
     "traceback": [
      "\u001b[1;31m---------------------------------------------------------------------------\u001b[0m",
      "\u001b[1;31mKeyboardInterrupt\u001b[0m                         Traceback (most recent call last)",
      "Cell \u001b[1;32mIn [37], line 2\u001b[0m\n\u001b[0;32m      1\u001b[0m \u001b[38;5;28;01mfor\u001b[39;00m movie \u001b[38;5;129;01min\u001b[39;00m dfTask\u001b[38;5;241m.\u001b[39mindex:\n\u001b[1;32m----> 2\u001b[0m     \u001b[38;5;28mprint\u001b[39m(\u001b[38;5;124mf\u001b[39m\u001b[38;5;124m\"\u001b[39m\u001b[38;5;124mPredicted rating for movie \u001b[39m\u001b[38;5;132;01m{\u001b[39;00mmovie\u001b[38;5;132;01m}\u001b[39;00m\u001b[38;5;124m is \u001b[39m\u001b[38;5;132;01m{\u001b[39;00mpredictScores(user,\u001b[38;5;250m \u001b[39mmovie)\u001b[38;5;132;01m}\u001b[39;00m\u001b[38;5;124m\"\u001b[39m)\n",
      "Cell \u001b[1;32mIn [35], line 2\u001b[0m, in \u001b[0;36mpredictScores\u001b[1;34m(user, movie)\u001b[0m\n\u001b[0;32m      1\u001b[0m \u001b[38;5;28;01mdef\u001b[39;00m \u001b[38;5;21mpredictScores\u001b[39m(user, movie):\n\u001b[1;32m----> 2\u001b[0m     bestUsers \u001b[38;5;241m=\u001b[39m \u001b[43mgetBest5Users\u001b[49m\u001b[43m(\u001b[49m\u001b[43muser\u001b[49m\u001b[43m)\u001b[49m\n\u001b[0;32m      3\u001b[0m     userRatings \u001b[38;5;241m=\u001b[39m dfTask[user]\n\u001b[0;32m      4\u001b[0m     \u001b[38;5;28;01mif\u001b[39;00m movie \u001b[38;5;129;01min\u001b[39;00m userRatings:\n",
      "Cell \u001b[1;32mIn [33], line 2\u001b[0m, in \u001b[0;36mgetBest5Users\u001b[1;34m(user, num, common_movies)\u001b[0m\n\u001b[0;32m      1\u001b[0m \u001b[38;5;28;01mdef\u001b[39;00m \u001b[38;5;21mgetBest5Users\u001b[39m(user, num \u001b[38;5;241m=\u001b[39m \u001b[38;5;241m5\u001b[39m, common_movies\u001b[38;5;241m=\u001b[39m\u001b[38;5;241m5\u001b[39m):\n\u001b[1;32m----> 2\u001b[0m     sorted_correlations \u001b[38;5;241m=\u001b[39m \u001b[43mgetBestCorrelations\u001b[49m\u001b[43m(\u001b[49m\u001b[43muser\u001b[49m\u001b[43m,\u001b[49m\u001b[43m \u001b[49m\u001b[43mcommon_movies\u001b[49m\u001b[38;5;241;43m=\u001b[39;49m\u001b[43mcommon_movies\u001b[49m\u001b[43m)\u001b[49m\n\u001b[0;32m      4\u001b[0m     \u001b[38;5;28mprint\u001b[39m(\u001b[38;5;124mf\u001b[39m\u001b[38;5;124m\"\u001b[39m\u001b[38;5;124mTop \u001b[39m\u001b[38;5;132;01m{\u001b[39;00mnum\u001b[38;5;132;01m}\u001b[39;00m\u001b[38;5;124m correlated users with the user \u001b[39m\u001b[38;5;132;01m{\u001b[39;00muser\u001b[38;5;132;01m}\u001b[39;00m\u001b[38;5;124m who have watched at least \u001b[39m\u001b[38;5;132;01m{\u001b[39;00mcommon_movies\u001b[38;5;132;01m}\u001b[39;00m\u001b[38;5;124m same movies are:\u001b[39m\u001b[38;5;124m\"\u001b[39m)\n\u001b[0;32m      5\u001b[0m     \u001b[38;5;28;01mfor\u001b[39;00m different_user, corr \u001b[38;5;129;01min\u001b[39;00m sorted_correlations[:num]:\n",
      "Cell \u001b[1;32mIn [25], line 5\u001b[0m, in \u001b[0;36mgetBestCorrelations\u001b[1;34m(user, common_movies)\u001b[0m\n\u001b[0;32m      3\u001b[0m \u001b[38;5;28;01mfor\u001b[39;00m other_user \u001b[38;5;129;01min\u001b[39;00m dfTask\u001b[38;5;241m.\u001b[39mcolumns:\n\u001b[0;32m      4\u001b[0m     \u001b[38;5;28;01mif\u001b[39;00m other_user \u001b[38;5;241m!=\u001b[39m user:\n\u001b[1;32m----> 5\u001b[0m         commonRatings \u001b[38;5;241m=\u001b[39m \u001b[43mdfTask\u001b[49m\u001b[43m[\u001b[49m\u001b[43m[\u001b[49m\u001b[43muser\u001b[49m\u001b[43m,\u001b[49m\u001b[43m \u001b[49m\u001b[43mother_user\u001b[49m\u001b[43m]\u001b[49m\u001b[43m]\u001b[49m\u001b[38;5;241m.\u001b[39mdropna()\n\u001b[0;32m      6\u001b[0m         \u001b[38;5;28;01mif\u001b[39;00m \u001b[38;5;28mlen\u001b[39m(commonRatings) \u001b[38;5;241m>\u001b[39m\u001b[38;5;241m=\u001b[39m common_movies: \u001b[38;5;66;03m# at least 2 common ratings for the pearson correlation\u001b[39;00m\n\u001b[0;32m      7\u001b[0m             correlations[other_user] \u001b[38;5;241m=\u001b[39m pearsonr(commonRatings[user], commonRatings[other_user])[\u001b[38;5;241m0\u001b[39m]\n",
      "File \u001b[1;32mc:\\Users\\mmart\\AppData\\Local\\Programs\\Python\\Python310\\lib\\site-packages\\pandas\\core\\frame.py:4117\u001b[0m, in \u001b[0;36mDataFrame.__getitem__\u001b[1;34m(self, key)\u001b[0m\n\u001b[0;32m   4114\u001b[0m \u001b[38;5;28;01mif\u001b[39;00m \u001b[38;5;28misinstance\u001b[39m(indexer, \u001b[38;5;28mslice\u001b[39m):\n\u001b[0;32m   4115\u001b[0m     \u001b[38;5;28;01mreturn\u001b[39;00m \u001b[38;5;28mself\u001b[39m\u001b[38;5;241m.\u001b[39m_slice(indexer, axis\u001b[38;5;241m=\u001b[39m\u001b[38;5;241m1\u001b[39m)\n\u001b[1;32m-> 4117\u001b[0m data \u001b[38;5;241m=\u001b[39m \u001b[38;5;28;43mself\u001b[39;49m\u001b[38;5;241;43m.\u001b[39;49m\u001b[43m_take_with_is_copy\u001b[49m\u001b[43m(\u001b[49m\u001b[43mindexer\u001b[49m\u001b[43m,\u001b[49m\u001b[43m \u001b[49m\u001b[43maxis\u001b[49m\u001b[38;5;241;43m=\u001b[39;49m\u001b[38;5;241;43m1\u001b[39;49m\u001b[43m)\u001b[49m\n\u001b[0;32m   4119\u001b[0m \u001b[38;5;28;01mif\u001b[39;00m is_single_key:\n\u001b[0;32m   4120\u001b[0m     \u001b[38;5;66;03m# What does looking for a single key in a non-unique index return?\u001b[39;00m\n\u001b[0;32m   4121\u001b[0m     \u001b[38;5;66;03m# The behavior is inconsistent. It returns a Series, except when\u001b[39;00m\n\u001b[0;32m   4122\u001b[0m     \u001b[38;5;66;03m# - the key itself is repeated (test on data.shape, #9519), or\u001b[39;00m\n\u001b[0;32m   4123\u001b[0m     \u001b[38;5;66;03m# - we have a MultiIndex on columns (test on self.columns, #21309)\u001b[39;00m\n\u001b[0;32m   4124\u001b[0m     \u001b[38;5;28;01mif\u001b[39;00m data\u001b[38;5;241m.\u001b[39mshape[\u001b[38;5;241m1\u001b[39m] \u001b[38;5;241m==\u001b[39m \u001b[38;5;241m1\u001b[39m \u001b[38;5;129;01mand\u001b[39;00m \u001b[38;5;129;01mnot\u001b[39;00m \u001b[38;5;28misinstance\u001b[39m(\u001b[38;5;28mself\u001b[39m\u001b[38;5;241m.\u001b[39mcolumns, MultiIndex):\n\u001b[0;32m   4125\u001b[0m         \u001b[38;5;66;03m# GH#26490 using data[key] can cause RecursionError\u001b[39;00m\n",
      "File \u001b[1;32mc:\\Users\\mmart\\AppData\\Local\\Programs\\Python\\Python310\\lib\\site-packages\\pandas\\core\\generic.py:4153\u001b[0m, in \u001b[0;36mNDFrame._take_with_is_copy\u001b[1;34m(self, indices, axis)\u001b[0m\n\u001b[0;32m   4142\u001b[0m \u001b[38;5;129m@final\u001b[39m\n\u001b[0;32m   4143\u001b[0m \u001b[38;5;28;01mdef\u001b[39;00m \u001b[38;5;21m_take_with_is_copy\u001b[39m(\u001b[38;5;28mself\u001b[39m, indices, axis: Axis \u001b[38;5;241m=\u001b[39m \u001b[38;5;241m0\u001b[39m) \u001b[38;5;241m-\u001b[39m\u001b[38;5;241m>\u001b[39m Self:\n\u001b[0;32m   4144\u001b[0m \u001b[38;5;250m    \u001b[39m\u001b[38;5;124;03m\"\"\"\u001b[39;00m\n\u001b[0;32m   4145\u001b[0m \u001b[38;5;124;03m    Internal version of the `take` method that sets the `_is_copy`\u001b[39;00m\n\u001b[0;32m   4146\u001b[0m \u001b[38;5;124;03m    attribute to keep track of the parent dataframe (using in indexing\u001b[39;00m\n\u001b[1;32m   (...)\u001b[0m\n\u001b[0;32m   4151\u001b[0m \u001b[38;5;124;03m    See the docstring of `take` for full explanation of the parameters.\u001b[39;00m\n\u001b[0;32m   4152\u001b[0m \u001b[38;5;124;03m    \"\"\"\u001b[39;00m\n\u001b[1;32m-> 4153\u001b[0m     result \u001b[38;5;241m=\u001b[39m \u001b[38;5;28;43mself\u001b[39;49m\u001b[38;5;241;43m.\u001b[39;49m\u001b[43mtake\u001b[49m\u001b[43m(\u001b[49m\u001b[43mindices\u001b[49m\u001b[38;5;241;43m=\u001b[39;49m\u001b[43mindices\u001b[49m\u001b[43m,\u001b[49m\u001b[43m \u001b[49m\u001b[43maxis\u001b[49m\u001b[38;5;241;43m=\u001b[39;49m\u001b[43maxis\u001b[49m\u001b[43m)\u001b[49m\n\u001b[0;32m   4154\u001b[0m     \u001b[38;5;66;03m# Maybe set copy if we didn't actually change the index.\u001b[39;00m\n\u001b[0;32m   4155\u001b[0m     \u001b[38;5;28;01mif\u001b[39;00m \u001b[38;5;28mself\u001b[39m\u001b[38;5;241m.\u001b[39mndim \u001b[38;5;241m==\u001b[39m \u001b[38;5;241m2\u001b[39m \u001b[38;5;129;01mand\u001b[39;00m \u001b[38;5;129;01mnot\u001b[39;00m result\u001b[38;5;241m.\u001b[39m_get_axis(axis)\u001b[38;5;241m.\u001b[39mequals(\u001b[38;5;28mself\u001b[39m\u001b[38;5;241m.\u001b[39m_get_axis(axis)):\n",
      "File \u001b[1;32mc:\\Users\\mmart\\AppData\\Local\\Programs\\Python\\Python310\\lib\\site-packages\\pandas\\core\\generic.py:4133\u001b[0m, in \u001b[0;36mNDFrame.take\u001b[1;34m(self, indices, axis, **kwargs)\u001b[0m\n\u001b[0;32m   4128\u001b[0m     \u001b[38;5;66;03m# We can get here with a slice via DataFrame.__getitem__\u001b[39;00m\n\u001b[0;32m   4129\u001b[0m     indices \u001b[38;5;241m=\u001b[39m np\u001b[38;5;241m.\u001b[39marange(\n\u001b[0;32m   4130\u001b[0m         indices\u001b[38;5;241m.\u001b[39mstart, indices\u001b[38;5;241m.\u001b[39mstop, indices\u001b[38;5;241m.\u001b[39mstep, dtype\u001b[38;5;241m=\u001b[39mnp\u001b[38;5;241m.\u001b[39mintp\n\u001b[0;32m   4131\u001b[0m     )\n\u001b[1;32m-> 4133\u001b[0m new_data \u001b[38;5;241m=\u001b[39m \u001b[38;5;28;43mself\u001b[39;49m\u001b[38;5;241;43m.\u001b[39;49m\u001b[43m_mgr\u001b[49m\u001b[38;5;241;43m.\u001b[39;49m\u001b[43mtake\u001b[49m\u001b[43m(\u001b[49m\n\u001b[0;32m   4134\u001b[0m \u001b[43m    \u001b[49m\u001b[43mindices\u001b[49m\u001b[43m,\u001b[49m\n\u001b[0;32m   4135\u001b[0m \u001b[43m    \u001b[49m\u001b[43maxis\u001b[49m\u001b[38;5;241;43m=\u001b[39;49m\u001b[38;5;28;43mself\u001b[39;49m\u001b[38;5;241;43m.\u001b[39;49m\u001b[43m_get_block_manager_axis\u001b[49m\u001b[43m(\u001b[49m\u001b[43maxis\u001b[49m\u001b[43m)\u001b[49m\u001b[43m,\u001b[49m\n\u001b[0;32m   4136\u001b[0m \u001b[43m    \u001b[49m\u001b[43mverify\u001b[49m\u001b[38;5;241;43m=\u001b[39;49m\u001b[38;5;28;43;01mTrue\u001b[39;49;00m\u001b[43m,\u001b[49m\n\u001b[0;32m   4137\u001b[0m \u001b[43m\u001b[49m\u001b[43m)\u001b[49m\n\u001b[0;32m   4138\u001b[0m \u001b[38;5;28;01mreturn\u001b[39;00m \u001b[38;5;28mself\u001b[39m\u001b[38;5;241m.\u001b[39m_constructor_from_mgr(new_data, axes\u001b[38;5;241m=\u001b[39mnew_data\u001b[38;5;241m.\u001b[39maxes)\u001b[38;5;241m.\u001b[39m__finalize__(\n\u001b[0;32m   4139\u001b[0m     \u001b[38;5;28mself\u001b[39m, method\u001b[38;5;241m=\u001b[39m\u001b[38;5;124m\"\u001b[39m\u001b[38;5;124mtake\u001b[39m\u001b[38;5;124m\"\u001b[39m\n\u001b[0;32m   4140\u001b[0m )\n",
      "File \u001b[1;32mc:\\Users\\mmart\\AppData\\Local\\Programs\\Python\\Python310\\lib\\site-packages\\pandas\\core\\internals\\managers.py:894\u001b[0m, in \u001b[0;36mBaseBlockManager.take\u001b[1;34m(self, indexer, axis, verify)\u001b[0m\n\u001b[0;32m    891\u001b[0m indexer \u001b[38;5;241m=\u001b[39m maybe_convert_indices(indexer, n, verify\u001b[38;5;241m=\u001b[39mverify)\n\u001b[0;32m    893\u001b[0m new_labels \u001b[38;5;241m=\u001b[39m \u001b[38;5;28mself\u001b[39m\u001b[38;5;241m.\u001b[39maxes[axis]\u001b[38;5;241m.\u001b[39mtake(indexer)\n\u001b[1;32m--> 894\u001b[0m \u001b[38;5;28;01mreturn\u001b[39;00m \u001b[38;5;28;43mself\u001b[39;49m\u001b[38;5;241;43m.\u001b[39;49m\u001b[43mreindex_indexer\u001b[49m\u001b[43m(\u001b[49m\n\u001b[0;32m    895\u001b[0m \u001b[43m    \u001b[49m\u001b[43mnew_axis\u001b[49m\u001b[38;5;241;43m=\u001b[39;49m\u001b[43mnew_labels\u001b[49m\u001b[43m,\u001b[49m\n\u001b[0;32m    896\u001b[0m \u001b[43m    \u001b[49m\u001b[43mindexer\u001b[49m\u001b[38;5;241;43m=\u001b[39;49m\u001b[43mindexer\u001b[49m\u001b[43m,\u001b[49m\n\u001b[0;32m    897\u001b[0m \u001b[43m    \u001b[49m\u001b[43maxis\u001b[49m\u001b[38;5;241;43m=\u001b[39;49m\u001b[43maxis\u001b[49m\u001b[43m,\u001b[49m\n\u001b[0;32m    898\u001b[0m \u001b[43m    \u001b[49m\u001b[43mallow_dups\u001b[49m\u001b[38;5;241;43m=\u001b[39;49m\u001b[38;5;28;43;01mTrue\u001b[39;49;00m\u001b[43m,\u001b[49m\n\u001b[0;32m    899\u001b[0m \u001b[43m    \u001b[49m\u001b[43mcopy\u001b[49m\u001b[38;5;241;43m=\u001b[39;49m\u001b[38;5;28;43;01mNone\u001b[39;49;00m\u001b[43m,\u001b[49m\n\u001b[0;32m    900\u001b[0m \u001b[43m\u001b[49m\u001b[43m)\u001b[49m\n",
      "File \u001b[1;32mc:\\Users\\mmart\\AppData\\Local\\Programs\\Python\\Python310\\lib\\site-packages\\pandas\\core\\internals\\managers.py:680\u001b[0m, in \u001b[0;36mBaseBlockManager.reindex_indexer\u001b[1;34m(self, new_axis, indexer, axis, fill_value, allow_dups, copy, only_slice, use_na_proxy)\u001b[0m\n\u001b[0;32m    677\u001b[0m     \u001b[38;5;28;01mraise\u001b[39;00m \u001b[38;5;167;01mIndexError\u001b[39;00m(\u001b[38;5;124m\"\u001b[39m\u001b[38;5;124mRequested axis not found in manager\u001b[39m\u001b[38;5;124m\"\u001b[39m)\n\u001b[0;32m    679\u001b[0m \u001b[38;5;28;01mif\u001b[39;00m axis \u001b[38;5;241m==\u001b[39m \u001b[38;5;241m0\u001b[39m:\n\u001b[1;32m--> 680\u001b[0m     new_blocks \u001b[38;5;241m=\u001b[39m \u001b[38;5;28;43mself\u001b[39;49m\u001b[38;5;241;43m.\u001b[39;49m\u001b[43m_slice_take_blocks_ax0\u001b[49m\u001b[43m(\u001b[49m\n\u001b[0;32m    681\u001b[0m \u001b[43m        \u001b[49m\u001b[43mindexer\u001b[49m\u001b[43m,\u001b[49m\n\u001b[0;32m    682\u001b[0m \u001b[43m        \u001b[49m\u001b[43mfill_value\u001b[49m\u001b[38;5;241;43m=\u001b[39;49m\u001b[43mfill_value\u001b[49m\u001b[43m,\u001b[49m\n\u001b[0;32m    683\u001b[0m \u001b[43m        \u001b[49m\u001b[43monly_slice\u001b[49m\u001b[38;5;241;43m=\u001b[39;49m\u001b[43monly_slice\u001b[49m\u001b[43m,\u001b[49m\n\u001b[0;32m    684\u001b[0m \u001b[43m        \u001b[49m\u001b[43muse_na_proxy\u001b[49m\u001b[38;5;241;43m=\u001b[39;49m\u001b[43muse_na_proxy\u001b[49m\u001b[43m,\u001b[49m\n\u001b[0;32m    685\u001b[0m \u001b[43m    \u001b[49m\u001b[43m)\u001b[49m\n\u001b[0;32m    686\u001b[0m \u001b[38;5;28;01melse\u001b[39;00m:\n\u001b[0;32m    687\u001b[0m     new_blocks \u001b[38;5;241m=\u001b[39m [\n\u001b[0;32m    688\u001b[0m         blk\u001b[38;5;241m.\u001b[39mtake_nd(\n\u001b[0;32m    689\u001b[0m             indexer,\n\u001b[1;32m   (...)\u001b[0m\n\u001b[0;32m    695\u001b[0m         \u001b[38;5;28;01mfor\u001b[39;00m blk \u001b[38;5;129;01min\u001b[39;00m \u001b[38;5;28mself\u001b[39m\u001b[38;5;241m.\u001b[39mblocks\n\u001b[0;32m    696\u001b[0m     ]\n",
      "File \u001b[1;32mc:\\Users\\mmart\\AppData\\Local\\Programs\\Python\\Python310\\lib\\site-packages\\pandas\\core\\internals\\managers.py:843\u001b[0m, in \u001b[0;36mBaseBlockManager._slice_take_blocks_ax0\u001b[1;34m(self, slice_or_indexer, fill_value, only_slice, use_na_proxy, ref_inplace_op)\u001b[0m\n\u001b[0;32m    841\u001b[0m                     blocks\u001b[38;5;241m.\u001b[39mappend(nb)\n\u001b[0;32m    842\u001b[0m             \u001b[38;5;28;01melse\u001b[39;00m:\n\u001b[1;32m--> 843\u001b[0m                 nb \u001b[38;5;241m=\u001b[39m \u001b[43mblk\u001b[49m\u001b[38;5;241;43m.\u001b[39;49m\u001b[43mtake_nd\u001b[49m\u001b[43m(\u001b[49m\u001b[43mtaker\u001b[49m\u001b[43m,\u001b[49m\u001b[43m \u001b[49m\u001b[43maxis\u001b[49m\u001b[38;5;241;43m=\u001b[39;49m\u001b[38;5;241;43m0\u001b[39;49m\u001b[43m,\u001b[49m\u001b[43m \u001b[49m\u001b[43mnew_mgr_locs\u001b[49m\u001b[38;5;241;43m=\u001b[39;49m\u001b[43mmgr_locs\u001b[49m\u001b[43m)\u001b[49m\n\u001b[0;32m    844\u001b[0m                 blocks\u001b[38;5;241m.\u001b[39mappend(nb)\n\u001b[0;32m    846\u001b[0m \u001b[38;5;28;01mreturn\u001b[39;00m blocks\n",
      "File \u001b[1;32mc:\\Users\\mmart\\AppData\\Local\\Programs\\Python\\Python310\\lib\\site-packages\\pandas\\core\\internals\\blocks.py:1307\u001b[0m, in \u001b[0;36mBlock.take_nd\u001b[1;34m(self, indexer, axis, new_mgr_locs, fill_value)\u001b[0m\n\u001b[0;32m   1304\u001b[0m     allow_fill \u001b[38;5;241m=\u001b[39m \u001b[38;5;28;01mTrue\u001b[39;00m\n\u001b[0;32m   1306\u001b[0m \u001b[38;5;66;03m# Note: algos.take_nd has upcast logic similar to coerce_to_target_dtype\u001b[39;00m\n\u001b[1;32m-> 1307\u001b[0m new_values \u001b[38;5;241m=\u001b[39m \u001b[43malgos\u001b[49m\u001b[38;5;241;43m.\u001b[39;49m\u001b[43mtake_nd\u001b[49m\u001b[43m(\u001b[49m\n\u001b[0;32m   1308\u001b[0m \u001b[43m    \u001b[49m\u001b[43mvalues\u001b[49m\u001b[43m,\u001b[49m\u001b[43m \u001b[49m\u001b[43mindexer\u001b[49m\u001b[43m,\u001b[49m\u001b[43m \u001b[49m\u001b[43maxis\u001b[49m\u001b[38;5;241;43m=\u001b[39;49m\u001b[43maxis\u001b[49m\u001b[43m,\u001b[49m\u001b[43m \u001b[49m\u001b[43mallow_fill\u001b[49m\u001b[38;5;241;43m=\u001b[39;49m\u001b[43mallow_fill\u001b[49m\u001b[43m,\u001b[49m\u001b[43m \u001b[49m\u001b[43mfill_value\u001b[49m\u001b[38;5;241;43m=\u001b[39;49m\u001b[43mfill_value\u001b[49m\n\u001b[0;32m   1309\u001b[0m \u001b[43m\u001b[49m\u001b[43m)\u001b[49m\n\u001b[0;32m   1311\u001b[0m \u001b[38;5;66;03m# Called from three places in managers, all of which satisfy\u001b[39;00m\n\u001b[0;32m   1312\u001b[0m \u001b[38;5;66;03m#  these assertions\u001b[39;00m\n\u001b[0;32m   1313\u001b[0m \u001b[38;5;28;01mif\u001b[39;00m \u001b[38;5;28misinstance\u001b[39m(\u001b[38;5;28mself\u001b[39m, ExtensionBlock):\n\u001b[0;32m   1314\u001b[0m     \u001b[38;5;66;03m# NB: in this case, the 'axis' kwarg will be ignored in the\u001b[39;00m\n\u001b[0;32m   1315\u001b[0m     \u001b[38;5;66;03m#  algos.take_nd call above.\u001b[39;00m\n",
      "File \u001b[1;32mc:\\Users\\mmart\\AppData\\Local\\Programs\\Python\\Python310\\lib\\site-packages\\pandas\\core\\array_algos\\take.py:117\u001b[0m, in \u001b[0;36mtake_nd\u001b[1;34m(arr, indexer, axis, fill_value, allow_fill)\u001b[0m\n\u001b[0;32m    114\u001b[0m     \u001b[38;5;28;01mreturn\u001b[39;00m arr\u001b[38;5;241m.\u001b[39mtake(indexer, fill_value\u001b[38;5;241m=\u001b[39mfill_value, allow_fill\u001b[38;5;241m=\u001b[39mallow_fill)\n\u001b[0;32m    116\u001b[0m arr \u001b[38;5;241m=\u001b[39m np\u001b[38;5;241m.\u001b[39masarray(arr)\n\u001b[1;32m--> 117\u001b[0m \u001b[38;5;28;01mreturn\u001b[39;00m \u001b[43m_take_nd_ndarray\u001b[49m\u001b[43m(\u001b[49m\u001b[43marr\u001b[49m\u001b[43m,\u001b[49m\u001b[43m \u001b[49m\u001b[43mindexer\u001b[49m\u001b[43m,\u001b[49m\u001b[43m \u001b[49m\u001b[43maxis\u001b[49m\u001b[43m,\u001b[49m\u001b[43m \u001b[49m\u001b[43mfill_value\u001b[49m\u001b[43m,\u001b[49m\u001b[43m \u001b[49m\u001b[43mallow_fill\u001b[49m\u001b[43m)\u001b[49m\n",
      "File \u001b[1;32mc:\\Users\\mmart\\AppData\\Local\\Programs\\Python\\Python310\\lib\\site-packages\\pandas\\core\\array_algos\\take.py:162\u001b[0m, in \u001b[0;36m_take_nd_ndarray\u001b[1;34m(arr, indexer, axis, fill_value, allow_fill)\u001b[0m\n\u001b[0;32m    157\u001b[0m     out \u001b[38;5;241m=\u001b[39m np\u001b[38;5;241m.\u001b[39mempty(out_shape, dtype\u001b[38;5;241m=\u001b[39mdtype)\n\u001b[0;32m    159\u001b[0m func \u001b[38;5;241m=\u001b[39m _get_take_nd_function(\n\u001b[0;32m    160\u001b[0m     arr\u001b[38;5;241m.\u001b[39mndim, arr\u001b[38;5;241m.\u001b[39mdtype, out\u001b[38;5;241m.\u001b[39mdtype, axis\u001b[38;5;241m=\u001b[39maxis, mask_info\u001b[38;5;241m=\u001b[39mmask_info\n\u001b[0;32m    161\u001b[0m )\n\u001b[1;32m--> 162\u001b[0m \u001b[43mfunc\u001b[49m\u001b[43m(\u001b[49m\u001b[43marr\u001b[49m\u001b[43m,\u001b[49m\u001b[43m \u001b[49m\u001b[43mindexer\u001b[49m\u001b[43m,\u001b[49m\u001b[43m \u001b[49m\u001b[43mout\u001b[49m\u001b[43m,\u001b[49m\u001b[43m \u001b[49m\u001b[43mfill_value\u001b[49m\u001b[43m)\u001b[49m\n\u001b[0;32m    164\u001b[0m \u001b[38;5;28;01mif\u001b[39;00m flip_order:\n\u001b[0;32m    165\u001b[0m     out \u001b[38;5;241m=\u001b[39m out\u001b[38;5;241m.\u001b[39mT\n",
      "\u001b[1;31mKeyboardInterrupt\u001b[0m: "
     ]
    }
   ],
   "source": [
    "for movie in dfTask.index:\n",
    "    print(f\"Predicted rating for movie {movie} is {predictScores(user, movie)}\")\n"
   ]
  },
  {
   "cell_type": "code",
   "execution_count": null,
   "metadata": {},
   "outputs": [],
   "source": []
  },
  {
   "cell_type": "markdown",
   "metadata": {},
   "source": [
    "### Task\n",
    "How to check the quality of our recommendations? \n",
    "\n",
    "We have to remove a few scores from the dataset and then compare predictions with the real ones."
   ]
  },
  {
   "cell_type": "code",
   "execution_count": null,
   "metadata": {},
   "outputs": [],
   "source": []
  },
  {
   "cell_type": "code",
   "execution_count": null,
   "metadata": {},
   "outputs": [],
   "source": []
  },
  {
   "cell_type": "code",
   "execution_count": null,
   "metadata": {},
   "outputs": [],
   "source": []
  },
  {
   "cell_type": "markdown",
   "metadata": {},
   "source": [
    "Try to improve the system, you can use the following ideas:\n",
    " - Can we use more users (e.g. with negative correlation)?\n",
    " - Which difference is more important predicting 5 when a real score is 4 or predicting 3 instead of 2?\n",
    " - Did we use the best value for the minimal number of common movies?\n",
    " - Is prediction for a movie seen by just one user trustworthy?\n",
    " \n",
    " \n",
    "Describe your approach, its strengths and weaknesses, and analyze the results. Send the report (notebook with comments/markdown) within 144 hours after the class to gmiebs@cs.put.poznan.pl, start the subject with [IR]"
   ]
  },
  {
   "cell_type": "markdown",
   "metadata": {},
   "source": [
    "Credits to F. Maxwell Harper and Joseph A. Konstan. 2015. The MovieLens Datasets: History and Context. ACM Transactions on Interactive Intelligent Systems (TiiS) 5, 4: 19:1–19:19. https://doi.org/10.1145/2827872 and Mateusz Lango"
   ]
  }
 ],
 "metadata": {
  "kernelspec": {
   "display_name": "Python 3",
   "language": "python",
   "name": "python3"
  },
  "language_info": {
   "codemirror_mode": {
    "name": "ipython",
    "version": 3
   },
   "file_extension": ".py",
   "mimetype": "text/x-python",
   "name": "python",
   "nbconvert_exporter": "python",
   "pygments_lexer": "ipython3",
   "version": "3.10.7"
  }
 },
 "nbformat": 4,
 "nbformat_minor": 1
}
