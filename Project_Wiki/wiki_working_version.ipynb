{
 "cells": [
  {
   "cell_type": "markdown",
   "metadata": {},
   "source": [
    "Wikipedia Recommendation system\n",
    "\n",
    "-----\n",
    "\n",
    "Authors:\n",
    "- Martyna Stasiak id.156071"
   ]
  },
  {
   "cell_type": "markdown",
   "metadata": {},
   "source": [
    "The aim of this project is to generate the recommendations on wikipedia articles basing on the ones that user have liked. <br>\n",
    "To do that we have used 10 000 initial articles that were obtained by web crawling, starting from the https://en.wikipedia.org/wiki/Machine_learning article; later they were saved in the csv file, so if there is a need the file working as our database might be changed.\n",
    "\n",
    "------"
   ]
  },
  {
   "cell_type": "markdown",
   "metadata": {},
   "source": [
    "Libraries that we have used and are necessary for this project:"
   ]
  },
  {
   "cell_type": "code",
   "execution_count": 4,
   "metadata": {},
   "outputs": [],
   "source": [
    "import requests\n",
    "from bs4 import BeautifulSoup\n",
    "import pandas as pd\n",
    "import time\n",
    "import nltk\n",
    "from nltk.corpus import stopwords\n",
    "from nltk.stem import WordNetLemmatizer\n",
    "import re\n",
    "from sklearn.feature_extraction.text import TfidfVectorizer\n",
    "from sklearn.metrics.pairwise import cosine_similarity"
   ]
  },
  {
   "cell_type": "markdown",
   "metadata": {},
   "source": [
    "### Crawling and saving our articles"
   ]
  },
  {
   "cell_type": "markdown",
   "metadata": {},
   "source": [
    "In this part we create the file that will work as or database containing all possible wikipedia articles. <br>\n",
    "We perform the crawling by ...... <explain precisely> <br>\n"
   ]
  },
  {
   "cell_type": "code",
   "execution_count": 5,
   "metadata": {},
   "outputs": [],
   "source": [
    "def crawl_articles(start_url, max_articles=1000):\n",
    "    visited = set()\n",
    "    to_visit = [start_url]\n",
    "    articles = []\n",
    "    \n",
    "    while to_visit and len(articles) < max_articles:\n",
    "        url = to_visit.pop(0)\n",
    "        if url in visited:\n",
    "            continue\n",
    "        visited.add(url)\n",
    "        \n",
    "        try:\n",
    "            response = requests.get(url)\n",
    "            soup = BeautifulSoup(response.content, 'html.parser')\n",
    "            \n",
    "            title = soup.find('h1').text\n",
    "            paragraphs = soup.find_all('p')\n",
    "            content = ' '.join([p.text for p in paragraphs])\n",
    "            articles.append({\"title\": title, \"link\": url, \"content\": content})\n",
    "            \n",
    "            # Extract new links\n",
    "            for link in soup.find_all('a', href=True):\n",
    "                full_url = \"https://en.wikipedia.org\" + link['href']\n",
    "                if '/wiki/' in link['href'] and ':' not in link['href']:\n",
    "                    to_visit.append(full_url)\n",
    "            time.sleep(0.5)\n",
    "        except:\n",
    "            pass\n",
    "        \n",
    "    return articles\n",
    "\n",
    "# Start crawling from a Wikipedia page\n",
    "start_url = \"https://en.wikipedia.org/wiki/Machine_learning\"\n",
    "articles = crawl_articles(start_url, max_articles=10)\n",
    "\n",
    "# Save the articles\n",
    "df = pd.DataFrame(articles)\n",
    "df.to_csv(\"wikipedia_articles.csv\", index=False)"
   ]
  },
  {
   "cell_type": "markdown",
   "metadata": {},
   "source": [
    "### Text preprocessing"
   ]
  },
  {
   "cell_type": "markdown",
   "metadata": {},
   "source": [
    "Now when we have the database containing the articles we have to do the preprocessing; <br>\n",
    "we have done: \n",
    "- lemmatization\n",
    "- deleting the stopwords\n",
    "- "
   ]
  },
  {
   "cell_type": "code",
   "execution_count": 6,
   "metadata": {},
   "outputs": [
    {
     "name": "stderr",
     "output_type": "stream",
     "text": [
      "[nltk_data] Downloading package stopwords to\n",
      "[nltk_data]     C:\\Users\\mmart\\AppData\\Roaming\\nltk_data...\n",
      "[nltk_data]   Package stopwords is already up-to-date!\n",
      "[nltk_data] Downloading package wordnet to\n",
      "[nltk_data]     C:\\Users\\mmart\\AppData\\Roaming\\nltk_data...\n",
      "[nltk_data]   Package wordnet is already up-to-date!\n",
      "[nltk_data] Downloading package punkt to\n",
      "[nltk_data]     C:\\Users\\mmart\\AppData\\Roaming\\nltk_data...\n",
      "[nltk_data]   Package punkt is already up-to-date!\n"
     ]
    }
   ],
   "source": [
    "nltk.download('stopwords')\n",
    "nltk.download('wordnet')\n",
    "nltk.download('punkt')\n",
    "\n",
    "stop_words = set(stopwords.words('english'))\n",
    "lemmatizer = WordNetLemmatizer()\n",
    "\n",
    "def preprocess_text(text):\n",
    "    text = re.sub(r'[^a-zA-Z\\s]', '', text.lower())\n",
    "    words = nltk.word_tokenize(text)\n",
    "    clean_words = [lemmatizer.lemmatize(word) for word in words if word not in stop_words]\n",
    "    return ' '.join(clean_words)\n",
    "\n",
    "# Preprocess content\n",
    "df['clean_content'] = df['content'].apply(preprocess_text)\n",
    "df.to_csv(\"cleaned_wikipedia_articles.csv\", index=False)"
   ]
  },
  {
   "cell_type": "markdown",
   "metadata": {},
   "source": [
    "### TF-IDF and Cosine Similarity"
   ]
  },
  {
   "cell_type": "code",
   "execution_count": 9,
   "metadata": {},
   "outputs": [
    {
     "name": "stdout",
     "output_type": "stream",
     "text": [
      "                   title                                               link  \\\n",
      "6  Unsupervised learning  https://en.wikipedia.org/wiki/Unsupervised_lea...   \n",
      "\n",
      "   mean_similarity  \n",
      "6         0.513629  \n"
     ]
    }
   ],
   "source": [
    "df = pd.read_csv(\"cleaned_wikipedia_articles.csv\")\n",
    "\n",
    "# TF-IDF Vectorization\n",
    "vectorizer = TfidfVectorizer()\n",
    "tfidf_matrix = vectorizer.fit_transform(df['clean_content'])\n",
    "\n",
    "def recommend_articles(input_titles, top_n=5):\n",
    "    # Find indices of the input articles\n",
    "    input_indices = df[df['title'].isin(input_titles)].index\n",
    "    \n",
    "    # Compute the cosine similarity between input and all articles\n",
    "    input_vectors = tfidf_matrix[input_indices]\n",
    "    similarities = cosine_similarity(input_vectors, tfidf_matrix)\n",
    "    mean_similarity = similarities.mean(axis=0)\n",
    "    \n",
    "    \n",
    "    df['mean_similarity'] = mean_similarity\n",
    "    \n",
    "    recommendations = df.loc[~df.index.isin(input_indices)]\n",
    "    \n",
    "    recommend_articles = recommendations.nlargest(top_n, 'mean_similarity')\n",
    "    \n",
    "    return recommend_articles[['title', 'link', 'mean_similarity']]\n",
    "\n",
    "\n",
    "# Example: Recommend articles based on previously visited ones\n",
    "visited_titles = [\"Machine learning\", \"Artificial intelligence\"]\n",
    "recommended_articles = recommend_articles(visited_titles, top_n=1)\n",
    "print(recommended_articles)"
   ]
  }
 ],
 "metadata": {
  "kernelspec": {
   "display_name": "Python 3",
   "language": "python",
   "name": "python3"
  },
  "language_info": {
   "codemirror_mode": {
    "name": "ipython",
    "version": 3
   },
   "file_extension": ".py",
   "mimetype": "text/x-python",
   "name": "python",
   "nbconvert_exporter": "python",
   "pygments_lexer": "ipython3",
   "version": "3.10.7"
  }
 },
 "nbformat": 4,
 "nbformat_minor": 2
}
